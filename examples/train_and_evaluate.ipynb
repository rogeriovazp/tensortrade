{
 "cells": [
  {
   "cell_type": "markdown",
   "metadata": {},
   "source": [
    "## Install TensorTrade"
   ]
  },
  {
   "cell_type": "code",
   "execution_count": 6,
   "metadata": {},
   "outputs": [],
   "source": [
    "import sys\n",
    "from pathlib import Path\n",
    "path=Path(sys.path[0])\n",
    "sys.path.append(str(path.parent.absolute()))\n"
   ]
  },
  {
   "cell_type": "markdown",
   "metadata": {},
   "source": [
    "## Setup Data Fetching"
   ]
  },
  {
   "cell_type": "code",
   "execution_count": 7,
   "metadata": {},
   "outputs": [],
   "source": [
    "import pandas as pd\n",
    "import tensortrade.env.default as default\n",
    "\n",
    "from tensortrade.data.cdd import CryptoDataDownload\n",
    "from tensortrade.feed.core import Stream, DataFeed\n",
    "from tensortrade.oms.exchanges import Exchange\n",
    "from tensortrade.oms.services.execution.simulated import execute_order\n",
    "from tensortrade.oms.instruments import USD, BTC, ETH\n",
    "from tensortrade.oms.wallets import Wallet, Portfolio\n",
    "from tensortrade.agents import DQNAgent\n",
    "\n",
    "\n",
    "%matplotlib inline"
   ]
  },
  {
   "cell_type": "code",
   "execution_count": 8,
   "metadata": {},
   "outputs": [],
   "source": [
    "cdd = CryptoDataDownload()\n",
    "\n",
    "data = cdd.fetch(\"Bitstamp\", \"USD\", \"BTC\", \"1h\")"
   ]
  },
  {
   "cell_type": "code",
   "execution_count": 9,
   "metadata": {},
   "outputs": [
    {
     "output_type": "execute_result",
     "data": {
      "text/plain": [
       "                 date        unix     open     high      low    close   volume\n",
       "0 2018-05-15 06:00:00  1526364000  8733.86  8796.68  8707.28  8740.99   559.93\n",
       "1 2018-05-15 07:00:00  1526367600  8740.99  8766.00  8721.11  8739.00   273.58\n",
       "2 2018-05-15 08:00:00  1526371200  8739.00  8750.27  8660.53  8728.49   917.79\n",
       "3 2018-05-15 09:00:00  1526374800  8728.49  8754.40  8701.35  8708.32   182.62\n",
       "4 2018-05-15 10:00:00  1526378400  8708.32  8865.00  8695.11  8795.90  1260.69"
      ],
      "text/html": "<div>\n<style scoped>\n    .dataframe tbody tr th:only-of-type {\n        vertical-align: middle;\n    }\n\n    .dataframe tbody tr th {\n        vertical-align: top;\n    }\n\n    .dataframe thead th {\n        text-align: right;\n    }\n</style>\n<table border=\"1\" class=\"dataframe\">\n  <thead>\n    <tr style=\"text-align: right;\">\n      <th></th>\n      <th>date</th>\n      <th>unix</th>\n      <th>open</th>\n      <th>high</th>\n      <th>low</th>\n      <th>close</th>\n      <th>volume</th>\n    </tr>\n  </thead>\n  <tbody>\n    <tr>\n      <th>0</th>\n      <td>2018-05-15 06:00:00</td>\n      <td>1526364000</td>\n      <td>8733.86</td>\n      <td>8796.68</td>\n      <td>8707.28</td>\n      <td>8740.99</td>\n      <td>559.93</td>\n    </tr>\n    <tr>\n      <th>1</th>\n      <td>2018-05-15 07:00:00</td>\n      <td>1526367600</td>\n      <td>8740.99</td>\n      <td>8766.00</td>\n      <td>8721.11</td>\n      <td>8739.00</td>\n      <td>273.58</td>\n    </tr>\n    <tr>\n      <th>2</th>\n      <td>2018-05-15 08:00:00</td>\n      <td>1526371200</td>\n      <td>8739.00</td>\n      <td>8750.27</td>\n      <td>8660.53</td>\n      <td>8728.49</td>\n      <td>917.79</td>\n    </tr>\n    <tr>\n      <th>3</th>\n      <td>2018-05-15 09:00:00</td>\n      <td>1526374800</td>\n      <td>8728.49</td>\n      <td>8754.40</td>\n      <td>8701.35</td>\n      <td>8708.32</td>\n      <td>182.62</td>\n    </tr>\n    <tr>\n      <th>4</th>\n      <td>2018-05-15 10:00:00</td>\n      <td>1526378400</td>\n      <td>8708.32</td>\n      <td>8865.00</td>\n      <td>8695.11</td>\n      <td>8795.90</td>\n      <td>1260.69</td>\n    </tr>\n  </tbody>\n</table>\n</div>"
     },
     "metadata": {},
     "execution_count": 9
    }
   ],
   "source": [
    "data.head()"
   ]
  },
  {
   "cell_type": "markdown",
   "metadata": {},
   "source": [
    "## Create features with the feed module"
   ]
  },
  {
   "cell_type": "code",
   "execution_count": 10,
   "metadata": {},
   "outputs": [],
   "source": [
    "def rsi(price: Stream[float], period: float) -> Stream[float]:\n",
    "    r = price.diff()\n",
    "    upside = r.clamp_min(0).abs()\n",
    "    downside = r.clamp_max(0).abs()\n",
    "    rs = upside.ewm(alpha=1 / period).mean() / downside.ewm(alpha=1 / period).mean()\n",
    "    return 100*(1 - (1 + rs) ** -1)\n",
    "\n",
    "\n",
    "def macd(price: Stream[float], fast: float, slow: float, signal: float) -> Stream[float]:\n",
    "    fm = price.ewm(span=fast, adjust=False).mean()\n",
    "    sm = price.ewm(span=slow, adjust=False).mean()\n",
    "    md = fm - sm\n",
    "    signal = md - md.ewm(span=signal, adjust=False).mean()\n",
    "    return signal\n",
    "\n",
    "\n",
    "features = []\n",
    "for c in data.columns[1:]:\n",
    "    s = Stream.source(list(data[c]), dtype=\"float\").rename(data[c].name)\n",
    "    features += [s]\n",
    "\n",
    "cp = Stream.select(features, lambda s: s.name == \"close\")\n",
    "\n",
    "features = [\n",
    "    cp.log().diff().rename(\"lr\"),\n",
    "    rsi(cp, period=20).rename(\"rsi\"),\n",
    "    macd(cp, fast=10, slow=50, signal=5).rename(\"macd\")\n",
    "]\n",
    "\n",
    "feed = DataFeed(features)\n",
    "feed.compile()"
   ]
  },
  {
   "cell_type": "code",
   "execution_count": 11,
   "metadata": {},
   "outputs": [
    {
     "output_type": "stream",
     "name": "stdout",
     "text": [
      "{'lr': nan, 'rsi': nan, 'macd': 0.0}\n{'lr': -0.00022768891842694927, 'rsi': 0.0, 'macd': -0.1891859774210995}\n{'lr': -0.0012033785355889393, 'rsi': 0.0, 'macd': -1.2726616061000744}\n{'lr': -0.0023134975946028646, 'rsi': 0.0, 'macd': -3.6577343503541435}\n{'lr': 0.01000681330867259, 'rsi': 74.26253567956897, 'macd': 3.7087743627464844}\n"
     ]
    }
   ],
   "source": [
    "for i in range(5):\n",
    "    print(feed.next())"
   ]
  },
  {
   "cell_type": "markdown",
   "metadata": {},
   "source": [
    "## Setup Trading Environment"
   ]
  },
  {
   "cell_type": "code",
   "execution_count": 12,
   "metadata": {},
   "outputs": [],
   "source": [
    "bitstamp = Exchange(\"bitstamp\", service=execute_order)(\n",
    "    Stream.source(list(data[\"close\"]), dtype=\"float\").rename(\"USD-BTC\")\n",
    ")\n",
    "\n",
    "portfolio = Portfolio(USD, [\n",
    "    Wallet(bitstamp, 10000 * USD),\n",
    "    Wallet(bitstamp, 10 * BTC)\n",
    "])\n",
    "\n",
    "\n",
    "renderer_feed = DataFeed([\n",
    "    Stream.source(list(data[\"date\"])).rename(\"date\"),\n",
    "    Stream.source(list(data[\"open\"]), dtype=\"float\").rename(\"open\"),\n",
    "    Stream.source(list(data[\"high\"]), dtype=\"float\").rename(\"high\"),\n",
    "    Stream.source(list(data[\"low\"]), dtype=\"float\").rename(\"low\"),\n",
    "    Stream.source(list(data[\"close\"]), dtype=\"float\").rename(\"close\"), \n",
    "    Stream.source(list(data[\"volume\"]), dtype=\"float\").rename(\"volume\") \n",
    "])\n",
    "\n",
    "\n",
    "env = default.create(\n",
    "    portfolio=portfolio,\n",
    "    action_scheme=\"managed-risk\",\n",
    "    reward_scheme=\"risk-adjusted\",\n",
    "    feed=feed,\n",
    "    renderer_feed=renderer_feed,\n",
    "    renderer=default.renderers.PlotlyTradingChart(),\n",
    "    window_size=20\n",
    ")"
   ]
  },
  {
   "cell_type": "code",
   "execution_count": 13,
   "metadata": {},
   "outputs": [
    {
     "output_type": "execute_result",
     "data": {
      "text/plain": [
       "{'internal': {'bitstamp:/USD-BTC': 8740.99,\n",
       "  'bitstamp:/USD:/free': 10000.0,\n",
       "  'bitstamp:/USD:/locked': 0.0,\n",
       "  'bitstamp:/USD:/total': 10000.0,\n",
       "  'bitstamp:/BTC:/free': 10.0,\n",
       "  'bitstamp:/BTC:/locked': 0.0,\n",
       "  'bitstamp:/BTC:/total': 10.0,\n",
       "  'bitstamp:/BTC:/worth': 87409.9,\n",
       "  'net_worth': 97409.9},\n",
       " 'external': {'lr': nan, 'rsi': nan, 'macd': 0.0},\n",
       " 'renderer': {'date': Timestamp('2018-05-15 06:00:00'),\n",
       "  'open': 8733.86,\n",
       "  'high': 8796.68,\n",
       "  'low': 8707.28,\n",
       "  'close': 8740.99,\n",
       "  'volume': 559.93}}"
      ]
     },
     "metadata": {},
     "execution_count": 13
    }
   ],
   "source": [
    "env.observer.feed.next()"
   ]
  },
  {
   "cell_type": "markdown",
   "metadata": {},
   "source": [
    "## Setup and Train DQN Agent"
   ]
  },
  {
   "cell_type": "code",
   "execution_count": 14,
   "metadata": {},
   "outputs": [
    {
     "output_type": "display_data",
     "data": {
      "text/plain": "FigureWidget({\n    'data': [{'close': array([8740.99, 8739.  , 8728.49, ..., 7911.83, 7901.01, 7887.  ]),\n    …",
      "application/vnd.jupyter.widget-view+json": {
       "version_major": 2,
       "version_minor": 0,
       "model_id": "770a587930f04eba8e00c05b26a54679"
      }
     },
     "metadata": {}
    },
    {
     "output_type": "display_data",
     "data": {
      "application/vnd.plotly.v1+json": {
       "config": {
        "plotlyServerURL": "https://plot.ly"
       },
       "data": [
        {
         "close": [
          8740.99,
          8739,
          8728.49,
          8708.32,
          8795.9,
          8760,
          8760,
          8759.23,
          8517.77,
          8520.3,
          8535.23,
          8546.34,
          8526.65,
          8555.6,
          8512.1,
          8492.28,
          8460,
          8474.99,
          8455.92,
          8326.28,
          8133.43,
          8164.79,
          8229.38,
          8220.4,
          8238.8,
          8232.99,
          8207.48,
          8243.45,
          8371.13,
          8373,
          8365.08,
          8179.99,
          8225,
          8285.8,
          8273.4,
          8297.4,
          8279.89,
          8252.72,
          8302.18,
          8295.85,
          8277.25,
          8346.59,
          8358.3,
          8375.1,
          8368.62,
          8366.72,
          8314.77,
          8363.7,
          8344.16,
          8247.4,
          8277.4
         ],
         "high": [
          8796.68,
          8766,
          8750.27,
          8754.4,
          8865,
          8821.19,
          8798.6,
          8771.02,
          8761.7,
          8553.67,
          8589.1,
          8579.48,
          8555.51,
          8583.6,
          8569.92,
          8555.54,
          8557.51,
          8505,
          8505.33,
          8478.29,
          8339.81,
          8217.44,
          8252.72,
          8248.63,
          8267.12,
          8255,
          8261.24,
          8263.93,
          8455.66,
          8439.44,
          8399.1,
          8381.73,
          8229.91,
          8377.29,
          8329.1,
          8350,
          8346.95,
          8377.29,
          8311.35,
          8319.96,
          8398.24,
          8372.58,
          8399.99,
          8386.53,
          8400,
          8500,
          8381,
          8371.3,
          8382.41,
          8351,
          8292.99
         ],
         "low": [
          8707.28,
          8721.11,
          8660.53,
          8701.35,
          8695.11,
          8740.54,
          8741.52,
          8700,
          8467.42,
          8477.89,
          8500.78,
          8500,
          8400,
          8451.05,
          8461.38,
          8481.24,
          8420.37,
          8450,
          8430.94,
          8275.02,
          8100.01,
          8122.56,
          8157.01,
          8166.25,
          8176.91,
          8213.79,
          8200,
          8207.48,
          8237.1,
          8370,
          8356.4,
          8145.1,
          8173.6,
          8211.8,
          8201,
          8250.9,
          8266.46,
          8252.72,
          8232.14,
          8268.37,
          8277.25,
          8277.25,
          8314.78,
          8314.77,
          8350.07,
          8331.39,
          8314.77,
          8275.45,
          8335.49,
          8191.14,
          8227.7
         ],
         "name": "Price",
         "open": [
          8733.86,
          8740.99,
          8739,
          8728.49,
          8708.32,
          8795.9,
          8760,
          8760,
          8759.23,
          8517.77,
          8520.3,
          8535.23,
          8546.34,
          8526.65,
          8555.6,
          8512.1,
          8492.28,
          8460,
          8474.99,
          8455.92,
          8326.28,
          8133.43,
          8164.79,
          8229.38,
          8220.4,
          8238.8,
          8232.99,
          8207.48,
          8243.45,
          8371.13,
          8373,
          8365.08,
          8179.99,
          8225,
          8285.8,
          8273.4,
          8297.4,
          8279.89,
          8252.72,
          8302.18,
          8295.85,
          8277.25,
          8346.59,
          8358.3,
          8375.1,
          8368.62,
          8366.72,
          8314.77,
          8363.7,
          8344.16,
          8247.4
         ],
         "showlegend": false,
         "type": "candlestick",
         "uid": "e28b1968-48ed-4f4b-afae-b71591fdf84c",
         "xaxis": "x",
         "yaxis": "y"
        },
        {
         "marker": {
          "color": "DodgerBlue"
         },
         "name": "Volume",
         "showlegend": false,
         "type": "bar",
         "uid": "03610c5d-a369-4c9b-a287-9984c1a8d9ae",
         "xaxis": "x2",
         "y": [
          559.93,
          273.58,
          917.79,
          182.62,
          1260.69,
          324.11,
          324.2,
          730.67,
          1341.75,
          792.07,
          385.69,
          475.08,
          877.26,
          670.49,
          610.97,
          168.99,
          305.92,
          136.05,
          154.26,
          1070.93,
          1710.2,
          492.8,
          630.72,
          620.93,
          586.34,
          304.52,
          450.97,
          182.36,
          915.32,
          319.29,
          362.01,
          1046.38,
          357.91,
          561.2,
          322.53,
          1073.71,
          237.21,
          251.2,
          359.73,
          117.23,
          363.17,
          214.18,
          171.64,
          258.58,
          299.52,
          718.98,
          119.7,
          405.25,
          210.77,
          714.82,
          215.97
         ],
         "yaxis": "y2"
        },
        {
         "mode": "lines",
         "name": "bitstamp:/USD-BTC",
         "type": "scatter",
         "uid": "045d1962-0224-4a36-a9f0-c3ba2b9187f7",
         "xaxis": "x3",
         "y": [
          8740.99,
          8739,
          8728.49,
          8708.32,
          8795.9,
          8760,
          8760,
          8759.23,
          8517.77,
          8520.3,
          8535.23,
          8546.34,
          8526.65,
          8555.6,
          8512.1,
          8492.28,
          8460,
          8474.99,
          8455.92,
          8326.28,
          8133.43,
          8164.79,
          8229.38,
          8220.4,
          8238.8,
          8232.99,
          8207.48,
          8243.45,
          8371.13,
          8373,
          8365.08,
          8179.99,
          8225,
          8285.8,
          8273.4,
          8297.4,
          8279.89,
          8252.72,
          8302.18,
          8295.85,
          8277.25,
          8346.59,
          8358.3,
          8375.1,
          8368.62,
          8366.72,
          8314.77,
          8363.7,
          8344.16,
          8247.4,
          8277.4
         ],
         "yaxis": "y3"
        },
        {
         "mode": "lines",
         "name": "bitstamp:/USD:/free",
         "type": "scatter",
         "uid": "a29b7d8c-3e7f-483d-916f-3e2f6a04262d",
         "xaxis": "x3",
         "y": [
          10000,
          10000,
          10000,
          10000,
          10000,
          10000,
          10000,
          8000,
          8000,
          9933.05,
          9933.05,
          9933.05,
          9933.05,
          9933.05,
          9933.05,
          9933.05,
          2979.92,
          2979.92,
          0,
          0,
          0,
          6619.42,
          1985.83,
          1985.83,
          1985.83,
          1985.83,
          1985.83,
          1985.83,
          1985.83,
          1985.83,
          1985.83,
          1985.83,
          1985.83,
          1985.83,
          1985.83,
          1985.83,
          1985.83,
          1985.83,
          1985.83,
          1985.83,
          1985.83,
          1985.83,
          1985.83,
          1985.83,
          1985.83,
          1985.83,
          1985.83,
          1985.83,
          1985.83,
          1985.83,
          1985.83
         ],
         "yaxis": "y3"
        },
        {
         "mode": "lines",
         "name": "bitstamp:/USD:/locked",
         "type": "scatter",
         "uid": "0acb170c-cb7e-4c73-bd3d-23b20efcbe5a",
         "xaxis": "x3",
         "y": [
          0,
          0,
          0,
          0,
          0,
          0,
          0,
          0,
          0,
          0,
          0,
          0,
          0,
          0,
          0,
          0,
          0,
          0,
          0,
          0,
          0,
          0,
          0,
          0,
          0,
          0,
          0,
          0,
          0,
          0,
          0,
          0,
          0,
          0,
          0,
          0,
          0,
          0,
          0,
          0,
          0,
          0,
          0,
          0,
          0,
          0,
          0,
          0,
          0,
          0,
          0
         ],
         "yaxis": "y3"
        },
        {
         "mode": "lines",
         "name": "bitstamp:/USD:/total",
         "type": "scatter",
         "uid": "6077dbcd-e521-4116-8c8a-3f0af9d299fc",
         "xaxis": "x3",
         "y": [
          10000,
          10000,
          10000,
          10000,
          10000,
          10000,
          10000,
          8000,
          8000,
          9933.05,
          9933.05,
          9933.05,
          9933.05,
          9933.05,
          9933.05,
          9933.05,
          2979.92,
          2979.92,
          0,
          0,
          0,
          6619.42,
          1985.83,
          1985.83,
          1985.83,
          1985.83,
          1985.83,
          1985.83,
          1985.83,
          1985.83,
          1985.83,
          1985.83,
          1985.83,
          1985.83,
          1985.83,
          1985.83,
          1985.83,
          1985.83,
          1985.83,
          1985.83,
          1985.83,
          1985.83,
          1985.83,
          1985.83,
          1985.83,
          1985.83,
          1985.83,
          1985.83,
          1985.83,
          1985.83,
          1985.83
         ],
         "yaxis": "y3"
        },
        {
         "mode": "lines",
         "name": "bitstamp:/BTC:/free",
         "type": "scatter",
         "uid": "701e4691-2ec6-450d-963e-4046004dbf4e",
         "xaxis": "x3",
         "y": [
          10,
          10,
          10,
          10,
          10,
          10,
          10,
          10,
          10,
          10,
          10,
          10,
          10,
          10,
          10,
          10,
          10,
          10,
          10,
          10,
          10,
          10,
          10,
          10,
          10,
          10,
          10,
          10,
          10,
          10,
          10,
          10,
          10,
          10,
          10,
          10,
          10,
          10,
          10,
          10,
          10,
          10,
          10,
          10,
          10,
          10,
          10,
          10,
          10,
          10,
          10
         ],
         "yaxis": "y3"
        },
        {
         "mode": "lines",
         "name": "bitstamp:/BTC:/locked",
         "type": "scatter",
         "uid": "c8bf4564-4206-412c-a182-bb73f6d9b4de",
         "xaxis": "x3",
         "y": [
          0,
          0,
          0,
          0,
          0,
          0,
          0,
          0.22762557,
          0.22762557,
          0,
          0,
          0,
          0,
          0,
          0,
          0,
          0.81630257,
          0.81630257,
          1.1668611,
          1.1668611,
          1.1668611,
          0.35055853,
          0.91636488,
          0.91636488,
          0.91636488,
          0.91636488,
          0.91636488,
          0.91636488,
          0.91636488,
          0.91636488,
          0.91636488,
          0.91636488,
          0.91636488,
          0.91636488,
          0.91636488,
          0.91636488,
          0.91636488,
          0.91636488,
          0.91636488,
          0.91636488,
          0.91636488,
          0.91636488,
          0.91636488,
          0.91636488,
          0.91636488,
          0.91636488,
          0.91636488,
          0.91636488,
          0.91636488,
          0.91636488,
          0.91636488
         ],
         "yaxis": "y3"
        },
        {
         "mode": "lines",
         "name": "bitstamp:/BTC:/total",
         "type": "scatter",
         "uid": "e94992fc-d52f-4306-9fe4-5bb0b6239c20",
         "xaxis": "x3",
         "y": [
          10,
          10,
          10,
          10,
          10,
          10,
          10,
          10.22762557,
          10.22762557,
          10,
          10,
          10,
          10,
          10,
          10,
          10,
          10.81630257,
          10.81630257,
          11.1668611,
          11.1668611,
          11.1668611,
          10.35055853,
          10.91636488,
          10.91636488,
          10.91636488,
          10.91636488,
          10.91636488,
          10.91636488,
          10.91636488,
          10.91636488,
          10.91636488,
          10.91636488,
          10.91636488,
          10.91636488,
          10.91636488,
          10.91636488,
          10.91636488,
          10.91636488,
          10.91636488,
          10.91636488,
          10.91636488,
          10.91636488,
          10.91636488,
          10.91636488,
          10.91636488,
          10.91636488,
          10.91636488,
          10.91636488,
          10.91636488,
          10.91636488,
          10.91636488
         ],
         "yaxis": "y3"
        },
        {
         "mode": "lines",
         "name": "bitstamp:/BTC:/worth",
         "type": "scatter",
         "uid": "b6883f74-9449-4936-99a3-4edb4de7dfbc",
         "xaxis": "x3",
         "y": [
          87409.9,
          87390,
          87284.9,
          87083.2,
          87959,
          87600,
          87600,
          89586.1247215111,
          87116.56225137891,
          85203,
          85352.29999999999,
          85463.4,
          85266.5,
          85556,
          85121,
          84922.8,
          91505.9197422,
          91668.05611772429,
          94426.08411271201,
          92978.412239708,
          90824.88307657301,
          84510.1367801587,
          89834.9148161744,
          89736.885859552,
          89937.746973344,
          89874.32289339119,
          89595.8464253024,
          89988.50807003601,
          91382.30953791439,
          91402.72314023999,
          91316.2655303904,
          89295.7555547512,
          89787.101138,
          90450.816122704,
          90315.453198192,
          90577.445955312,
          90386.3004062632,
          90089.7027724736,
          90629.6261794384,
          90560.525589748,
          90357.48120298,
          91114.4219437592,
          91242.25257650399,
          91425.647506488,
          91354.90946206561,
          91334.16836879359,
          90767.06321327761,
          91301.200946856,
          91087.8951771008,
          90031.62771131199,
          90359.118657712
         ],
         "yaxis": "y3"
        },
        {
         "mode": "lines",
         "name": "net_worth",
         "type": "scatter",
         "uid": "82d0ed48-8a54-46b0-acbb-695cef904895",
         "xaxis": "x3",
         "y": [
          97409.9,
          97390,
          97284.9,
          97083.2,
          97959,
          97600,
          97600,
          97586.1247215111,
          95116.56225137891,
          95136.05,
          95285.34999999999,
          95396.45,
          95199.55,
          95489.05,
          95054.05,
          94855.85,
          94485.8397422,
          94647.97611772429,
          94426.08411271201,
          92978.412239708,
          90824.88307657301,
          91129.5567801587,
          91820.7448161744,
          91722.715859552,
          91923.576973344,
          91860.15289339119,
          91581.6764253024,
          91974.33807003601,
          93368.1395379144,
          93388.55314024,
          93302.0955303904,
          91281.5855547512,
          91772.931138,
          92436.646122704,
          92301.283198192,
          92563.275955312,
          92372.1304062632,
          92075.5327724736,
          92615.4561794384,
          92546.355589748,
          92343.31120298,
          93100.2519437592,
          93228.08257650399,
          93411.47750648801,
          93340.73946206561,
          93319.99836879359,
          92752.89321327761,
          93287.030946856,
          93073.7251771008,
          92017.45771131199,
          92344.948657712
         ],
         "yaxis": "y3"
        },
        {
         "marker": {
          "color": "DarkGreen"
         },
         "mode": "lines",
         "name": "Net Worth",
         "type": "scatter",
         "uid": "0daae425-e5cd-4506-8381-4ac9b1ccd21d",
         "xaxis": "x4",
         "y": [
          97409.9,
          97390,
          97284.9,
          97083.2,
          97959,
          97600,
          97600,
          97586.1247215111,
          95116.56225137891,
          95136.05,
          95285.34999999999,
          95396.45,
          95199.55,
          95489.05,
          95054.05,
          94855.85,
          94485.8397422,
          94647.97611772429,
          94426.08411271201,
          92978.412239708,
          90824.88307657301,
          91129.5567801587,
          91820.7448161744,
          91722.715859552,
          91923.576973344,
          91860.15289339119,
          91581.6764253024,
          91974.33807003601,
          93368.1395379144,
          93388.55314024,
          93302.0955303904,
          91281.5855547512,
          91772.931138,
          92436.646122704,
          92301.283198192,
          92563.275955312,
          92372.1304062632,
          92075.5327724736,
          92615.4561794384,
          92546.355589748,
          92343.31120298,
          93100.2519437592,
          93228.08257650399,
          93411.47750648801,
          93340.73946206561,
          93319.99836879359,
          92752.89321327761,
          93287.030946856,
          93073.7251771008,
          92017.45771131199,
          92344.948657712
         ],
         "yaxis": "y4"
        }
       ],
       "layout": {
        "annotations": [
         {
          "arrowcolor": "DarkGreen",
          "arrowhead": 2,
          "arrowsize": 0.8,
          "arrowwidth": 4,
          "ax": 0,
          "ay": 15,
          "hoverlabel": {
           "bgcolor": "DarkGreen"
          },
          "hovertext": "Step 22 [2018-05-16 03:00:00]<br>BUY 0.56580635 BTC @ 8164.79 USD MARKET<br>Total: 4619.69 USD - Comm.: 13.90 USD",
          "opacity": 0.6,
          "showarrow": true,
          "x": 21,
          "xref": "x",
          "y": 8164.79,
          "yref": "y"
         },
         {
          "arrowcolor": "FireBrick",
          "arrowhead": 2,
          "arrowsize": 0.8,
          "arrowwidth": 4,
          "ax": 0,
          "ay": -15,
          "hoverlabel": {
           "bgcolor": "FireBrick"
          },
          "hovertext": "Step 21 [2018-05-16 02:00:00]<br>SELL 0.81385366 BTC @ 8133.43 USD MARKET<br>Total: 6619.42 USD - Comm.: 0.00244891 BTC",
          "opacity": 0.6,
          "showarrow": true,
          "x": 20,
          "xref": "x",
          "y": 8133.43,
          "yref": "y"
         },
         {
          "arrowcolor": "DarkGreen",
          "arrowhead": 2,
          "arrowsize": 0.8,
          "arrowwidth": 4,
          "ax": 0,
          "ay": 15,
          "hoverlabel": {
           "bgcolor": "DarkGreen"
          },
          "hovertext": "Step 18 [2018-05-15 23:00:00]<br>BUY 0.35055853 BTC @ 8474.99 USD MARKET<br>Total: 2970.98 USD - Comm.: 8.94 USD",
          "opacity": 0.6,
          "showarrow": true,
          "x": 17,
          "xref": "x",
          "y": 8474.99,
          "yref": "y"
         },
         {
          "arrowcolor": "DarkGreen",
          "arrowhead": 2,
          "arrowsize": 0.8,
          "arrowwidth": 4,
          "ax": 0,
          "ay": 15,
          "hoverlabel": {
           "bgcolor": "DarkGreen"
          },
          "hovertext": "Step 16 [2018-05-15 21:00:00]<br>BUY 0.81630257 BTC @ 8492.28 USD MARKET<br>Total: 6932.27 USD - Comm.: 20.86 USD",
          "opacity": 0.6,
          "showarrow": true,
          "x": 15,
          "xref": "x",
          "y": 8492.28,
          "yref": "y"
         },
         {
          "arrowcolor": "FireBrick",
          "arrowhead": 2,
          "arrowsize": 0.8,
          "arrowwidth": 4,
          "ax": 0,
          "ay": -15,
          "hoverlabel": {
           "bgcolor": "FireBrick"
          },
          "hovertext": "Step 9 [2018-05-15 14:00:00]<br>SELL 0.22694269 BTC @ 8517.77 USD MARKET<br>Total: 1933.05 USD - Comm.: 0.00068288 BTC",
          "opacity": 0.6,
          "showarrow": true,
          "x": 8,
          "xref": "x",
          "y": 8517.77,
          "yref": "y"
         },
         {
          "arrowcolor": "DarkGreen",
          "arrowhead": 2,
          "arrowsize": 0.8,
          "arrowwidth": 4,
          "ax": 0,
          "ay": 15,
          "hoverlabel": {
           "bgcolor": "DarkGreen"
          },
          "hovertext": "Step 7 [2018-05-15 12:00:00]<br>BUY 0.22762557 BTC @ 8760.0 USD MARKET<br>Total: 1994.0 USD - Comm.: 6.00 USD",
          "opacity": 0.6,
          "showarrow": true,
          "x": 6,
          "xref": "x",
          "y": 8760,
          "yref": "y"
         }
        ],
        "margin": {
         "t": 50
        },
        "template": {
         "data": {
          "bar": [
           {
            "error_x": {
             "color": "#2a3f5f"
            },
            "error_y": {
             "color": "#2a3f5f"
            },
            "marker": {
             "line": {
              "color": "white",
              "width": 0.5
             }
            },
            "type": "bar"
           }
          ],
          "barpolar": [
           {
            "marker": {
             "line": {
              "color": "white",
              "width": 0.5
             }
            },
            "type": "barpolar"
           }
          ],
          "carpet": [
           {
            "aaxis": {
             "endlinecolor": "#2a3f5f",
             "gridcolor": "#C8D4E3",
             "linecolor": "#C8D4E3",
             "minorgridcolor": "#C8D4E3",
             "startlinecolor": "#2a3f5f"
            },
            "baxis": {
             "endlinecolor": "#2a3f5f",
             "gridcolor": "#C8D4E3",
             "linecolor": "#C8D4E3",
             "minorgridcolor": "#C8D4E3",
             "startlinecolor": "#2a3f5f"
            },
            "type": "carpet"
           }
          ],
          "choropleth": [
           {
            "colorbar": {
             "outlinewidth": 0,
             "ticks": ""
            },
            "type": "choropleth"
           }
          ],
          "contour": [
           {
            "colorbar": {
             "outlinewidth": 0,
             "ticks": ""
            },
            "colorscale": [
             [
              0,
              "#0d0887"
             ],
             [
              0.1111111111111111,
              "#46039f"
             ],
             [
              0.2222222222222222,
              "#7201a8"
             ],
             [
              0.3333333333333333,
              "#9c179e"
             ],
             [
              0.4444444444444444,
              "#bd3786"
             ],
             [
              0.5555555555555556,
              "#d8576b"
             ],
             [
              0.6666666666666666,
              "#ed7953"
             ],
             [
              0.7777777777777778,
              "#fb9f3a"
             ],
             [
              0.8888888888888888,
              "#fdca26"
             ],
             [
              1,
              "#f0f921"
             ]
            ],
            "type": "contour"
           }
          ],
          "contourcarpet": [
           {
            "colorbar": {
             "outlinewidth": 0,
             "ticks": ""
            },
            "type": "contourcarpet"
           }
          ],
          "heatmap": [
           {
            "colorbar": {
             "outlinewidth": 0,
             "ticks": ""
            },
            "colorscale": [
             [
              0,
              "#0d0887"
             ],
             [
              0.1111111111111111,
              "#46039f"
             ],
             [
              0.2222222222222222,
              "#7201a8"
             ],
             [
              0.3333333333333333,
              "#9c179e"
             ],
             [
              0.4444444444444444,
              "#bd3786"
             ],
             [
              0.5555555555555556,
              "#d8576b"
             ],
             [
              0.6666666666666666,
              "#ed7953"
             ],
             [
              0.7777777777777778,
              "#fb9f3a"
             ],
             [
              0.8888888888888888,
              "#fdca26"
             ],
             [
              1,
              "#f0f921"
             ]
            ],
            "type": "heatmap"
           }
          ],
          "heatmapgl": [
           {
            "colorbar": {
             "outlinewidth": 0,
             "ticks": ""
            },
            "colorscale": [
             [
              0,
              "#0d0887"
             ],
             [
              0.1111111111111111,
              "#46039f"
             ],
             [
              0.2222222222222222,
              "#7201a8"
             ],
             [
              0.3333333333333333,
              "#9c179e"
             ],
             [
              0.4444444444444444,
              "#bd3786"
             ],
             [
              0.5555555555555556,
              "#d8576b"
             ],
             [
              0.6666666666666666,
              "#ed7953"
             ],
             [
              0.7777777777777778,
              "#fb9f3a"
             ],
             [
              0.8888888888888888,
              "#fdca26"
             ],
             [
              1,
              "#f0f921"
             ]
            ],
            "type": "heatmapgl"
           }
          ],
          "histogram": [
           {
            "marker": {
             "colorbar": {
              "outlinewidth": 0,
              "ticks": ""
             }
            },
            "type": "histogram"
           }
          ],
          "histogram2d": [
           {
            "colorbar": {
             "outlinewidth": 0,
             "ticks": ""
            },
            "colorscale": [
             [
              0,
              "#0d0887"
             ],
             [
              0.1111111111111111,
              "#46039f"
             ],
             [
              0.2222222222222222,
              "#7201a8"
             ],
             [
              0.3333333333333333,
              "#9c179e"
             ],
             [
              0.4444444444444444,
              "#bd3786"
             ],
             [
              0.5555555555555556,
              "#d8576b"
             ],
             [
              0.6666666666666666,
              "#ed7953"
             ],
             [
              0.7777777777777778,
              "#fb9f3a"
             ],
             [
              0.8888888888888888,
              "#fdca26"
             ],
             [
              1,
              "#f0f921"
             ]
            ],
            "type": "histogram2d"
           }
          ],
          "histogram2dcontour": [
           {
            "colorbar": {
             "outlinewidth": 0,
             "ticks": ""
            },
            "colorscale": [
             [
              0,
              "#0d0887"
             ],
             [
              0.1111111111111111,
              "#46039f"
             ],
             [
              0.2222222222222222,
              "#7201a8"
             ],
             [
              0.3333333333333333,
              "#9c179e"
             ],
             [
              0.4444444444444444,
              "#bd3786"
             ],
             [
              0.5555555555555556,
              "#d8576b"
             ],
             [
              0.6666666666666666,
              "#ed7953"
             ],
             [
              0.7777777777777778,
              "#fb9f3a"
             ],
             [
              0.8888888888888888,
              "#fdca26"
             ],
             [
              1,
              "#f0f921"
             ]
            ],
            "type": "histogram2dcontour"
           }
          ],
          "mesh3d": [
           {
            "colorbar": {
             "outlinewidth": 0,
             "ticks": ""
            },
            "type": "mesh3d"
           }
          ],
          "parcoords": [
           {
            "line": {
             "colorbar": {
              "outlinewidth": 0,
              "ticks": ""
             }
            },
            "type": "parcoords"
           }
          ],
          "pie": [
           {
            "automargin": true,
            "type": "pie"
           }
          ],
          "scatter": [
           {
            "marker": {
             "colorbar": {
              "outlinewidth": 0,
              "ticks": ""
             }
            },
            "type": "scatter"
           }
          ],
          "scatter3d": [
           {
            "line": {
             "colorbar": {
              "outlinewidth": 0,
              "ticks": ""
             }
            },
            "marker": {
             "colorbar": {
              "outlinewidth": 0,
              "ticks": ""
             }
            },
            "type": "scatter3d"
           }
          ],
          "scattercarpet": [
           {
            "marker": {
             "colorbar": {
              "outlinewidth": 0,
              "ticks": ""
             }
            },
            "type": "scattercarpet"
           }
          ],
          "scattergeo": [
           {
            "marker": {
             "colorbar": {
              "outlinewidth": 0,
              "ticks": ""
             }
            },
            "type": "scattergeo"
           }
          ],
          "scattergl": [
           {
            "marker": {
             "colorbar": {
              "outlinewidth": 0,
              "ticks": ""
             }
            },
            "type": "scattergl"
           }
          ],
          "scattermapbox": [
           {
            "marker": {
             "colorbar": {
              "outlinewidth": 0,
              "ticks": ""
             }
            },
            "type": "scattermapbox"
           }
          ],
          "scatterpolar": [
           {
            "marker": {
             "colorbar": {
              "outlinewidth": 0,
              "ticks": ""
             }
            },
            "type": "scatterpolar"
           }
          ],
          "scatterpolargl": [
           {
            "marker": {
             "colorbar": {
              "outlinewidth": 0,
              "ticks": ""
             }
            },
            "type": "scatterpolargl"
           }
          ],
          "scatterternary": [
           {
            "marker": {
             "colorbar": {
              "outlinewidth": 0,
              "ticks": ""
             }
            },
            "type": "scatterternary"
           }
          ],
          "surface": [
           {
            "colorbar": {
             "outlinewidth": 0,
             "ticks": ""
            },
            "colorscale": [
             [
              0,
              "#0d0887"
             ],
             [
              0.1111111111111111,
              "#46039f"
             ],
             [
              0.2222222222222222,
              "#7201a8"
             ],
             [
              0.3333333333333333,
              "#9c179e"
             ],
             [
              0.4444444444444444,
              "#bd3786"
             ],
             [
              0.5555555555555556,
              "#d8576b"
             ],
             [
              0.6666666666666666,
              "#ed7953"
             ],
             [
              0.7777777777777778,
              "#fb9f3a"
             ],
             [
              0.8888888888888888,
              "#fdca26"
             ],
             [
              1,
              "#f0f921"
             ]
            ],
            "type": "surface"
           }
          ],
          "table": [
           {
            "cells": {
             "fill": {
              "color": "#EBF0F8"
             },
             "line": {
              "color": "white"
             }
            },
            "header": {
             "fill": {
              "color": "#C8D4E3"
             },
             "line": {
              "color": "white"
             }
            },
            "type": "table"
           }
          ]
         },
         "layout": {
          "annotationdefaults": {
           "arrowcolor": "#2a3f5f",
           "arrowhead": 0,
           "arrowwidth": 1
          },
          "autotypenumbers": "strict",
          "coloraxis": {
           "colorbar": {
            "outlinewidth": 0,
            "ticks": ""
           }
          },
          "colorscale": {
           "diverging": [
            [
             0,
             "#8e0152"
            ],
            [
             0.1,
             "#c51b7d"
            ],
            [
             0.2,
             "#de77ae"
            ],
            [
             0.3,
             "#f1b6da"
            ],
            [
             0.4,
             "#fde0ef"
            ],
            [
             0.5,
             "#f7f7f7"
            ],
            [
             0.6,
             "#e6f5d0"
            ],
            [
             0.7,
             "#b8e186"
            ],
            [
             0.8,
             "#7fbc41"
            ],
            [
             0.9,
             "#4d9221"
            ],
            [
             1,
             "#276419"
            ]
           ],
           "sequential": [
            [
             0,
             "#0d0887"
            ],
            [
             0.1111111111111111,
             "#46039f"
            ],
            [
             0.2222222222222222,
             "#7201a8"
            ],
            [
             0.3333333333333333,
             "#9c179e"
            ],
            [
             0.4444444444444444,
             "#bd3786"
            ],
            [
             0.5555555555555556,
             "#d8576b"
            ],
            [
             0.6666666666666666,
             "#ed7953"
            ],
            [
             0.7777777777777778,
             "#fb9f3a"
            ],
            [
             0.8888888888888888,
             "#fdca26"
            ],
            [
             1,
             "#f0f921"
            ]
           ],
           "sequentialminus": [
            [
             0,
             "#0d0887"
            ],
            [
             0.1111111111111111,
             "#46039f"
            ],
            [
             0.2222222222222222,
             "#7201a8"
            ],
            [
             0.3333333333333333,
             "#9c179e"
            ],
            [
             0.4444444444444444,
             "#bd3786"
            ],
            [
             0.5555555555555556,
             "#d8576b"
            ],
            [
             0.6666666666666666,
             "#ed7953"
            ],
            [
             0.7777777777777778,
             "#fb9f3a"
            ],
            [
             0.8888888888888888,
             "#fdca26"
            ],
            [
             1,
             "#f0f921"
            ]
           ]
          },
          "colorway": [
           "#636efa",
           "#EF553B",
           "#00cc96",
           "#ab63fa",
           "#FFA15A",
           "#19d3f3",
           "#FF6692",
           "#B6E880",
           "#FF97FF",
           "#FECB52"
          ],
          "font": {
           "color": "#2a3f5f"
          },
          "geo": {
           "bgcolor": "white",
           "lakecolor": "white",
           "landcolor": "white",
           "showlakes": true,
           "showland": true,
           "subunitcolor": "#C8D4E3"
          },
          "hoverlabel": {
           "align": "left"
          },
          "hovermode": "closest",
          "mapbox": {
           "style": "light"
          },
          "paper_bgcolor": "white",
          "plot_bgcolor": "white",
          "polar": {
           "angularaxis": {
            "gridcolor": "#EBF0F8",
            "linecolor": "#EBF0F8",
            "ticks": ""
           },
           "bgcolor": "white",
           "radialaxis": {
            "gridcolor": "#EBF0F8",
            "linecolor": "#EBF0F8",
            "ticks": ""
           }
          },
          "scene": {
           "xaxis": {
            "backgroundcolor": "white",
            "gridcolor": "#DFE8F3",
            "gridwidth": 2,
            "linecolor": "#EBF0F8",
            "showbackground": true,
            "ticks": "",
            "zerolinecolor": "#EBF0F8"
           },
           "yaxis": {
            "backgroundcolor": "white",
            "gridcolor": "#DFE8F3",
            "gridwidth": 2,
            "linecolor": "#EBF0F8",
            "showbackground": true,
            "ticks": "",
            "zerolinecolor": "#EBF0F8"
           },
           "zaxis": {
            "backgroundcolor": "white",
            "gridcolor": "#DFE8F3",
            "gridwidth": 2,
            "linecolor": "#EBF0F8",
            "showbackground": true,
            "ticks": "",
            "zerolinecolor": "#EBF0F8"
           }
          },
          "shapedefaults": {
           "line": {
            "color": "#2a3f5f"
           }
          },
          "ternary": {
           "aaxis": {
            "gridcolor": "#DFE8F3",
            "linecolor": "#A2B1C6",
            "ticks": ""
           },
           "baxis": {
            "gridcolor": "#DFE8F3",
            "linecolor": "#A2B1C6",
            "ticks": ""
           },
           "bgcolor": "white",
           "caxis": {
            "gridcolor": "#DFE8F3",
            "linecolor": "#A2B1C6",
            "ticks": ""
           }
          },
          "title": {
           "x": 0.05
          },
          "xaxis": {
           "automargin": true,
           "gridcolor": "#EBF0F8",
           "linecolor": "#EBF0F8",
           "ticks": "",
           "title": {
            "standoff": 15
           },
           "zerolinecolor": "#EBF0F8",
           "zerolinewidth": 2
          },
          "yaxis": {
           "automargin": true,
           "gridcolor": "#EBF0F8",
           "linecolor": "#EBF0F8",
           "ticks": "",
           "title": {
            "standoff": 15
           },
           "zerolinecolor": "#EBF0F8",
           "zerolinewidth": 2
          }
         }
        },
        "title": {
         "text": "[2021-03-26 10:58:31 AM] Episode: 2/2 Step: 51/200"
        },
        "xaxis": {
         "anchor": "y",
         "domain": [
          0,
          1
         ],
         "gridcolor": "Gainsboro",
         "linecolor": "Grey",
         "matches": "x4",
         "rangeslider": {
          "visible": false
         },
         "showticklabels": false,
         "title": {
          "font": {
           "size": 12
          },
          "standoff": 7,
          "text": "Price"
         }
        },
        "xaxis2": {
         "anchor": "y2",
         "domain": [
          0,
          1
         ],
         "gridcolor": "Gainsboro",
         "linecolor": "Grey",
         "matches": "x4",
         "showticklabels": false,
         "title": {
          "font": {
           "size": 12
          },
          "standoff": 7,
          "text": "Volume"
         }
        },
        "xaxis3": {
         "anchor": "y3",
         "domain": [
          0,
          1
         ],
         "gridcolor": "Gainsboro",
         "linecolor": "Grey",
         "matches": "x4",
         "showticklabels": false,
         "title": {
          "font": {
           "size": 12
          },
          "standoff": 7,
          "text": "Performance"
         }
        },
        "xaxis4": {
         "anchor": "y4",
         "domain": [
          0,
          1
         ],
         "gridcolor": "Gainsboro",
         "linecolor": "Grey",
         "title": {
          "font": {
           "size": 12
          },
          "standoff": 7,
          "text": "Net Worth"
         }
        },
        "yaxis": {
         "anchor": "x",
         "domain": [
          0.49950000000000006,
          1
         ],
         "gridcolor": "Gainsboro",
         "linecolor": "Grey"
        },
        "yaxis2": {
         "anchor": "x2",
         "domain": [
          0.333,
          0.46950000000000003
         ],
         "gridcolor": "Gainsboro",
         "linecolor": "Grey"
        },
        "yaxis3": {
         "anchor": "x3",
         "domain": [
          0.1665,
          0.30300000000000005
         ],
         "gridcolor": "Gainsboro",
         "linecolor": "Grey"
        },
        "yaxis4": {
         "anchor": "x4",
         "domain": [
          0,
          0.1365
         ],
         "gridcolor": "Gainsboro",
         "linecolor": "Grey"
        }
       }
      }
     },
     "metadata": {}
    },
    {
     "output_type": "display_data",
     "data": {
      "text/plain": "FigureWidget({\n    'data': [{'close': array([8740.99, 8739.  , 8728.49, 8708.32, 8795.9 , 8760.  , 8760.  , 87…",
      "application/vnd.jupyter.widget-view+json": {
       "version_major": 2,
       "version_minor": 0,
       "model_id": "770a587930f04eba8e00c05b26a54679"
      }
     },
     "metadata": {}
    },
    {
     "output_type": "display_data",
     "data": {
      "application/vnd.plotly.v1+json": {
       "config": {
        "plotlyServerURL": "https://plot.ly"
       },
       "data": [
        {
         "close": [
          8740.99,
          8739,
          8728.49,
          8708.32,
          8795.9,
          8760,
          8760,
          8759.23,
          8517.77,
          8520.3,
          8535.23,
          8546.34,
          8526.65,
          8555.6,
          8512.1,
          8492.28,
          8460,
          8474.99,
          8455.92,
          8326.28,
          8133.43,
          8164.79,
          8229.38,
          8220.4,
          8238.8,
          8232.99,
          8207.48,
          8243.45,
          8371.13,
          8373,
          8365.08,
          8179.99,
          8225,
          8285.8,
          8273.4,
          8297.4,
          8279.89,
          8252.72,
          8302.18,
          8295.85,
          8277.25,
          8346.59,
          8358.3,
          8375.1,
          8368.62,
          8366.72,
          8314.77,
          8363.7,
          8344.16,
          8247.4,
          8277.4,
          8291.67,
          8307.89,
          8298.9,
          8269.47,
          8300.98,
          8318.49,
          8306.39,
          8276.43,
          8257.69,
          8166,
          8176.33,
          8200.7,
          8155.41,
          8080,
          8067.03,
          7958.08,
          7974.25,
          7998.5,
          7991.99,
          8022.7,
          8042.97,
          7965.67,
          8088.95,
          8122.19,
          8107.99,
          8137.73,
          8115,
          8107,
          8094.4,
          8080.01,
          8117.09,
          8126.99,
          8110.95,
          8215.39,
          8231.42,
          8240.13,
          8235,
          8219.9,
          8248.87,
          8213.5,
          8200.99,
          8200,
          8237.3,
          8228.13,
          8240.83,
          8214.9,
          8170.07,
          8229.87,
          8205.87,
          8252.56
         ],
         "high": [
          8796.68,
          8766,
          8750.27,
          8754.4,
          8865,
          8821.19,
          8798.6,
          8771.02,
          8761.7,
          8553.67,
          8589.1,
          8579.48,
          8555.51,
          8583.6,
          8569.92,
          8555.54,
          8557.51,
          8505,
          8505.33,
          8478.29,
          8339.81,
          8217.44,
          8252.72,
          8248.63,
          8267.12,
          8255,
          8261.24,
          8263.93,
          8455.66,
          8439.44,
          8399.1,
          8381.73,
          8229.91,
          8377.29,
          8329.1,
          8350,
          8346.95,
          8377.29,
          8311.35,
          8319.96,
          8398.24,
          8372.58,
          8399.99,
          8386.53,
          8400,
          8500,
          8381,
          8371.3,
          8382.41,
          8351,
          8292.99,
          8325.8,
          8318.99,
          8324.9,
          8335.56,
          8309.4,
          8377.29,
          8330.41,
          8328.23,
          8284.36,
          8274.83,
          8200,
          8232.14,
          8213.97,
          8155.41,
          8108.28,
          8068.92,
          8019.9,
          8026.66,
          8025,
          8104.69,
          8061.39,
          8045.99,
          8170.71,
          8144.16,
          8139.99,
          8152.99,
          8137.73,
          8143.72,
          8129.99,
          8106.76,
          8139,
          8152.04,
          8146.99,
          8232.14,
          8275.1,
          8256.12,
          8274.1,
          8255.8,
          8253.97,
          8261.09,
          8235.76,
          8227,
          8273.36,
          8264.21,
          8250,
          8250.86,
          8235.77,
          8232.12,
          8232.14,
          8252.72
         ],
         "low": [
          8707.28,
          8721.11,
          8660.53,
          8701.35,
          8695.11,
          8740.54,
          8741.52,
          8700,
          8467.42,
          8477.89,
          8500.78,
          8500,
          8400,
          8451.05,
          8461.38,
          8481.24,
          8420.37,
          8450,
          8430.94,
          8275.02,
          8100.01,
          8122.56,
          8157.01,
          8166.25,
          8176.91,
          8213.79,
          8200,
          8207.48,
          8237.1,
          8370,
          8356.4,
          8145.1,
          8173.6,
          8211.8,
          8201,
          8250.9,
          8266.46,
          8252.72,
          8232.14,
          8268.37,
          8277.25,
          8277.25,
          8314.78,
          8314.77,
          8350.07,
          8331.39,
          8314.77,
          8275.45,
          8335.49,
          8191.14,
          8227.7,
          8264.13,
          8249.93,
          8269.52,
          8219.44,
          8262.68,
          8286.65,
          8289.87,
          8232.14,
          8232.14,
          8110.02,
          8154.95,
          8168.6,
          8151,
          7980,
          8005.95,
          7929.53,
          7931.03,
          7950,
          7980.58,
          7991.99,
          7992.75,
          7953.4,
          7965.67,
          8085.94,
          8078.48,
          8092.9,
          8049.22,
          8079.46,
          8062.12,
          8043.96,
          8063.1,
          8088.46,
          8094.43,
          8088.46,
          8191.14,
          8212,
          8224.5,
          8211,
          8211.01,
          8210.03,
          8158.27,
          8177.65,
          8179.41,
          8221.92,
          8217.32,
          8213.52,
          8141.08,
          8146.1,
          8186.03,
          8197.09
         ],
         "name": "Price",
         "open": [
          8733.86,
          8740.99,
          8739,
          8728.49,
          8708.32,
          8795.9,
          8760,
          8760,
          8759.23,
          8517.77,
          8520.3,
          8535.23,
          8546.34,
          8526.65,
          8555.6,
          8512.1,
          8492.28,
          8460,
          8474.99,
          8455.92,
          8326.28,
          8133.43,
          8164.79,
          8229.38,
          8220.4,
          8238.8,
          8232.99,
          8207.48,
          8243.45,
          8371.13,
          8373,
          8365.08,
          8179.99,
          8225,
          8285.8,
          8273.4,
          8297.4,
          8279.89,
          8252.72,
          8302.18,
          8295.85,
          8277.25,
          8346.59,
          8358.3,
          8375.1,
          8368.62,
          8366.72,
          8314.77,
          8363.7,
          8344.16,
          8247.4,
          8277.4,
          8291.67,
          8307.89,
          8298.9,
          8269.47,
          8300.98,
          8318.49,
          8306.39,
          8276.43,
          8257.69,
          8166,
          8176.33,
          8200.7,
          8155.41,
          8080,
          8067.03,
          7958.08,
          7974.25,
          7998.5,
          7991.99,
          8022.7,
          8042.97,
          7965.67,
          8088.95,
          8122.19,
          8107.99,
          8137.73,
          8115,
          8107,
          8094.4,
          8080.01,
          8117.09,
          8126.99,
          8110.95,
          8215.39,
          8231.42,
          8240.13,
          8235,
          8219.9,
          8248.87,
          8213.5,
          8200.99,
          8200,
          8237.3,
          8228.13,
          8240.83,
          8214.9,
          8170.07,
          8229.87,
          8205.87
         ],
         "showlegend": false,
         "type": "candlestick",
         "uid": "e28b1968-48ed-4f4b-afae-b71591fdf84c",
         "xaxis": "x",
         "yaxis": "y"
        },
        {
         "marker": {
          "color": "DodgerBlue"
         },
         "name": "Volume",
         "showlegend": false,
         "type": "bar",
         "uid": "03610c5d-a369-4c9b-a287-9984c1a8d9ae",
         "xaxis": "x2",
         "y": [
          559.93,
          273.58,
          917.79,
          182.62,
          1260.69,
          324.11,
          324.2,
          730.67,
          1341.75,
          792.07,
          385.69,
          475.08,
          877.26,
          670.49,
          610.97,
          168.99,
          305.92,
          136.05,
          154.26,
          1070.93,
          1710.2,
          492.8,
          630.72,
          620.93,
          586.34,
          304.52,
          450.97,
          182.36,
          915.32,
          319.29,
          362.01,
          1046.38,
          357.91,
          561.2,
          322.53,
          1073.71,
          237.21,
          251.2,
          359.73,
          117.23,
          363.17,
          214.18,
          171.64,
          258.58,
          299.52,
          718.98,
          119.7,
          405.25,
          210.77,
          714.82,
          215.97,
          164.2,
          201.55,
          203.41,
          886.82,
          95.49,
          499.67,
          172.77,
          355.39,
          255.27,
          591.06,
          133.1,
          149.13,
          87.55,
          1061.54,
          286.94,
          524.42,
          316,
          441.43,
          189.7,
          844.94,
          155.34,
          257.56,
          610.69,
          217.97,
          173.18,
          218.06,
          372.97,
          484.39,
          248.1,
          162.35,
          303.42,
          290.69,
          160.93,
          369.4,
          487.27,
          93.35,
          96.68,
          72.14,
          90.22,
          168.52,
          203.15,
          71.42,
          464.56,
          57,
          89.42,
          49.47,
          200.05,
          254.37,
          65.05,
          118.19
         ],
         "yaxis": "y2"
        },
        {
         "mode": "lines",
         "name": "bitstamp:/USD-BTC",
         "type": "scatter",
         "uid": "045d1962-0224-4a36-a9f0-c3ba2b9187f7",
         "xaxis": "x3",
         "y": [
          8740.99,
          8739,
          8728.49,
          8708.32,
          8795.9,
          8760,
          8760,
          8759.23,
          8517.77,
          8520.3,
          8535.23,
          8546.34,
          8526.65,
          8555.6,
          8512.1,
          8492.28,
          8460,
          8474.99,
          8455.92,
          8326.28,
          8133.43,
          8164.79,
          8229.38,
          8220.4,
          8238.8,
          8232.99,
          8207.48,
          8243.45,
          8371.13,
          8373,
          8365.08,
          8179.99,
          8225,
          8285.8,
          8273.4,
          8297.4,
          8279.89,
          8252.72,
          8302.18,
          8295.85,
          8277.25,
          8346.59,
          8358.3,
          8375.1,
          8368.62,
          8366.72,
          8314.77,
          8363.7,
          8344.16,
          8247.4,
          8277.4,
          8291.67,
          8307.89,
          8298.9,
          8269.47,
          8300.98,
          8318.49,
          8306.39,
          8276.43,
          8257.69,
          8166,
          8176.33,
          8200.7,
          8155.41,
          8080,
          8067.03,
          7958.08,
          7974.25,
          7998.5,
          7991.99,
          8022.7,
          8042.97,
          7965.67,
          8088.95,
          8122.19,
          8107.99,
          8137.73,
          8115,
          8107,
          8094.4,
          8080.01,
          8117.09,
          8126.99,
          8110.95,
          8215.39,
          8231.42,
          8240.13,
          8235,
          8219.9,
          8248.87,
          8213.5,
          8200.99,
          8200,
          8237.3,
          8228.13,
          8240.83,
          8214.9,
          8170.07,
          8229.87,
          8205.87,
          8252.56
         ],
         "yaxis": "y3"
        },
        {
         "mode": "lines",
         "name": "bitstamp:/USD:/free",
         "type": "scatter",
         "uid": "a29b7d8c-3e7f-483d-916f-3e2f6a04262d",
         "xaxis": "x3",
         "y": [
          10000,
          10000,
          10000,
          10000,
          10000,
          10000,
          10000,
          8000,
          8000,
          9933.05,
          9933.05,
          9933.05,
          9933.05,
          9933.05,
          9933.05,
          9933.05,
          2979.92,
          2979.92,
          0,
          0,
          0,
          6619.42,
          1985.83,
          1985.83,
          1985.83,
          1985.83,
          1985.83,
          1985.83,
          1985.83,
          1985.83,
          1985.83,
          1985.83,
          1985.83,
          1985.83,
          1985.83,
          1985.83,
          1985.83,
          1985.83,
          1985.83,
          1985.83,
          1985.83,
          1985.83,
          1985.83,
          1985.83,
          1985.83,
          1985.83,
          1985.83,
          1985.83,
          1985.83,
          1985.83,
          1985.83,
          1985.83,
          1985.83,
          1985.83,
          1985.83,
          1985.83,
          1985.83,
          1985.83,
          1985.83,
          1985.83,
          1985.83,
          1985.83,
          1985.83,
          1985.83,
          1985.83,
          1985.83,
          1985.83,
          4767.23,
          9265.58,
          2779.67,
          2779.67,
          2779.67,
          2779.67,
          2779.67,
          2779.67,
          2779.67,
          2779.67,
          2779.67,
          2779.67,
          0,
          0,
          0,
          0,
          0,
          0,
          2799.96,
          2799.96,
          9441.77,
          9441.77,
          9441.77,
          9441.77,
          9441.77,
          9441.77,
          9441.77,
          3776.71,
          3776.71,
          3776.71,
          3776.71,
          755.34,
          755.34,
          755.34
         ],
         "yaxis": "y3"
        },
        {
         "mode": "lines",
         "name": "bitstamp:/USD:/locked",
         "type": "scatter",
         "uid": "0acb170c-cb7e-4c73-bd3d-23b20efcbe5a",
         "xaxis": "x3",
         "y": [
          0,
          0,
          0,
          0,
          0,
          0,
          0,
          0,
          0,
          0,
          0,
          0,
          0,
          0,
          0,
          0,
          0,
          0,
          0,
          0,
          0,
          0,
          0,
          0,
          0,
          0,
          0,
          0,
          0,
          0,
          0,
          0,
          0,
          0,
          0,
          0,
          0,
          0,
          0,
          0,
          0,
          0,
          0,
          0,
          0,
          0,
          0,
          0,
          0,
          0,
          0,
          0,
          0,
          0,
          0,
          0,
          0,
          0,
          0,
          0,
          0,
          0,
          0,
          0,
          0,
          0,
          0,
          0,
          0,
          0,
          0,
          0,
          0,
          0,
          0,
          0,
          0,
          0,
          0,
          0,
          0,
          0,
          0,
          0,
          0,
          0,
          0,
          0,
          0,
          0,
          0,
          0,
          0,
          0,
          0,
          0,
          0,
          0,
          0,
          0,
          0
         ],
         "yaxis": "y3"
        },
        {
         "mode": "lines",
         "name": "bitstamp:/USD:/total",
         "type": "scatter",
         "uid": "6077dbcd-e521-4116-8c8a-3f0af9d299fc",
         "xaxis": "x3",
         "y": [
          10000,
          10000,
          10000,
          10000,
          10000,
          10000,
          10000,
          8000,
          8000,
          9933.05,
          9933.05,
          9933.05,
          9933.05,
          9933.05,
          9933.05,
          9933.05,
          2979.92,
          2979.92,
          0,
          0,
          0,
          6619.42,
          1985.83,
          1985.83,
          1985.83,
          1985.83,
          1985.83,
          1985.83,
          1985.83,
          1985.83,
          1985.83,
          1985.83,
          1985.83,
          1985.83,
          1985.83,
          1985.83,
          1985.83,
          1985.83,
          1985.83,
          1985.83,
          1985.83,
          1985.83,
          1985.83,
          1985.83,
          1985.83,
          1985.83,
          1985.83,
          1985.83,
          1985.83,
          1985.83,
          1985.83,
          1985.83,
          1985.83,
          1985.83,
          1985.83,
          1985.83,
          1985.83,
          1985.83,
          1985.83,
          1985.83,
          1985.83,
          1985.83,
          1985.83,
          1985.83,
          1985.83,
          1985.83,
          1985.83,
          4767.23,
          9265.58,
          2779.67,
          2779.67,
          2779.67,
          2779.67,
          2779.67,
          2779.67,
          2779.67,
          2779.67,
          2779.67,
          2779.67,
          0,
          0,
          0,
          0,
          0,
          0,
          2799.96,
          2799.96,
          9441.77,
          9441.77,
          9441.77,
          9441.77,
          9441.77,
          9441.77,
          9441.77,
          3776.71,
          3776.71,
          3776.71,
          3776.71,
          755.34,
          755.34,
          755.34
         ],
         "yaxis": "y3"
        },
        {
         "mode": "lines",
         "name": "bitstamp:/BTC:/free",
         "type": "scatter",
         "uid": "701e4691-2ec6-450d-963e-4046004dbf4e",
         "xaxis": "x3",
         "y": [
          10,
          10,
          10,
          10,
          10,
          10,
          10,
          10,
          10,
          10,
          10,
          10,
          10,
          10,
          10,
          10,
          10,
          10,
          10,
          10,
          10,
          10,
          10,
          10,
          10,
          10,
          10,
          10,
          10,
          10,
          10,
          10,
          10,
          10,
          10,
          10,
          10,
          10,
          10,
          10,
          10,
          10,
          10,
          10,
          10,
          10,
          10,
          10,
          10,
          10,
          10,
          10,
          10,
          10,
          10,
          10,
          10,
          10,
          10,
          10,
          10,
          10,
          10,
          10,
          10,
          10,
          10,
          10,
          10,
          10,
          10,
          10,
          10,
          10,
          10,
          10,
          10,
          10,
          10,
          10,
          10,
          10,
          10,
          10,
          10,
          10,
          10,
          10,
          10,
          10,
          10,
          10,
          10,
          10,
          10,
          10,
          10,
          10,
          10,
          10,
          10
         ],
         "yaxis": "y3"
        },
        {
         "mode": "lines",
         "name": "bitstamp:/BTC:/locked",
         "type": "scatter",
         "uid": "c8bf4564-4206-412c-a182-bb73f6d9b4de",
         "xaxis": "x3",
         "y": [
          0,
          0,
          0,
          0,
          0,
          0,
          0,
          0.22762557,
          0.22762557,
          0,
          0,
          0,
          0,
          0,
          0,
          0,
          0.81630257,
          0.81630257,
          1.1668611,
          1.1668611,
          1.1668611,
          0.35055853,
          0.91636488,
          0.91636488,
          0.91636488,
          0.91636488,
          0.91636488,
          0.91636488,
          0.91636488,
          0.91636488,
          0.91636488,
          0.91636488,
          0.91636488,
          0.91636488,
          0.91636488,
          0.91636488,
          0.91636488,
          0.91636488,
          0.91636488,
          0.91636488,
          0.91636488,
          0.91636488,
          0.91636488,
          0.91636488,
          0.91636488,
          0.91636488,
          0.91636488,
          0.91636488,
          0.91636488,
          0.91636488,
          0.91636488,
          0.91636488,
          0.91636488,
          0.91636488,
          0.91636488,
          0.91636488,
          0.91636488,
          0.91636488,
          0.91636488,
          0.91636488,
          0.91636488,
          0.91636488,
          0.91636488,
          0.91636488,
          0.91636488,
          0.91636488,
          0.91636488,
          0.56580635,
          0,
          0.80845784,
          0.80845784,
          0.80845784,
          0.80845784,
          0.80845784,
          0.80845784,
          0.80845784,
          0.80845784,
          0.80845784,
          0.80845784,
          1.15030193,
          1.15030193,
          1.15030193,
          1.15030193,
          1.15030193,
          1.15030193,
          0.80845784,
          0.80845784,
          0,
          0,
          0,
          0,
          0,
          0,
          0,
          0.68566885,
          0.68566885,
          0.68566885,
          0.68566885,
          1.05436949,
          1.05436949,
          1.05436949
         ],
         "yaxis": "y3"
        },
        {
         "mode": "lines",
         "name": "bitstamp:/BTC:/total",
         "type": "scatter",
         "uid": "e94992fc-d52f-4306-9fe4-5bb0b6239c20",
         "xaxis": "x3",
         "y": [
          10,
          10,
          10,
          10,
          10,
          10,
          10,
          10.22762557,
          10.22762557,
          10,
          10,
          10,
          10,
          10,
          10,
          10,
          10.81630257,
          10.81630257,
          11.1668611,
          11.1668611,
          11.1668611,
          10.35055853,
          10.91636488,
          10.91636488,
          10.91636488,
          10.91636488,
          10.91636488,
          10.91636488,
          10.91636488,
          10.91636488,
          10.91636488,
          10.91636488,
          10.91636488,
          10.91636488,
          10.91636488,
          10.91636488,
          10.91636488,
          10.91636488,
          10.91636488,
          10.91636488,
          10.91636488,
          10.91636488,
          10.91636488,
          10.91636488,
          10.91636488,
          10.91636488,
          10.91636488,
          10.91636488,
          10.91636488,
          10.91636488,
          10.91636488,
          10.91636488,
          10.91636488,
          10.91636488,
          10.91636488,
          10.91636488,
          10.91636488,
          10.91636488,
          10.91636488,
          10.91636488,
          10.91636488,
          10.91636488,
          10.91636488,
          10.91636488,
          10.91636488,
          10.91636488,
          10.91636488,
          10.56580635,
          10,
          10.80845784,
          10.80845784,
          10.80845784,
          10.80845784,
          10.80845784,
          10.80845784,
          10.80845784,
          10.80845784,
          10.80845784,
          10.80845784,
          11.15030193,
          11.15030193,
          11.15030193,
          11.15030193,
          11.15030193,
          11.15030193,
          10.80845784,
          10.80845784,
          10,
          10,
          10,
          10,
          10,
          10,
          10,
          10.68566885,
          10.68566885,
          10.68566885,
          10.68566885,
          11.05436949,
          11.05436949,
          11.05436949
         ],
         "yaxis": "y3"
        },
        {
         "mode": "lines",
         "name": "bitstamp:/BTC:/worth",
         "type": "scatter",
         "uid": "b6883f74-9449-4936-99a3-4edb4de7dfbc",
         "xaxis": "x3",
         "y": [
          87409.9,
          87390,
          87284.9,
          87083.2,
          87959,
          87600,
          87600,
          89586.1247215111,
          87116.56225137891,
          85203,
          85352.29999999999,
          85463.4,
          85266.5,
          85556,
          85121,
          84922.8,
          91505.9197422,
          91668.05611772429,
          94426.08411271201,
          92978.412239708,
          90824.88307657301,
          84510.1367801587,
          89834.9148161744,
          89736.885859552,
          89937.746973344,
          89874.32289339119,
          89595.8464253024,
          89988.50807003601,
          91382.30953791439,
          91402.72314023999,
          91316.2655303904,
          89295.7555547512,
          89787.101138,
          90450.816122704,
          90315.453198192,
          90577.445955312,
          90386.3004062632,
          90089.7027724736,
          90629.6261794384,
          90560.525589748,
          90357.48120298,
          91114.4219437592,
          91242.25257650399,
          91425.647506488,
          91354.90946206561,
          91334.16836879359,
          90767.06321327761,
          91301.200946856,
          91087.8951771008,
          90031.62771131199,
          90359.118657712,
          90514.8951845496,
          90691.95862290318,
          90593.82050263199,
          90272.5518842136,
          90616.5265415824,
          90807.6720906312,
          90675.58407558319,
          90348.5297837784,
          90143.9571059272,
          89143.03561008,
          89255.8016592904,
          89521.833471416,
          89027.4313060008,
          88204.2282304,
          88062.64297790639,
          86873.3050242304,
          84254.3812864875,
          79985,
          86381.08697270161,
          86713.01471296801,
          86932.10215338481,
          86096.60836235281,
          87429.075044868,
          87788.3481834696,
          87634.8680821416,
          87956.3116183032,
          87710.6353716,
          87624.16770888,
          90255.003942192,
          90094.5510974193,
          90508.00429298369,
          90618.39228209069,
          90439.54143913349,
          91604.07897270269,
          88968.95603333281,
          89063.0977011192,
          82350,
          82199,
          82488.70000000001,
          82135,
          82009.9,
          82000,
          82373,
          87923.0724347505,
          88058.78042914551,
          87781.701035865,
          87302.6625013195,
          90976.0238346663,
          90710.71896690631,
          91226.84747839438
         ],
         "yaxis": "y3"
        },
        {
         "mode": "lines",
         "name": "net_worth",
         "type": "scatter",
         "uid": "82d0ed48-8a54-46b0-acbb-695cef904895",
         "xaxis": "x3",
         "y": [
          97409.9,
          97390,
          97284.9,
          97083.2,
          97959,
          97600,
          97600,
          97586.1247215111,
          95116.56225137891,
          95136.05,
          95285.34999999999,
          95396.45,
          95199.55,
          95489.05,
          95054.05,
          94855.85,
          94485.8397422,
          94647.97611772429,
          94426.08411271201,
          92978.412239708,
          90824.88307657301,
          91129.5567801587,
          91820.7448161744,
          91722.715859552,
          91923.576973344,
          91860.15289339119,
          91581.6764253024,
          91974.33807003601,
          93368.1395379144,
          93388.55314024,
          93302.0955303904,
          91281.5855547512,
          91772.931138,
          92436.646122704,
          92301.283198192,
          92563.275955312,
          92372.1304062632,
          92075.5327724736,
          92615.4561794384,
          92546.355589748,
          92343.31120298,
          93100.2519437592,
          93228.08257650399,
          93411.47750648801,
          93340.73946206561,
          93319.99836879359,
          92752.89321327761,
          93287.030946856,
          93073.7251771008,
          92017.45771131199,
          92344.948657712,
          92500.7251845496,
          92677.78862290319,
          92579.650502632,
          92258.3818842136,
          92602.3565415824,
          92793.5020906312,
          92661.41407558319,
          92334.3597837784,
          92129.7871059272,
          91128.86561008,
          91241.6316592904,
          91507.663471416,
          91013.2613060008,
          90190.0582304,
          90048.4729779064,
          88859.1350242304,
          89021.6112864875,
          89250.58,
          89160.75697270161,
          89492.68471296801,
          89711.77215338481,
          88876.27836235281,
          90208.745044868,
          90568.0181834696,
          90414.5380821416,
          90735.9816183032,
          90490.3053716,
          90403.83770888,
          90255.003942192,
          90094.5510974193,
          90508.00429298369,
          90618.39228209069,
          90439.54143913349,
          91604.07897270269,
          91768.91603333282,
          91863.0577011192,
          91791.77,
          91640.77,
          91930.47000000002,
          91576.77,
          91451.67,
          91441.77,
          91814.77,
          91699.78243475051,
          91835.49042914552,
          91558.411035865,
          91079.3725013195,
          91731.36383466629,
          91466.0589669063,
          91982.18747839438
         ],
         "yaxis": "y3"
        },
        {
         "marker": {
          "color": "DarkGreen"
         },
         "mode": "lines",
         "name": "Net Worth",
         "type": "scatter",
         "uid": "0daae425-e5cd-4506-8381-4ac9b1ccd21d",
         "xaxis": "x4",
         "y": [
          97409.9,
          97390,
          97284.9,
          97083.2,
          97959,
          97600,
          97600,
          97586.1247215111,
          95116.56225137891,
          95136.05,
          95285.34999999999,
          95396.45,
          95199.55,
          95489.05,
          95054.05,
          94855.85,
          94485.8397422,
          94647.97611772429,
          94426.08411271201,
          92978.412239708,
          90824.88307657301,
          91129.5567801587,
          91820.7448161744,
          91722.715859552,
          91923.576973344,
          91860.15289339119,
          91581.6764253024,
          91974.33807003601,
          93368.1395379144,
          93388.55314024,
          93302.0955303904,
          91281.5855547512,
          91772.931138,
          92436.646122704,
          92301.283198192,
          92563.275955312,
          92372.1304062632,
          92075.5327724736,
          92615.4561794384,
          92546.355589748,
          92343.31120298,
          93100.2519437592,
          93228.08257650399,
          93411.47750648801,
          93340.73946206561,
          93319.99836879359,
          92752.89321327761,
          93287.030946856,
          93073.7251771008,
          92017.45771131199,
          92344.948657712,
          92500.7251845496,
          92677.78862290319,
          92579.650502632,
          92258.3818842136,
          92602.3565415824,
          92793.5020906312,
          92661.41407558319,
          92334.3597837784,
          92129.7871059272,
          91128.86561008,
          91241.6316592904,
          91507.663471416,
          91013.2613060008,
          90190.0582304,
          90048.4729779064,
          88859.1350242304,
          89021.6112864875,
          89250.58,
          89160.75697270161,
          89492.68471296801,
          89711.77215338481,
          88876.27836235281,
          90208.745044868,
          90568.0181834696,
          90414.5380821416,
          90735.9816183032,
          90490.3053716,
          90403.83770888,
          90255.003942192,
          90094.5510974193,
          90508.00429298369,
          90618.39228209069,
          90439.54143913349,
          91604.07897270269,
          91768.91603333282,
          91863.0577011192,
          91791.77,
          91640.77,
          91930.47000000002,
          91576.77,
          91451.67,
          91441.77,
          91814.77,
          91699.78243475051,
          91835.49042914552,
          91558.411035865,
          91079.3725013195,
          91731.36383466629,
          91466.0589669063,
          91982.18747839438
         ],
         "yaxis": "y4"
        }
       ],
       "layout": {
        "annotations": [
         {
          "arrowcolor": "DarkGreen",
          "arrowhead": 2,
          "arrowsize": 0.8,
          "arrowwidth": 4,
          "ax": 0,
          "ay": 15,
          "hoverlabel": {
           "bgcolor": "DarkGreen"
          },
          "hovertext": "Step 22 [2018-05-16 03:00:00]<br>BUY 0.56580635 BTC @ 8164.79 USD MARKET<br>Total: 4619.69 USD - Comm.: 13.90 USD",
          "opacity": 0.6,
          "showarrow": true,
          "x": 21,
          "xref": "x",
          "y": 8164.79,
          "yref": "y"
         },
         {
          "arrowcolor": "FireBrick",
          "arrowhead": 2,
          "arrowsize": 0.8,
          "arrowwidth": 4,
          "ax": 0,
          "ay": -15,
          "hoverlabel": {
           "bgcolor": "FireBrick"
          },
          "hovertext": "Step 21 [2018-05-16 02:00:00]<br>SELL 0.81385366 BTC @ 8133.43 USD MARKET<br>Total: 6619.42 USD - Comm.: 0.00244891 BTC",
          "opacity": 0.6,
          "showarrow": true,
          "x": 20,
          "xref": "x",
          "y": 8133.43,
          "yref": "y"
         },
         {
          "arrowcolor": "DarkGreen",
          "arrowhead": 2,
          "arrowsize": 0.8,
          "arrowwidth": 4,
          "ax": 0,
          "ay": 15,
          "hoverlabel": {
           "bgcolor": "DarkGreen"
          },
          "hovertext": "Step 18 [2018-05-15 23:00:00]<br>BUY 0.35055853 BTC @ 8474.99 USD MARKET<br>Total: 2970.98 USD - Comm.: 8.94 USD",
          "opacity": 0.6,
          "showarrow": true,
          "x": 17,
          "xref": "x",
          "y": 8474.99,
          "yref": "y"
         },
         {
          "arrowcolor": "DarkGreen",
          "arrowhead": 2,
          "arrowsize": 0.8,
          "arrowwidth": 4,
          "ax": 0,
          "ay": 15,
          "hoverlabel": {
           "bgcolor": "DarkGreen"
          },
          "hovertext": "Step 16 [2018-05-15 21:00:00]<br>BUY 0.81630257 BTC @ 8492.28 USD MARKET<br>Total: 6932.27 USD - Comm.: 20.86 USD",
          "opacity": 0.6,
          "showarrow": true,
          "x": 15,
          "xref": "x",
          "y": 8492.28,
          "yref": "y"
         },
         {
          "arrowcolor": "FireBrick",
          "arrowhead": 2,
          "arrowsize": 0.8,
          "arrowwidth": 4,
          "ax": 0,
          "ay": -15,
          "hoverlabel": {
           "bgcolor": "FireBrick"
          },
          "hovertext": "Step 9 [2018-05-15 14:00:00]<br>SELL 0.22694269 BTC @ 8517.77 USD MARKET<br>Total: 1933.05 USD - Comm.: 0.00068288 BTC",
          "opacity": 0.6,
          "showarrow": true,
          "x": 8,
          "xref": "x",
          "y": 8517.77,
          "yref": "y"
         },
         {
          "arrowcolor": "DarkGreen",
          "arrowhead": 2,
          "arrowsize": 0.8,
          "arrowwidth": 4,
          "ax": 0,
          "ay": 15,
          "hoverlabel": {
           "bgcolor": "DarkGreen"
          },
          "hovertext": "Step 7 [2018-05-15 12:00:00]<br>BUY 0.22762557 BTC @ 8760.0 USD MARKET<br>Total: 1994.0 USD - Comm.: 6.00 USD",
          "opacity": 0.6,
          "showarrow": true,
          "x": 6,
          "xref": "x",
          "y": 8760,
          "yref": "y"
         },
         {
          "arrowcolor": "DarkGreen",
          "arrowhead": 2,
          "arrowsize": 0.8,
          "arrowwidth": 4,
          "ax": 0,
          "ay": 15,
          "hoverlabel": {
           "bgcolor": "DarkGreen"
          },
          "hovertext": "Step 98 [2018-05-19 07:00:00]<br>BUY 0.36870064 BTC @ 8170.07 USD MARKET<br>Total: 3012.31 USD - Comm.: 9.06 USD",
          "opacity": 0.6,
          "showarrow": true,
          "x": 97,
          "xref": "x",
          "y": 8170.07,
          "yref": "y"
         },
         {
          "arrowcolor": "DarkGreen",
          "arrowhead": 2,
          "arrowsize": 0.8,
          "arrowwidth": 4,
          "ax": 0,
          "ay": 15,
          "hoverlabel": {
           "bgcolor": "DarkGreen"
          },
          "hovertext": "Step 94 [2018-05-19 03:00:00]<br>BUY 0.68566885 BTC @ 8237.3 USD MARKET<br>Total: 5648.06 USD - Comm.: 17.00 USD",
          "opacity": 0.6,
          "showarrow": true,
          "x": 93,
          "xref": "x",
          "y": 8237.3,
          "yref": "y"
         },
         {
          "arrowcolor": "FireBrick",
          "arrowhead": 2,
          "arrowsize": 0.8,
          "arrowwidth": 4,
          "ax": 0,
          "ay": -15,
          "hoverlabel": {
           "bgcolor": "FireBrick"
          },
          "hovertext": "Step 87 [2018-05-18 20:00:00]<br>SELL 0.80603247 BTC @ 8240.13 USD MARKET<br>Total: 6641.81 USD - Comm.: 0.00242537 BTC",
          "opacity": 0.6,
          "showarrow": true,
          "x": 86,
          "xref": "x",
          "y": 8240.13,
          "yref": "y"
         },
         {
          "arrowcolor": "FireBrick",
          "arrowhead": 2,
          "arrowsize": 0.8,
          "arrowwidth": 4,
          "ax": 0,
          "ay": -15,
          "hoverlabel": {
           "bgcolor": "FireBrick"
          },
          "hovertext": "Step 85 [2018-05-18 18:00:00]<br>SELL 0.34081856 BTC @ 8215.39 USD MARKET<br>Total: 2799.96 USD - Comm.: 0.00102553 BTC",
          "opacity": 0.6,
          "showarrow": true,
          "x": 84,
          "xref": "x",
          "y": 8215.39,
          "yref": "y"
         },
         {
          "arrowcolor": "DarkGreen",
          "arrowhead": 2,
          "arrowsize": 0.8,
          "arrowwidth": 4,
          "ax": 0,
          "ay": 15,
          "hoverlabel": {
           "bgcolor": "DarkGreen"
          },
          "hovertext": "Step 79 [2018-05-18 12:00:00]<br>BUY 0.34184409 BTC @ 8107.0 USD MARKET<br>Total: 2771.33 USD - Comm.: 8.34 USD",
          "opacity": 0.6,
          "showarrow": true,
          "x": 78,
          "xref": "x",
          "y": 8107,
          "yref": "y"
         },
         {
          "arrowcolor": "DarkGreen",
          "arrowhead": 2,
          "arrowsize": 0.8,
          "arrowwidth": 4,
          "ax": 0,
          "ay": 15,
          "hoverlabel": {
           "bgcolor": "DarkGreen"
          },
          "hovertext": "Step 69 [2018-05-18 02:00:00]<br>BUY 0.80845784 BTC @ 7998.5 USD MARKET<br>Total: 6466.45 USD - Comm.: 19.46 USD",
          "opacity": 0.6,
          "showarrow": true,
          "x": 68,
          "xref": "x",
          "y": 7998.5,
          "yref": "y"
         },
         {
          "arrowcolor": "FireBrick",
          "arrowhead": 2,
          "arrowsize": 0.8,
          "arrowwidth": 4,
          "ax": 0,
          "ay": -15,
          "hoverlabel": {
           "bgcolor": "FireBrick"
          },
          "hovertext": "Step 68 [2018-05-18 01:00:00]<br>SELL 0.56410893 BTC @ 7974.25 USD MARKET<br>Total: 4498.35 USD - Comm.: 0.00169742 BTC",
          "opacity": 0.6,
          "showarrow": true,
          "x": 67,
          "xref": "x",
          "y": 7974.25,
          "yref": "y"
         },
         {
          "arrowcolor": "FireBrick",
          "arrowhead": 2,
          "arrowsize": 0.8,
          "arrowwidth": 4,
          "ax": 0,
          "ay": -15,
          "hoverlabel": {
           "bgcolor": "FireBrick"
          },
          "hovertext": "Step 67 [2018-05-18 00:00:00]<br>SELL 0.34950685 BTC @ 7958.08 USD MARKET<br>Total: 2781.4 USD - Comm.: 0.00105168 BTC",
          "opacity": 0.6,
          "showarrow": true,
          "x": 66,
          "xref": "x",
          "y": 7958.08,
          "yref": "y"
         }
        ],
        "margin": {
         "t": 50
        },
        "template": {
         "data": {
          "bar": [
           {
            "error_x": {
             "color": "#2a3f5f"
            },
            "error_y": {
             "color": "#2a3f5f"
            },
            "marker": {
             "line": {
              "color": "white",
              "width": 0.5
             }
            },
            "type": "bar"
           }
          ],
          "barpolar": [
           {
            "marker": {
             "line": {
              "color": "white",
              "width": 0.5
             }
            },
            "type": "barpolar"
           }
          ],
          "carpet": [
           {
            "aaxis": {
             "endlinecolor": "#2a3f5f",
             "gridcolor": "#C8D4E3",
             "linecolor": "#C8D4E3",
             "minorgridcolor": "#C8D4E3",
             "startlinecolor": "#2a3f5f"
            },
            "baxis": {
             "endlinecolor": "#2a3f5f",
             "gridcolor": "#C8D4E3",
             "linecolor": "#C8D4E3",
             "minorgridcolor": "#C8D4E3",
             "startlinecolor": "#2a3f5f"
            },
            "type": "carpet"
           }
          ],
          "choropleth": [
           {
            "colorbar": {
             "outlinewidth": 0,
             "ticks": ""
            },
            "type": "choropleth"
           }
          ],
          "contour": [
           {
            "colorbar": {
             "outlinewidth": 0,
             "ticks": ""
            },
            "colorscale": [
             [
              0,
              "#0d0887"
             ],
             [
              0.1111111111111111,
              "#46039f"
             ],
             [
              0.2222222222222222,
              "#7201a8"
             ],
             [
              0.3333333333333333,
              "#9c179e"
             ],
             [
              0.4444444444444444,
              "#bd3786"
             ],
             [
              0.5555555555555556,
              "#d8576b"
             ],
             [
              0.6666666666666666,
              "#ed7953"
             ],
             [
              0.7777777777777778,
              "#fb9f3a"
             ],
             [
              0.8888888888888888,
              "#fdca26"
             ],
             [
              1,
              "#f0f921"
             ]
            ],
            "type": "contour"
           }
          ],
          "contourcarpet": [
           {
            "colorbar": {
             "outlinewidth": 0,
             "ticks": ""
            },
            "type": "contourcarpet"
           }
          ],
          "heatmap": [
           {
            "colorbar": {
             "outlinewidth": 0,
             "ticks": ""
            },
            "colorscale": [
             [
              0,
              "#0d0887"
             ],
             [
              0.1111111111111111,
              "#46039f"
             ],
             [
              0.2222222222222222,
              "#7201a8"
             ],
             [
              0.3333333333333333,
              "#9c179e"
             ],
             [
              0.4444444444444444,
              "#bd3786"
             ],
             [
              0.5555555555555556,
              "#d8576b"
             ],
             [
              0.6666666666666666,
              "#ed7953"
             ],
             [
              0.7777777777777778,
              "#fb9f3a"
             ],
             [
              0.8888888888888888,
              "#fdca26"
             ],
             [
              1,
              "#f0f921"
             ]
            ],
            "type": "heatmap"
           }
          ],
          "heatmapgl": [
           {
            "colorbar": {
             "outlinewidth": 0,
             "ticks": ""
            },
            "colorscale": [
             [
              0,
              "#0d0887"
             ],
             [
              0.1111111111111111,
              "#46039f"
             ],
             [
              0.2222222222222222,
              "#7201a8"
             ],
             [
              0.3333333333333333,
              "#9c179e"
             ],
             [
              0.4444444444444444,
              "#bd3786"
             ],
             [
              0.5555555555555556,
              "#d8576b"
             ],
             [
              0.6666666666666666,
              "#ed7953"
             ],
             [
              0.7777777777777778,
              "#fb9f3a"
             ],
             [
              0.8888888888888888,
              "#fdca26"
             ],
             [
              1,
              "#f0f921"
             ]
            ],
            "type": "heatmapgl"
           }
          ],
          "histogram": [
           {
            "marker": {
             "colorbar": {
              "outlinewidth": 0,
              "ticks": ""
             }
            },
            "type": "histogram"
           }
          ],
          "histogram2d": [
           {
            "colorbar": {
             "outlinewidth": 0,
             "ticks": ""
            },
            "colorscale": [
             [
              0,
              "#0d0887"
             ],
             [
              0.1111111111111111,
              "#46039f"
             ],
             [
              0.2222222222222222,
              "#7201a8"
             ],
             [
              0.3333333333333333,
              "#9c179e"
             ],
             [
              0.4444444444444444,
              "#bd3786"
             ],
             [
              0.5555555555555556,
              "#d8576b"
             ],
             [
              0.6666666666666666,
              "#ed7953"
             ],
             [
              0.7777777777777778,
              "#fb9f3a"
             ],
             [
              0.8888888888888888,
              "#fdca26"
             ],
             [
              1,
              "#f0f921"
             ]
            ],
            "type": "histogram2d"
           }
          ],
          "histogram2dcontour": [
           {
            "colorbar": {
             "outlinewidth": 0,
             "ticks": ""
            },
            "colorscale": [
             [
              0,
              "#0d0887"
             ],
             [
              0.1111111111111111,
              "#46039f"
             ],
             [
              0.2222222222222222,
              "#7201a8"
             ],
             [
              0.3333333333333333,
              "#9c179e"
             ],
             [
              0.4444444444444444,
              "#bd3786"
             ],
             [
              0.5555555555555556,
              "#d8576b"
             ],
             [
              0.6666666666666666,
              "#ed7953"
             ],
             [
              0.7777777777777778,
              "#fb9f3a"
             ],
             [
              0.8888888888888888,
              "#fdca26"
             ],
             [
              1,
              "#f0f921"
             ]
            ],
            "type": "histogram2dcontour"
           }
          ],
          "mesh3d": [
           {
            "colorbar": {
             "outlinewidth": 0,
             "ticks": ""
            },
            "type": "mesh3d"
           }
          ],
          "parcoords": [
           {
            "line": {
             "colorbar": {
              "outlinewidth": 0,
              "ticks": ""
             }
            },
            "type": "parcoords"
           }
          ],
          "pie": [
           {
            "automargin": true,
            "type": "pie"
           }
          ],
          "scatter": [
           {
            "marker": {
             "colorbar": {
              "outlinewidth": 0,
              "ticks": ""
             }
            },
            "type": "scatter"
           }
          ],
          "scatter3d": [
           {
            "line": {
             "colorbar": {
              "outlinewidth": 0,
              "ticks": ""
             }
            },
            "marker": {
             "colorbar": {
              "outlinewidth": 0,
              "ticks": ""
             }
            },
            "type": "scatter3d"
           }
          ],
          "scattercarpet": [
           {
            "marker": {
             "colorbar": {
              "outlinewidth": 0,
              "ticks": ""
             }
            },
            "type": "scattercarpet"
           }
          ],
          "scattergeo": [
           {
            "marker": {
             "colorbar": {
              "outlinewidth": 0,
              "ticks": ""
             }
            },
            "type": "scattergeo"
           }
          ],
          "scattergl": [
           {
            "marker": {
             "colorbar": {
              "outlinewidth": 0,
              "ticks": ""
             }
            },
            "type": "scattergl"
           }
          ],
          "scattermapbox": [
           {
            "marker": {
             "colorbar": {
              "outlinewidth": 0,
              "ticks": ""
             }
            },
            "type": "scattermapbox"
           }
          ],
          "scatterpolar": [
           {
            "marker": {
             "colorbar": {
              "outlinewidth": 0,
              "ticks": ""
             }
            },
            "type": "scatterpolar"
           }
          ],
          "scatterpolargl": [
           {
            "marker": {
             "colorbar": {
              "outlinewidth": 0,
              "ticks": ""
             }
            },
            "type": "scatterpolargl"
           }
          ],
          "scatterternary": [
           {
            "marker": {
             "colorbar": {
              "outlinewidth": 0,
              "ticks": ""
             }
            },
            "type": "scatterternary"
           }
          ],
          "surface": [
           {
            "colorbar": {
             "outlinewidth": 0,
             "ticks": ""
            },
            "colorscale": [
             [
              0,
              "#0d0887"
             ],
             [
              0.1111111111111111,
              "#46039f"
             ],
             [
              0.2222222222222222,
              "#7201a8"
             ],
             [
              0.3333333333333333,
              "#9c179e"
             ],
             [
              0.4444444444444444,
              "#bd3786"
             ],
             [
              0.5555555555555556,
              "#d8576b"
             ],
             [
              0.6666666666666666,
              "#ed7953"
             ],
             [
              0.7777777777777778,
              "#fb9f3a"
             ],
             [
              0.8888888888888888,
              "#fdca26"
             ],
             [
              1,
              "#f0f921"
             ]
            ],
            "type": "surface"
           }
          ],
          "table": [
           {
            "cells": {
             "fill": {
              "color": "#EBF0F8"
             },
             "line": {
              "color": "white"
             }
            },
            "header": {
             "fill": {
              "color": "#C8D4E3"
             },
             "line": {
              "color": "white"
             }
            },
            "type": "table"
           }
          ]
         },
         "layout": {
          "annotationdefaults": {
           "arrowcolor": "#2a3f5f",
           "arrowhead": 0,
           "arrowwidth": 1
          },
          "autotypenumbers": "strict",
          "coloraxis": {
           "colorbar": {
            "outlinewidth": 0,
            "ticks": ""
           }
          },
          "colorscale": {
           "diverging": [
            [
             0,
             "#8e0152"
            ],
            [
             0.1,
             "#c51b7d"
            ],
            [
             0.2,
             "#de77ae"
            ],
            [
             0.3,
             "#f1b6da"
            ],
            [
             0.4,
             "#fde0ef"
            ],
            [
             0.5,
             "#f7f7f7"
            ],
            [
             0.6,
             "#e6f5d0"
            ],
            [
             0.7,
             "#b8e186"
            ],
            [
             0.8,
             "#7fbc41"
            ],
            [
             0.9,
             "#4d9221"
            ],
            [
             1,
             "#276419"
            ]
           ],
           "sequential": [
            [
             0,
             "#0d0887"
            ],
            [
             0.1111111111111111,
             "#46039f"
            ],
            [
             0.2222222222222222,
             "#7201a8"
            ],
            [
             0.3333333333333333,
             "#9c179e"
            ],
            [
             0.4444444444444444,
             "#bd3786"
            ],
            [
             0.5555555555555556,
             "#d8576b"
            ],
            [
             0.6666666666666666,
             "#ed7953"
            ],
            [
             0.7777777777777778,
             "#fb9f3a"
            ],
            [
             0.8888888888888888,
             "#fdca26"
            ],
            [
             1,
             "#f0f921"
            ]
           ],
           "sequentialminus": [
            [
             0,
             "#0d0887"
            ],
            [
             0.1111111111111111,
             "#46039f"
            ],
            [
             0.2222222222222222,
             "#7201a8"
            ],
            [
             0.3333333333333333,
             "#9c179e"
            ],
            [
             0.4444444444444444,
             "#bd3786"
            ],
            [
             0.5555555555555556,
             "#d8576b"
            ],
            [
             0.6666666666666666,
             "#ed7953"
            ],
            [
             0.7777777777777778,
             "#fb9f3a"
            ],
            [
             0.8888888888888888,
             "#fdca26"
            ],
            [
             1,
             "#f0f921"
            ]
           ]
          },
          "colorway": [
           "#636efa",
           "#EF553B",
           "#00cc96",
           "#ab63fa",
           "#FFA15A",
           "#19d3f3",
           "#FF6692",
           "#B6E880",
           "#FF97FF",
           "#FECB52"
          ],
          "font": {
           "color": "#2a3f5f"
          },
          "geo": {
           "bgcolor": "white",
           "lakecolor": "white",
           "landcolor": "white",
           "showlakes": true,
           "showland": true,
           "subunitcolor": "#C8D4E3"
          },
          "hoverlabel": {
           "align": "left"
          },
          "hovermode": "closest",
          "mapbox": {
           "style": "light"
          },
          "paper_bgcolor": "white",
          "plot_bgcolor": "white",
          "polar": {
           "angularaxis": {
            "gridcolor": "#EBF0F8",
            "linecolor": "#EBF0F8",
            "ticks": ""
           },
           "bgcolor": "white",
           "radialaxis": {
            "gridcolor": "#EBF0F8",
            "linecolor": "#EBF0F8",
            "ticks": ""
           }
          },
          "scene": {
           "xaxis": {
            "backgroundcolor": "white",
            "gridcolor": "#DFE8F3",
            "gridwidth": 2,
            "linecolor": "#EBF0F8",
            "showbackground": true,
            "ticks": "",
            "zerolinecolor": "#EBF0F8"
           },
           "yaxis": {
            "backgroundcolor": "white",
            "gridcolor": "#DFE8F3",
            "gridwidth": 2,
            "linecolor": "#EBF0F8",
            "showbackground": true,
            "ticks": "",
            "zerolinecolor": "#EBF0F8"
           },
           "zaxis": {
            "backgroundcolor": "white",
            "gridcolor": "#DFE8F3",
            "gridwidth": 2,
            "linecolor": "#EBF0F8",
            "showbackground": true,
            "ticks": "",
            "zerolinecolor": "#EBF0F8"
           }
          },
          "shapedefaults": {
           "line": {
            "color": "#2a3f5f"
           }
          },
          "ternary": {
           "aaxis": {
            "gridcolor": "#DFE8F3",
            "linecolor": "#A2B1C6",
            "ticks": ""
           },
           "baxis": {
            "gridcolor": "#DFE8F3",
            "linecolor": "#A2B1C6",
            "ticks": ""
           },
           "bgcolor": "white",
           "caxis": {
            "gridcolor": "#DFE8F3",
            "linecolor": "#A2B1C6",
            "ticks": ""
           }
          },
          "title": {
           "x": 0.05
          },
          "xaxis": {
           "automargin": true,
           "gridcolor": "#EBF0F8",
           "linecolor": "#EBF0F8",
           "ticks": "",
           "title": {
            "standoff": 15
           },
           "zerolinecolor": "#EBF0F8",
           "zerolinewidth": 2
          },
          "yaxis": {
           "automargin": true,
           "gridcolor": "#EBF0F8",
           "linecolor": "#EBF0F8",
           "ticks": "",
           "title": {
            "standoff": 15
           },
           "zerolinecolor": "#EBF0F8",
           "zerolinewidth": 2
          }
         }
        },
        "title": {
         "text": "[2021-03-26 10:58:33 AM] Episode: 2/2 Step: 101/200"
        },
        "xaxis": {
         "anchor": "y",
         "domain": [
          0,
          1
         ],
         "gridcolor": "Gainsboro",
         "linecolor": "Grey",
         "matches": "x4",
         "rangeslider": {
          "visible": false
         },
         "showticklabels": false,
         "title": {
          "font": {
           "size": 12
          },
          "standoff": 7,
          "text": "Price"
         }
        },
        "xaxis2": {
         "anchor": "y2",
         "domain": [
          0,
          1
         ],
         "gridcolor": "Gainsboro",
         "linecolor": "Grey",
         "matches": "x4",
         "showticklabels": false,
         "title": {
          "font": {
           "size": 12
          },
          "standoff": 7,
          "text": "Volume"
         }
        },
        "xaxis3": {
         "anchor": "y3",
         "domain": [
          0,
          1
         ],
         "gridcolor": "Gainsboro",
         "linecolor": "Grey",
         "matches": "x4",
         "showticklabels": false,
         "title": {
          "font": {
           "size": 12
          },
          "standoff": 7,
          "text": "Performance"
         }
        },
        "xaxis4": {
         "anchor": "y4",
         "domain": [
          0,
          1
         ],
         "gridcolor": "Gainsboro",
         "linecolor": "Grey",
         "title": {
          "font": {
           "size": 12
          },
          "standoff": 7,
          "text": "Net Worth"
         }
        },
        "yaxis": {
         "anchor": "x",
         "domain": [
          0.49950000000000006,
          1
         ],
         "gridcolor": "Gainsboro",
         "linecolor": "Grey"
        },
        "yaxis2": {
         "anchor": "x2",
         "domain": [
          0.333,
          0.46950000000000003
         ],
         "gridcolor": "Gainsboro",
         "linecolor": "Grey"
        },
        "yaxis3": {
         "anchor": "x3",
         "domain": [
          0.1665,
          0.30300000000000005
         ],
         "gridcolor": "Gainsboro",
         "linecolor": "Grey"
        },
        "yaxis4": {
         "anchor": "x4",
         "domain": [
          0,
          0.1365
         ],
         "gridcolor": "Gainsboro",
         "linecolor": "Grey"
        }
       }
      }
     },
     "metadata": {}
    },
    {
     "output_type": "display_data",
     "data": {
      "text/plain": "FigureWidget({\n    'data': [{'close': array([8740.99, 8739.  , 8728.49, 8708.32, 8795.9 , 8760.  , 8760.  , 87…",
      "application/vnd.jupyter.widget-view+json": {
       "version_major": 2,
       "version_minor": 0,
       "model_id": "770a587930f04eba8e00c05b26a54679"
      }
     },
     "metadata": {}
    },
    {
     "output_type": "display_data",
     "data": {
      "application/vnd.plotly.v1+json": {
       "config": {
        "plotlyServerURL": "https://plot.ly"
       },
       "data": [
        {
         "close": [
          8740.99,
          8739,
          8728.49,
          8708.32,
          8795.9,
          8760,
          8760,
          8759.23,
          8517.77,
          8520.3,
          8535.23,
          8546.34,
          8526.65,
          8555.6,
          8512.1,
          8492.28,
          8460,
          8474.99,
          8455.92,
          8326.28,
          8133.43,
          8164.79,
          8229.38,
          8220.4,
          8238.8,
          8232.99,
          8207.48,
          8243.45,
          8371.13,
          8373,
          8365.08,
          8179.99,
          8225,
          8285.8,
          8273.4,
          8297.4,
          8279.89,
          8252.72,
          8302.18,
          8295.85,
          8277.25,
          8346.59,
          8358.3,
          8375.1,
          8368.62,
          8366.72,
          8314.77,
          8363.7,
          8344.16,
          8247.4,
          8277.4,
          8291.67,
          8307.89,
          8298.9,
          8269.47,
          8300.98,
          8318.49,
          8306.39,
          8276.43,
          8257.69,
          8166,
          8176.33,
          8200.7,
          8155.41,
          8080,
          8067.03,
          7958.08,
          7974.25,
          7998.5,
          7991.99,
          8022.7,
          8042.97,
          7965.67,
          8088.95,
          8122.19,
          8107.99,
          8137.73,
          8115,
          8107,
          8094.4,
          8080.01,
          8117.09,
          8126.99,
          8110.95,
          8215.39,
          8231.42,
          8240.13,
          8235,
          8219.9,
          8248.87,
          8213.5,
          8200.99,
          8200,
          8237.3,
          8228.13,
          8240.83,
          8214.9,
          8170.07,
          8229.87,
          8205.87,
          8252.56,
          8365,
          8348.65,
          8303.99,
          8310.48,
          8310,
          8289.87,
          8304.99,
          8301.35,
          8313.12,
          8240.07,
          8199.99,
          8226.98,
          8231.2,
          8198.89,
          8215.85,
          8279.99,
          8255.08,
          8270.4,
          8244.24,
          8239.12,
          8267.14,
          8282.27,
          8350.62,
          8336.6,
          8336.91,
          8311.21,
          8312.09,
          8345.19,
          8377.2,
          8481.11,
          8516.36,
          8524,
          8517.04,
          8558.5,
          8521.99,
          8484.93,
          8518.48,
          8488.99,
          8466.72,
          8492.55,
          8494.28,
          8510.95,
          8498.64,
          8551.1,
          8524.22,
          8510.11,
          8475.62,
          8476.58,
          8467.13,
          8499.84
         ],
         "high": [
          8796.68,
          8766,
          8750.27,
          8754.4,
          8865,
          8821.19,
          8798.6,
          8771.02,
          8761.7,
          8553.67,
          8589.1,
          8579.48,
          8555.51,
          8583.6,
          8569.92,
          8555.54,
          8557.51,
          8505,
          8505.33,
          8478.29,
          8339.81,
          8217.44,
          8252.72,
          8248.63,
          8267.12,
          8255,
          8261.24,
          8263.93,
          8455.66,
          8439.44,
          8399.1,
          8381.73,
          8229.91,
          8377.29,
          8329.1,
          8350,
          8346.95,
          8377.29,
          8311.35,
          8319.96,
          8398.24,
          8372.58,
          8399.99,
          8386.53,
          8400,
          8500,
          8381,
          8371.3,
          8382.41,
          8351,
          8292.99,
          8325.8,
          8318.99,
          8324.9,
          8335.56,
          8309.4,
          8377.29,
          8330.41,
          8328.23,
          8284.36,
          8274.83,
          8200,
          8232.14,
          8213.97,
          8155.41,
          8108.28,
          8068.92,
          8019.9,
          8026.66,
          8025,
          8104.69,
          8061.39,
          8045.99,
          8170.71,
          8144.16,
          8139.99,
          8152.99,
          8137.73,
          8143.72,
          8129.99,
          8106.76,
          8139,
          8152.04,
          8146.99,
          8232.14,
          8275.1,
          8256.12,
          8274.1,
          8255.8,
          8253.97,
          8261.09,
          8235.76,
          8227,
          8273.36,
          8264.21,
          8250,
          8250.86,
          8235.77,
          8232.12,
          8232.14,
          8252.72,
          8370,
          8395,
          8374.48,
          8331,
          8319.43,
          8323.4,
          8314.55,
          8330.62,
          8314.8,
          8323.99,
          8263.03,
          8247.78,
          8253.75,
          8237.89,
          8235,
          8279.99,
          8290,
          8278.71,
          8275.34,
          8279.31,
          8279.98,
          8294.04,
          8356.4,
          8374.94,
          8354.83,
          8360.45,
          8337.14,
          8351.97,
          8377.29,
          8549,
          8531.9,
          8551.79,
          8529.9,
          8590,
          8576.1,
          8549.89,
          8531.89,
          8550,
          8493.29,
          8522.98,
          8517,
          8537.29,
          8524.51,
          8589.1,
          8589.07,
          8536.92,
          8524.03,
          8497.8,
          8498,
          8513.5
         ],
         "low": [
          8707.28,
          8721.11,
          8660.53,
          8701.35,
          8695.11,
          8740.54,
          8741.52,
          8700,
          8467.42,
          8477.89,
          8500.78,
          8500,
          8400,
          8451.05,
          8461.38,
          8481.24,
          8420.37,
          8450,
          8430.94,
          8275.02,
          8100.01,
          8122.56,
          8157.01,
          8166.25,
          8176.91,
          8213.79,
          8200,
          8207.48,
          8237.1,
          8370,
          8356.4,
          8145.1,
          8173.6,
          8211.8,
          8201,
          8250.9,
          8266.46,
          8252.72,
          8232.14,
          8268.37,
          8277.25,
          8277.25,
          8314.78,
          8314.77,
          8350.07,
          8331.39,
          8314.77,
          8275.45,
          8335.49,
          8191.14,
          8227.7,
          8264.13,
          8249.93,
          8269.52,
          8219.44,
          8262.68,
          8286.65,
          8289.87,
          8232.14,
          8232.14,
          8110.02,
          8154.95,
          8168.6,
          8151,
          7980,
          8005.95,
          7929.53,
          7931.03,
          7950,
          7980.58,
          7991.99,
          7992.75,
          7953.4,
          7965.67,
          8085.94,
          8078.48,
          8092.9,
          8049.22,
          8079.46,
          8062.12,
          8043.96,
          8063.1,
          8088.46,
          8094.43,
          8088.46,
          8191.14,
          8212,
          8224.5,
          8211,
          8211.01,
          8210.03,
          8158.27,
          8177.65,
          8179.41,
          8221.92,
          8217.32,
          8213.52,
          8141.08,
          8146.1,
          8186.03,
          8197.09,
          8231.21,
          8323.82,
          8296,
          8296.31,
          8282.65,
          8280,
          8273.36,
          8290.08,
          8277.93,
          8240.07,
          8191.14,
          8178,
          8193.7,
          8180,
          8170.71,
          8215.53,
          8240.02,
          8237.17,
          8237.17,
          8239.12,
          8227.79,
          8247.57,
          8274.24,
          8326.1,
          8320.61,
          8281.31,
          8269.85,
          8311.16,
          8336.11,
          8369.86,
          8471.51,
          8511,
          8476.66,
          8507.68,
          8509.24,
          8482.53,
          8484.93,
          8450,
          8434.47,
          8461.1,
          8481,
          8480,
          8488.1,
          8471.09,
          8509.2,
          8482.64,
          8469,
          8440.4,
          8440.52,
          8461.8
         ],
         "name": "Price",
         "open": [
          8733.86,
          8740.99,
          8739,
          8728.49,
          8708.32,
          8795.9,
          8760,
          8760,
          8759.23,
          8517.77,
          8520.3,
          8535.23,
          8546.34,
          8526.65,
          8555.6,
          8512.1,
          8492.28,
          8460,
          8474.99,
          8455.92,
          8326.28,
          8133.43,
          8164.79,
          8229.38,
          8220.4,
          8238.8,
          8232.99,
          8207.48,
          8243.45,
          8371.13,
          8373,
          8365.08,
          8179.99,
          8225,
          8285.8,
          8273.4,
          8297.4,
          8279.89,
          8252.72,
          8302.18,
          8295.85,
          8277.25,
          8346.59,
          8358.3,
          8375.1,
          8368.62,
          8366.72,
          8314.77,
          8363.7,
          8344.16,
          8247.4,
          8277.4,
          8291.67,
          8307.89,
          8298.9,
          8269.47,
          8300.98,
          8318.49,
          8306.39,
          8276.43,
          8257.69,
          8166,
          8176.33,
          8200.7,
          8155.41,
          8080,
          8067.03,
          7958.08,
          7974.25,
          7998.5,
          7991.99,
          8022.7,
          8042.97,
          7965.67,
          8088.95,
          8122.19,
          8107.99,
          8137.73,
          8115,
          8107,
          8094.4,
          8080.01,
          8117.09,
          8126.99,
          8110.95,
          8215.39,
          8231.42,
          8240.13,
          8235,
          8219.9,
          8248.87,
          8213.5,
          8200.99,
          8200,
          8237.3,
          8228.13,
          8240.83,
          8214.9,
          8170.07,
          8229.87,
          8205.87,
          8252.56,
          8365,
          8348.65,
          8303.99,
          8310.48,
          8310,
          8289.87,
          8304.99,
          8301.35,
          8313.12,
          8240.07,
          8199.99,
          8226.98,
          8231.2,
          8198.89,
          8215.85,
          8279.99,
          8255.08,
          8270.4,
          8244.24,
          8239.12,
          8267.14,
          8282.27,
          8350.62,
          8336.6,
          8336.91,
          8311.21,
          8312.09,
          8345.19,
          8377.2,
          8481.11,
          8516.36,
          8524,
          8517.04,
          8558.5,
          8521.99,
          8484.93,
          8518.48,
          8488.99,
          8466.72,
          8492.55,
          8494.28,
          8510.95,
          8498.64,
          8551.1,
          8524.22,
          8510.11,
          8475.62,
          8476.58,
          8467.13
         ],
         "showlegend": false,
         "type": "candlestick",
         "uid": "e28b1968-48ed-4f4b-afae-b71591fdf84c",
         "xaxis": "x",
         "yaxis": "y"
        },
        {
         "marker": {
          "color": "DodgerBlue"
         },
         "name": "Volume",
         "showlegend": false,
         "type": "bar",
         "uid": "03610c5d-a369-4c9b-a287-9984c1a8d9ae",
         "xaxis": "x2",
         "y": [
          559.93,
          273.58,
          917.79,
          182.62,
          1260.69,
          324.11,
          324.2,
          730.67,
          1341.75,
          792.07,
          385.69,
          475.08,
          877.26,
          670.49,
          610.97,
          168.99,
          305.92,
          136.05,
          154.26,
          1070.93,
          1710.2,
          492.8,
          630.72,
          620.93,
          586.34,
          304.52,
          450.97,
          182.36,
          915.32,
          319.29,
          362.01,
          1046.38,
          357.91,
          561.2,
          322.53,
          1073.71,
          237.21,
          251.2,
          359.73,
          117.23,
          363.17,
          214.18,
          171.64,
          258.58,
          299.52,
          718.98,
          119.7,
          405.25,
          210.77,
          714.82,
          215.97,
          164.2,
          201.55,
          203.41,
          886.82,
          95.49,
          499.67,
          172.77,
          355.39,
          255.27,
          591.06,
          133.1,
          149.13,
          87.55,
          1061.54,
          286.94,
          524.42,
          316,
          441.43,
          189.7,
          844.94,
          155.34,
          257.56,
          610.69,
          217.97,
          173.18,
          218.06,
          372.97,
          484.39,
          248.1,
          162.35,
          303.42,
          290.69,
          160.93,
          369.4,
          487.27,
          93.35,
          96.68,
          72.14,
          90.22,
          168.52,
          203.15,
          71.42,
          464.56,
          57,
          89.42,
          49.47,
          200.05,
          254.37,
          65.05,
          118.19,
          452.4,
          181.03,
          288.04,
          145.78,
          110.14,
          55.48,
          80.87,
          67.01,
          59.16,
          121.26,
          244.37,
          156.87,
          80.48,
          139.32,
          93.52,
          200.23,
          97.4,
          68.08,
          47,
          36.65,
          28.75,
          182.85,
          400.18,
          288.1,
          182.94,
          777.81,
          493.59,
          118.63,
          174.37,
          901.75,
          222.45,
          113.8,
          84.2,
          261.44,
          168.78,
          111.07,
          122.12,
          267.32,
          210.39,
          211.36,
          146.22,
          93.39,
          89.04,
          307.59,
          307.2,
          164.24,
          151.21,
          399.77,
          362.01,
          260.85
         ],
         "yaxis": "y2"
        },
        {
         "mode": "lines",
         "name": "bitstamp:/USD-BTC",
         "type": "scatter",
         "uid": "045d1962-0224-4a36-a9f0-c3ba2b9187f7",
         "xaxis": "x3",
         "y": [
          8740.99,
          8739,
          8728.49,
          8708.32,
          8795.9,
          8760,
          8760,
          8759.23,
          8517.77,
          8520.3,
          8535.23,
          8546.34,
          8526.65,
          8555.6,
          8512.1,
          8492.28,
          8460,
          8474.99,
          8455.92,
          8326.28,
          8133.43,
          8164.79,
          8229.38,
          8220.4,
          8238.8,
          8232.99,
          8207.48,
          8243.45,
          8371.13,
          8373,
          8365.08,
          8179.99,
          8225,
          8285.8,
          8273.4,
          8297.4,
          8279.89,
          8252.72,
          8302.18,
          8295.85,
          8277.25,
          8346.59,
          8358.3,
          8375.1,
          8368.62,
          8366.72,
          8314.77,
          8363.7,
          8344.16,
          8247.4,
          8277.4,
          8291.67,
          8307.89,
          8298.9,
          8269.47,
          8300.98,
          8318.49,
          8306.39,
          8276.43,
          8257.69,
          8166,
          8176.33,
          8200.7,
          8155.41,
          8080,
          8067.03,
          7958.08,
          7974.25,
          7998.5,
          7991.99,
          8022.7,
          8042.97,
          7965.67,
          8088.95,
          8122.19,
          8107.99,
          8137.73,
          8115,
          8107,
          8094.4,
          8080.01,
          8117.09,
          8126.99,
          8110.95,
          8215.39,
          8231.42,
          8240.13,
          8235,
          8219.9,
          8248.87,
          8213.5,
          8200.99,
          8200,
          8237.3,
          8228.13,
          8240.83,
          8214.9,
          8170.07,
          8229.87,
          8205.87,
          8252.56,
          8365,
          8348.65,
          8303.99,
          8310.48,
          8310,
          8289.87,
          8304.99,
          8301.35,
          8313.12,
          8240.07,
          8199.99,
          8226.98,
          8231.2,
          8198.89,
          8215.85,
          8279.99,
          8255.08,
          8270.4,
          8244.24,
          8239.12,
          8267.14,
          8282.27,
          8350.62,
          8336.6,
          8336.91,
          8311.21,
          8312.09,
          8345.19,
          8377.2,
          8481.11,
          8516.36,
          8524,
          8517.04,
          8558.5,
          8521.99,
          8484.93,
          8518.48,
          8488.99,
          8466.72,
          8492.55,
          8494.28,
          8510.95,
          8498.64,
          8551.1,
          8524.22,
          8510.11,
          8475.62,
          8476.58,
          8467.13,
          8499.84
         ],
         "yaxis": "y3"
        },
        {
         "mode": "lines",
         "name": "bitstamp:/USD:/free",
         "type": "scatter",
         "uid": "a29b7d8c-3e7f-483d-916f-3e2f6a04262d",
         "xaxis": "x3",
         "y": [
          10000,
          10000,
          10000,
          10000,
          10000,
          10000,
          10000,
          8000,
          8000,
          9933.05,
          9933.05,
          9933.05,
          9933.05,
          9933.05,
          9933.05,
          9933.05,
          2979.92,
          2979.92,
          0,
          0,
          0,
          6619.42,
          1985.83,
          1985.83,
          1985.83,
          1985.83,
          1985.83,
          1985.83,
          1985.83,
          1985.83,
          1985.83,
          1985.83,
          1985.83,
          1985.83,
          1985.83,
          1985.83,
          1985.83,
          1985.83,
          1985.83,
          1985.83,
          1985.83,
          1985.83,
          1985.83,
          1985.83,
          1985.83,
          1985.83,
          1985.83,
          1985.83,
          1985.83,
          1985.83,
          1985.83,
          1985.83,
          1985.83,
          1985.83,
          1985.83,
          1985.83,
          1985.83,
          1985.83,
          1985.83,
          1985.83,
          1985.83,
          1985.83,
          1985.83,
          1985.83,
          1985.83,
          1985.83,
          1985.83,
          4767.23,
          9265.58,
          2779.67,
          2779.67,
          2779.67,
          2779.67,
          2779.67,
          2779.67,
          2779.67,
          2779.67,
          2779.67,
          2779.67,
          0,
          0,
          0,
          0,
          0,
          0,
          2799.96,
          2799.96,
          9441.77,
          9441.77,
          9441.77,
          9441.77,
          9441.77,
          9441.77,
          9441.77,
          3776.71,
          3776.71,
          3776.71,
          3776.71,
          755.34,
          755.34,
          755.34,
          755.34,
          6473.75,
          9542.67,
          9542.67,
          9542.67,
          6679.87,
          6679.87,
          0,
          0,
          0,
          0,
          0,
          0,
          0,
          0,
          0,
          0,
          0,
          0,
          0,
          0,
          0,
          0,
          0,
          0,
          0,
          0,
          0,
          0,
          0,
          2904.24,
          2904.24,
          2904.24,
          2904.24,
          9746.77,
          9746.77,
          9746.77,
          9746.77,
          9746.77,
          9746.77,
          9746.77,
          9746.77,
          9746.77,
          9746.77,
          9746.77,
          4873.38,
          4873.38,
          4873.38,
          4873.38,
          4873.38
         ],
         "yaxis": "y3"
        },
        {
         "mode": "lines",
         "name": "bitstamp:/USD:/locked",
         "type": "scatter",
         "uid": "0acb170c-cb7e-4c73-bd3d-23b20efcbe5a",
         "xaxis": "x3",
         "y": [
          0,
          0,
          0,
          0,
          0,
          0,
          0,
          0,
          0,
          0,
          0,
          0,
          0,
          0,
          0,
          0,
          0,
          0,
          0,
          0,
          0,
          0,
          0,
          0,
          0,
          0,
          0,
          0,
          0,
          0,
          0,
          0,
          0,
          0,
          0,
          0,
          0,
          0,
          0,
          0,
          0,
          0,
          0,
          0,
          0,
          0,
          0,
          0,
          0,
          0,
          0,
          0,
          0,
          0,
          0,
          0,
          0,
          0,
          0,
          0,
          0,
          0,
          0,
          0,
          0,
          0,
          0,
          0,
          0,
          0,
          0,
          0,
          0,
          0,
          0,
          0,
          0,
          0,
          0,
          0,
          0,
          0,
          0,
          0,
          0,
          0,
          0,
          0,
          0,
          0,
          0,
          0,
          0,
          0,
          0,
          0,
          0,
          0,
          0,
          0,
          0,
          0,
          0,
          0,
          0,
          0,
          0,
          0,
          0,
          0,
          0,
          0,
          0,
          0,
          0,
          0,
          0,
          0,
          0,
          0,
          0,
          0,
          0,
          0,
          0,
          0,
          0,
          0,
          0,
          0,
          0,
          0,
          0,
          0,
          0,
          0,
          0,
          0,
          0,
          0,
          0,
          0,
          0,
          0,
          0,
          0,
          0,
          0,
          0,
          0,
          0
         ],
         "yaxis": "y3"
        },
        {
         "mode": "lines",
         "name": "bitstamp:/USD:/total",
         "type": "scatter",
         "uid": "6077dbcd-e521-4116-8c8a-3f0af9d299fc",
         "xaxis": "x3",
         "y": [
          10000,
          10000,
          10000,
          10000,
          10000,
          10000,
          10000,
          8000,
          8000,
          9933.05,
          9933.05,
          9933.05,
          9933.05,
          9933.05,
          9933.05,
          9933.05,
          2979.92,
          2979.92,
          0,
          0,
          0,
          6619.42,
          1985.83,
          1985.83,
          1985.83,
          1985.83,
          1985.83,
          1985.83,
          1985.83,
          1985.83,
          1985.83,
          1985.83,
          1985.83,
          1985.83,
          1985.83,
          1985.83,
          1985.83,
          1985.83,
          1985.83,
          1985.83,
          1985.83,
          1985.83,
          1985.83,
          1985.83,
          1985.83,
          1985.83,
          1985.83,
          1985.83,
          1985.83,
          1985.83,
          1985.83,
          1985.83,
          1985.83,
          1985.83,
          1985.83,
          1985.83,
          1985.83,
          1985.83,
          1985.83,
          1985.83,
          1985.83,
          1985.83,
          1985.83,
          1985.83,
          1985.83,
          1985.83,
          1985.83,
          4767.23,
          9265.58,
          2779.67,
          2779.67,
          2779.67,
          2779.67,
          2779.67,
          2779.67,
          2779.67,
          2779.67,
          2779.67,
          2779.67,
          0,
          0,
          0,
          0,
          0,
          0,
          2799.96,
          2799.96,
          9441.77,
          9441.77,
          9441.77,
          9441.77,
          9441.77,
          9441.77,
          9441.77,
          3776.71,
          3776.71,
          3776.71,
          3776.71,
          755.34,
          755.34,
          755.34,
          755.34,
          6473.75,
          9542.67,
          9542.67,
          9542.67,
          6679.87,
          6679.87,
          0,
          0,
          0,
          0,
          0,
          0,
          0,
          0,
          0,
          0,
          0,
          0,
          0,
          0,
          0,
          0,
          0,
          0,
          0,
          0,
          0,
          0,
          0,
          2904.24,
          2904.24,
          2904.24,
          2904.24,
          9746.77,
          9746.77,
          9746.77,
          9746.77,
          9746.77,
          9746.77,
          9746.77,
          9746.77,
          9746.77,
          9746.77,
          9746.77,
          4873.38,
          4873.38,
          4873.38,
          4873.38,
          4873.38
         ],
         "yaxis": "y3"
        },
        {
         "mode": "lines",
         "name": "bitstamp:/BTC:/free",
         "type": "scatter",
         "uid": "701e4691-2ec6-450d-963e-4046004dbf4e",
         "xaxis": "x3",
         "y": [
          10,
          10,
          10,
          10,
          10,
          10,
          10,
          10,
          10,
          10,
          10,
          10,
          10,
          10,
          10,
          10,
          10,
          10,
          10,
          10,
          10,
          10,
          10,
          10,
          10,
          10,
          10,
          10,
          10,
          10,
          10,
          10,
          10,
          10,
          10,
          10,
          10,
          10,
          10,
          10,
          10,
          10,
          10,
          10,
          10,
          10,
          10,
          10,
          10,
          10,
          10,
          10,
          10,
          10,
          10,
          10,
          10,
          10,
          10,
          10,
          10,
          10,
          10,
          10,
          10,
          10,
          10,
          10,
          10,
          10,
          10,
          10,
          10,
          10,
          10,
          10,
          10,
          10,
          10,
          10,
          10,
          10,
          10,
          10,
          10,
          10,
          10,
          10,
          10,
          10,
          10,
          10,
          10,
          10,
          10,
          10,
          10,
          10,
          10,
          10,
          10,
          10,
          10,
          10,
          10,
          10,
          10,
          10,
          10,
          10,
          10,
          10,
          10,
          10,
          10,
          10,
          10,
          10,
          10,
          10,
          10,
          10,
          10,
          10,
          10,
          10,
          10,
          10,
          10,
          10,
          10,
          10,
          10,
          10,
          10,
          10,
          10,
          10,
          10,
          10,
          10,
          10,
          10,
          10,
          10,
          10,
          10,
          10,
          10,
          10,
          10
         ],
         "yaxis": "y3"
        },
        {
         "mode": "lines",
         "name": "bitstamp:/BTC:/locked",
         "type": "scatter",
         "uid": "c8bf4564-4206-412c-a182-bb73f6d9b4de",
         "xaxis": "x3",
         "y": [
          0,
          0,
          0,
          0,
          0,
          0,
          0,
          0.22762557,
          0.22762557,
          0,
          0,
          0,
          0,
          0,
          0,
          0,
          0.81630257,
          0.81630257,
          1.1668611,
          1.1668611,
          1.1668611,
          0.35055853,
          0.91636488,
          0.91636488,
          0.91636488,
          0.91636488,
          0.91636488,
          0.91636488,
          0.91636488,
          0.91636488,
          0.91636488,
          0.91636488,
          0.91636488,
          0.91636488,
          0.91636488,
          0.91636488,
          0.91636488,
          0.91636488,
          0.91636488,
          0.91636488,
          0.91636488,
          0.91636488,
          0.91636488,
          0.91636488,
          0.91636488,
          0.91636488,
          0.91636488,
          0.91636488,
          0.91636488,
          0.91636488,
          0.91636488,
          0.91636488,
          0.91636488,
          0.91636488,
          0.91636488,
          0.91636488,
          0.91636488,
          0.91636488,
          0.91636488,
          0.91636488,
          0.91636488,
          0.91636488,
          0.91636488,
          0.91636488,
          0.91636488,
          0.91636488,
          0.91636488,
          0.56580635,
          0,
          0.80845784,
          0.80845784,
          0.80845784,
          0.80845784,
          0.80845784,
          0.80845784,
          0.80845784,
          0.80845784,
          0.80845784,
          0.80845784,
          1.15030193,
          1.15030193,
          1.15030193,
          1.15030193,
          1.15030193,
          1.15030193,
          0.80845784,
          0.80845784,
          0,
          0,
          0,
          0,
          0,
          0,
          0,
          0.68566885,
          0.68566885,
          0.68566885,
          0.68566885,
          1.05436949,
          1.05436949,
          1.05436949,
          1.05436949,
          0.36870064,
          0,
          0,
          0,
          0.34346691,
          0.34346691,
          1.14537396,
          1.14537396,
          1.14537396,
          1.14537396,
          1.14537396,
          1.14537396,
          1.14537396,
          1.14537396,
          1.14537396,
          1.14537396,
          1.14537396,
          1.14537396,
          1.14537396,
          1.14537396,
          1.14537396,
          1.14537396,
          1.14537396,
          1.14537396,
          1.14537396,
          1.14537396,
          1.14537396,
          1.14537396,
          1.14537396,
          0.80190705,
          0.80190705,
          0.80190705,
          0.80190705,
          0,
          0,
          0,
          0,
          0,
          0,
          0,
          0,
          0,
          0,
          0,
          0.56999585,
          0.56999585,
          0.56999585,
          0.56999585,
          0.56999585
         ],
         "yaxis": "y3"
        },
        {
         "mode": "lines",
         "name": "bitstamp:/BTC:/total",
         "type": "scatter",
         "uid": "e94992fc-d52f-4306-9fe4-5bb0b6239c20",
         "xaxis": "x3",
         "y": [
          10,
          10,
          10,
          10,
          10,
          10,
          10,
          10.22762557,
          10.22762557,
          10,
          10,
          10,
          10,
          10,
          10,
          10,
          10.81630257,
          10.81630257,
          11.1668611,
          11.1668611,
          11.1668611,
          10.35055853,
          10.91636488,
          10.91636488,
          10.91636488,
          10.91636488,
          10.91636488,
          10.91636488,
          10.91636488,
          10.91636488,
          10.91636488,
          10.91636488,
          10.91636488,
          10.91636488,
          10.91636488,
          10.91636488,
          10.91636488,
          10.91636488,
          10.91636488,
          10.91636488,
          10.91636488,
          10.91636488,
          10.91636488,
          10.91636488,
          10.91636488,
          10.91636488,
          10.91636488,
          10.91636488,
          10.91636488,
          10.91636488,
          10.91636488,
          10.91636488,
          10.91636488,
          10.91636488,
          10.91636488,
          10.91636488,
          10.91636488,
          10.91636488,
          10.91636488,
          10.91636488,
          10.91636488,
          10.91636488,
          10.91636488,
          10.91636488,
          10.91636488,
          10.91636488,
          10.91636488,
          10.56580635,
          10,
          10.80845784,
          10.80845784,
          10.80845784,
          10.80845784,
          10.80845784,
          10.80845784,
          10.80845784,
          10.80845784,
          10.80845784,
          10.80845784,
          11.15030193,
          11.15030193,
          11.15030193,
          11.15030193,
          11.15030193,
          11.15030193,
          10.80845784,
          10.80845784,
          10,
          10,
          10,
          10,
          10,
          10,
          10,
          10.68566885,
          10.68566885,
          10.68566885,
          10.68566885,
          11.05436949,
          11.05436949,
          11.05436949,
          11.05436949,
          10.36870064,
          10,
          10,
          10,
          10.34346691,
          10.34346691,
          11.14537396,
          11.14537396,
          11.14537396,
          11.14537396,
          11.14537396,
          11.14537396,
          11.14537396,
          11.14537396,
          11.14537396,
          11.14537396,
          11.14537396,
          11.14537396,
          11.14537396,
          11.14537396,
          11.14537396,
          11.14537396,
          11.14537396,
          11.14537396,
          11.14537396,
          11.14537396,
          11.14537396,
          11.14537396,
          11.14537396,
          10.80190705,
          10.80190705,
          10.80190705,
          10.80190705,
          10,
          10,
          10,
          10,
          10,
          10,
          10,
          10,
          10,
          10,
          10,
          10.56999585,
          10.56999585,
          10.56999585,
          10.56999585,
          10.56999585
         ],
         "yaxis": "y3"
        },
        {
         "mode": "lines",
         "name": "bitstamp:/BTC:/worth",
         "type": "scatter",
         "uid": "b6883f74-9449-4936-99a3-4edb4de7dfbc",
         "xaxis": "x3",
         "y": [
          87409.9,
          87390,
          87284.9,
          87083.2,
          87959,
          87600,
          87600,
          89586.1247215111,
          87116.56225137891,
          85203,
          85352.29999999999,
          85463.4,
          85266.5,
          85556,
          85121,
          84922.8,
          91505.9197422,
          91668.05611772429,
          94426.08411271201,
          92978.412239708,
          90824.88307657301,
          84510.1367801587,
          89834.9148161744,
          89736.885859552,
          89937.746973344,
          89874.32289339119,
          89595.8464253024,
          89988.50807003601,
          91382.30953791439,
          91402.72314023999,
          91316.2655303904,
          89295.7555547512,
          89787.101138,
          90450.816122704,
          90315.453198192,
          90577.445955312,
          90386.3004062632,
          90089.7027724736,
          90629.6261794384,
          90560.525589748,
          90357.48120298,
          91114.4219437592,
          91242.25257650399,
          91425.647506488,
          91354.90946206561,
          91334.16836879359,
          90767.06321327761,
          91301.200946856,
          91087.8951771008,
          90031.62771131199,
          90359.118657712,
          90514.8951845496,
          90691.95862290318,
          90593.82050263199,
          90272.5518842136,
          90616.5265415824,
          90807.6720906312,
          90675.58407558319,
          90348.5297837784,
          90143.9571059272,
          89143.03561008,
          89255.8016592904,
          89521.833471416,
          89027.4313060008,
          88204.2282304,
          88062.64297790639,
          86873.3050242304,
          84254.3812864875,
          79985,
          86381.08697270161,
          86713.01471296801,
          86932.10215338481,
          86096.60836235281,
          87429.075044868,
          87788.3481834696,
          87634.8680821416,
          87956.3116183032,
          87710.6353716,
          87624.16770888,
          90255.003942192,
          90094.5510974193,
          90508.00429298369,
          90618.39228209069,
          90439.54143913349,
          91604.07897270269,
          88968.95603333281,
          89063.0977011192,
          82350,
          82199,
          82488.70000000001,
          82135,
          82009.9,
          82000,
          82373,
          87923.0724347505,
          88058.78042914551,
          87781.701035865,
          87302.6625013195,
          90976.0238346663,
          90710.71896690631,
          91226.84747839438,
          92469.80078384999,
          86564.652598136,
          83039.9,
          83104.79999999999,
          83100,
          85745.9960332017,
          85902.3892528809,
          92521.65012284601,
          92652.83117435522,
          91838.6616065772,
          91391.9550182604,
          91692.7686614408,
          91739.80213955202,
          91379.6951069044,
          91568.720649266,
          92283.5849350604,
          92005.95366971681,
          92176.700798784,
          91885.1378159904,
          91828.07350131522,
          92140.3668796744,
          92308.99638768921,
          93070.78269785522,
          92914.52455493601,
          92917.9796208636,
          92631.5435100916,
          92641.3514391764,
          93010.26331725241,
          93367.02673771202,
          94525.14254589561,
          91992.92912433801,
          92075.4556942,
          92000.27442113201,
          92448.121487425,
          85219.9,
          84849.3,
          85184.79999999999,
          84889.9,
          84667.2,
          84925.5,
          84942.8,
          85109.5,
          84986.4,
          85511,
          85242.2,
          89951.8273830435,
          89587.26822617701,
          89597.415422193,
          89497.52896141048,
          89843.273525664
         ],
         "yaxis": "y3"
        },
        {
         "mode": "lines",
         "name": "net_worth",
         "type": "scatter",
         "uid": "82d0ed48-8a54-46b0-acbb-695cef904895",
         "xaxis": "x3",
         "y": [
          97409.9,
          97390,
          97284.9,
          97083.2,
          97959,
          97600,
          97600,
          97586.1247215111,
          95116.56225137891,
          95136.05,
          95285.34999999999,
          95396.45,
          95199.55,
          95489.05,
          95054.05,
          94855.85,
          94485.8397422,
          94647.97611772429,
          94426.08411271201,
          92978.412239708,
          90824.88307657301,
          91129.5567801587,
          91820.7448161744,
          91722.715859552,
          91923.576973344,
          91860.15289339119,
          91581.6764253024,
          91974.33807003601,
          93368.1395379144,
          93388.55314024,
          93302.0955303904,
          91281.5855547512,
          91772.931138,
          92436.646122704,
          92301.283198192,
          92563.275955312,
          92372.1304062632,
          92075.5327724736,
          92615.4561794384,
          92546.355589748,
          92343.31120298,
          93100.2519437592,
          93228.08257650399,
          93411.47750648801,
          93340.73946206561,
          93319.99836879359,
          92752.89321327761,
          93287.030946856,
          93073.7251771008,
          92017.45771131199,
          92344.948657712,
          92500.7251845496,
          92677.78862290319,
          92579.650502632,
          92258.3818842136,
          92602.3565415824,
          92793.5020906312,
          92661.41407558319,
          92334.3597837784,
          92129.7871059272,
          91128.86561008,
          91241.6316592904,
          91507.663471416,
          91013.2613060008,
          90190.0582304,
          90048.4729779064,
          88859.1350242304,
          89021.6112864875,
          89250.58,
          89160.75697270161,
          89492.68471296801,
          89711.77215338481,
          88876.27836235281,
          90208.745044868,
          90568.0181834696,
          90414.5380821416,
          90735.9816183032,
          90490.3053716,
          90403.83770888,
          90255.003942192,
          90094.5510974193,
          90508.00429298369,
          90618.39228209069,
          90439.54143913349,
          91604.07897270269,
          91768.91603333282,
          91863.0577011192,
          91791.77,
          91640.77,
          91930.47000000002,
          91576.77,
          91451.67,
          91441.77,
          91814.77,
          91699.78243475051,
          91835.49042914552,
          91558.411035865,
          91079.3725013195,
          91731.36383466629,
          91466.0589669063,
          91982.18747839438,
          93225.14078384999,
          93038.402598136,
          92582.56999999999,
          92647.46999999999,
          92642.67,
          92425.8660332017,
          92582.25925288089,
          92521.65012284601,
          92652.83117435522,
          91838.6616065772,
          91391.9550182604,
          91692.7686614408,
          91739.80213955202,
          91379.6951069044,
          91568.720649266,
          92283.5849350604,
          92005.95366971681,
          92176.700798784,
          91885.1378159904,
          91828.07350131522,
          92140.3668796744,
          92308.99638768921,
          93070.78269785522,
          92914.52455493601,
          92917.9796208636,
          92631.5435100916,
          92641.3514391764,
          93010.26331725241,
          93367.02673771202,
          94525.14254589561,
          94897.16912433802,
          94979.69569420001,
          94904.51442113201,
          95352.361487425,
          94966.67,
          94596.07,
          94931.56999999999,
          94636.67,
          94413.97,
          94672.27,
          94689.57,
          94856.27,
          94733.17,
          95257.77,
          94988.97,
          94825.20738304351,
          94460.64822617701,
          94470.795422193,
          94370.90896141049,
          94716.653525664
         ],
         "yaxis": "y3"
        },
        {
         "marker": {
          "color": "DarkGreen"
         },
         "mode": "lines",
         "name": "Net Worth",
         "type": "scatter",
         "uid": "0daae425-e5cd-4506-8381-4ac9b1ccd21d",
         "xaxis": "x4",
         "y": [
          97409.9,
          97390,
          97284.9,
          97083.2,
          97959,
          97600,
          97600,
          97586.1247215111,
          95116.56225137891,
          95136.05,
          95285.34999999999,
          95396.45,
          95199.55,
          95489.05,
          95054.05,
          94855.85,
          94485.8397422,
          94647.97611772429,
          94426.08411271201,
          92978.412239708,
          90824.88307657301,
          91129.5567801587,
          91820.7448161744,
          91722.715859552,
          91923.576973344,
          91860.15289339119,
          91581.6764253024,
          91974.33807003601,
          93368.1395379144,
          93388.55314024,
          93302.0955303904,
          91281.5855547512,
          91772.931138,
          92436.646122704,
          92301.283198192,
          92563.275955312,
          92372.1304062632,
          92075.5327724736,
          92615.4561794384,
          92546.355589748,
          92343.31120298,
          93100.2519437592,
          93228.08257650399,
          93411.47750648801,
          93340.73946206561,
          93319.99836879359,
          92752.89321327761,
          93287.030946856,
          93073.7251771008,
          92017.45771131199,
          92344.948657712,
          92500.7251845496,
          92677.78862290319,
          92579.650502632,
          92258.3818842136,
          92602.3565415824,
          92793.5020906312,
          92661.41407558319,
          92334.3597837784,
          92129.7871059272,
          91128.86561008,
          91241.6316592904,
          91507.663471416,
          91013.2613060008,
          90190.0582304,
          90048.4729779064,
          88859.1350242304,
          89021.6112864875,
          89250.58,
          89160.75697270161,
          89492.68471296801,
          89711.77215338481,
          88876.27836235281,
          90208.745044868,
          90568.0181834696,
          90414.5380821416,
          90735.9816183032,
          90490.3053716,
          90403.83770888,
          90255.003942192,
          90094.5510974193,
          90508.00429298369,
          90618.39228209069,
          90439.54143913349,
          91604.07897270269,
          91768.91603333282,
          91863.0577011192,
          91791.77,
          91640.77,
          91930.47000000002,
          91576.77,
          91451.67,
          91441.77,
          91814.77,
          91699.78243475051,
          91835.49042914552,
          91558.411035865,
          91079.3725013195,
          91731.36383466629,
          91466.0589669063,
          91982.18747839438,
          93225.14078384999,
          93038.402598136,
          92582.56999999999,
          92647.46999999999,
          92642.67,
          92425.8660332017,
          92582.25925288089,
          92521.65012284601,
          92652.83117435522,
          91838.6616065772,
          91391.9550182604,
          91692.7686614408,
          91739.80213955202,
          91379.6951069044,
          91568.720649266,
          92283.5849350604,
          92005.95366971681,
          92176.700798784,
          91885.1378159904,
          91828.07350131522,
          92140.3668796744,
          92308.99638768921,
          93070.78269785522,
          92914.52455493601,
          92917.9796208636,
          92631.5435100916,
          92641.3514391764,
          93010.26331725241,
          93367.02673771202,
          94525.14254589561,
          94897.16912433802,
          94979.69569420001,
          94904.51442113201,
          95352.361487425,
          94966.67,
          94596.07,
          94931.56999999999,
          94636.67,
          94413.97,
          94672.27,
          94689.57,
          94856.27,
          94733.17,
          95257.77,
          94988.97,
          94825.20738304351,
          94460.64822617701,
          94470.795422193,
          94370.90896141049,
          94716.653525664
         ],
         "yaxis": "y4"
        }
       ],
       "layout": {
        "annotations": [
         {
          "arrowcolor": "DarkGreen",
          "arrowhead": 2,
          "arrowsize": 0.8,
          "arrowwidth": 4,
          "ax": 0,
          "ay": 15,
          "hoverlabel": {
           "bgcolor": "DarkGreen"
          },
          "hovertext": "Step 22 [2018-05-16 03:00:00]<br>BUY 0.56580635 BTC @ 8164.79 USD MARKET<br>Total: 4619.69 USD - Comm.: 13.90 USD",
          "opacity": 0.6,
          "showarrow": true,
          "x": 21,
          "xref": "x",
          "y": 8164.79,
          "yref": "y"
         },
         {
          "arrowcolor": "FireBrick",
          "arrowhead": 2,
          "arrowsize": 0.8,
          "arrowwidth": 4,
          "ax": 0,
          "ay": -15,
          "hoverlabel": {
           "bgcolor": "FireBrick"
          },
          "hovertext": "Step 21 [2018-05-16 02:00:00]<br>SELL 0.81385366 BTC @ 8133.43 USD MARKET<br>Total: 6619.42 USD - Comm.: 0.00244891 BTC",
          "opacity": 0.6,
          "showarrow": true,
          "x": 20,
          "xref": "x",
          "y": 8133.43,
          "yref": "y"
         },
         {
          "arrowcolor": "DarkGreen",
          "arrowhead": 2,
          "arrowsize": 0.8,
          "arrowwidth": 4,
          "ax": 0,
          "ay": 15,
          "hoverlabel": {
           "bgcolor": "DarkGreen"
          },
          "hovertext": "Step 18 [2018-05-15 23:00:00]<br>BUY 0.35055853 BTC @ 8474.99 USD MARKET<br>Total: 2970.98 USD - Comm.: 8.94 USD",
          "opacity": 0.6,
          "showarrow": true,
          "x": 17,
          "xref": "x",
          "y": 8474.99,
          "yref": "y"
         },
         {
          "arrowcolor": "DarkGreen",
          "arrowhead": 2,
          "arrowsize": 0.8,
          "arrowwidth": 4,
          "ax": 0,
          "ay": 15,
          "hoverlabel": {
           "bgcolor": "DarkGreen"
          },
          "hovertext": "Step 16 [2018-05-15 21:00:00]<br>BUY 0.81630257 BTC @ 8492.28 USD MARKET<br>Total: 6932.27 USD - Comm.: 20.86 USD",
          "opacity": 0.6,
          "showarrow": true,
          "x": 15,
          "xref": "x",
          "y": 8492.28,
          "yref": "y"
         },
         {
          "arrowcolor": "FireBrick",
          "arrowhead": 2,
          "arrowsize": 0.8,
          "arrowwidth": 4,
          "ax": 0,
          "ay": -15,
          "hoverlabel": {
           "bgcolor": "FireBrick"
          },
          "hovertext": "Step 9 [2018-05-15 14:00:00]<br>SELL 0.22694269 BTC @ 8517.77 USD MARKET<br>Total: 1933.05 USD - Comm.: 0.00068288 BTC",
          "opacity": 0.6,
          "showarrow": true,
          "x": 8,
          "xref": "x",
          "y": 8517.77,
          "yref": "y"
         },
         {
          "arrowcolor": "DarkGreen",
          "arrowhead": 2,
          "arrowsize": 0.8,
          "arrowwidth": 4,
          "ax": 0,
          "ay": 15,
          "hoverlabel": {
           "bgcolor": "DarkGreen"
          },
          "hovertext": "Step 7 [2018-05-15 12:00:00]<br>BUY 0.22762557 BTC @ 8760.0 USD MARKET<br>Total: 1994.0 USD - Comm.: 6.00 USD",
          "opacity": 0.6,
          "showarrow": true,
          "x": 6,
          "xref": "x",
          "y": 8760,
          "yref": "y"
         },
         {
          "arrowcolor": "DarkGreen",
          "arrowhead": 2,
          "arrowsize": 0.8,
          "arrowwidth": 4,
          "ax": 0,
          "ay": 15,
          "hoverlabel": {
           "bgcolor": "DarkGreen"
          },
          "hovertext": "Step 98 [2018-05-19 07:00:00]<br>BUY 0.36870064 BTC @ 8170.07 USD MARKET<br>Total: 3012.31 USD - Comm.: 9.06 USD",
          "opacity": 0.6,
          "showarrow": true,
          "x": 97,
          "xref": "x",
          "y": 8170.07,
          "yref": "y"
         },
         {
          "arrowcolor": "DarkGreen",
          "arrowhead": 2,
          "arrowsize": 0.8,
          "arrowwidth": 4,
          "ax": 0,
          "ay": 15,
          "hoverlabel": {
           "bgcolor": "DarkGreen"
          },
          "hovertext": "Step 94 [2018-05-19 03:00:00]<br>BUY 0.68566885 BTC @ 8237.3 USD MARKET<br>Total: 5648.06 USD - Comm.: 17.00 USD",
          "opacity": 0.6,
          "showarrow": true,
          "x": 93,
          "xref": "x",
          "y": 8237.3,
          "yref": "y"
         },
         {
          "arrowcolor": "FireBrick",
          "arrowhead": 2,
          "arrowsize": 0.8,
          "arrowwidth": 4,
          "ax": 0,
          "ay": -15,
          "hoverlabel": {
           "bgcolor": "FireBrick"
          },
          "hovertext": "Step 87 [2018-05-18 20:00:00]<br>SELL 0.80603247 BTC @ 8240.13 USD MARKET<br>Total: 6641.81 USD - Comm.: 0.00242537 BTC",
          "opacity": 0.6,
          "showarrow": true,
          "x": 86,
          "xref": "x",
          "y": 8240.13,
          "yref": "y"
         },
         {
          "arrowcolor": "FireBrick",
          "arrowhead": 2,
          "arrowsize": 0.8,
          "arrowwidth": 4,
          "ax": 0,
          "ay": -15,
          "hoverlabel": {
           "bgcolor": "FireBrick"
          },
          "hovertext": "Step 85 [2018-05-18 18:00:00]<br>SELL 0.34081856 BTC @ 8215.39 USD MARKET<br>Total: 2799.96 USD - Comm.: 0.00102553 BTC",
          "opacity": 0.6,
          "showarrow": true,
          "x": 84,
          "xref": "x",
          "y": 8215.39,
          "yref": "y"
         },
         {
          "arrowcolor": "DarkGreen",
          "arrowhead": 2,
          "arrowsize": 0.8,
          "arrowwidth": 4,
          "ax": 0,
          "ay": 15,
          "hoverlabel": {
           "bgcolor": "DarkGreen"
          },
          "hovertext": "Step 79 [2018-05-18 12:00:00]<br>BUY 0.34184409 BTC @ 8107.0 USD MARKET<br>Total: 2771.33 USD - Comm.: 8.34 USD",
          "opacity": 0.6,
          "showarrow": true,
          "x": 78,
          "xref": "x",
          "y": 8107,
          "yref": "y"
         },
         {
          "arrowcolor": "DarkGreen",
          "arrowhead": 2,
          "arrowsize": 0.8,
          "arrowwidth": 4,
          "ax": 0,
          "ay": 15,
          "hoverlabel": {
           "bgcolor": "DarkGreen"
          },
          "hovertext": "Step 69 [2018-05-18 02:00:00]<br>BUY 0.80845784 BTC @ 7998.5 USD MARKET<br>Total: 6466.45 USD - Comm.: 19.46 USD",
          "opacity": 0.6,
          "showarrow": true,
          "x": 68,
          "xref": "x",
          "y": 7998.5,
          "yref": "y"
         },
         {
          "arrowcolor": "FireBrick",
          "arrowhead": 2,
          "arrowsize": 0.8,
          "arrowwidth": 4,
          "ax": 0,
          "ay": -15,
          "hoverlabel": {
           "bgcolor": "FireBrick"
          },
          "hovertext": "Step 68 [2018-05-18 01:00:00]<br>SELL 0.56410893 BTC @ 7974.25 USD MARKET<br>Total: 4498.35 USD - Comm.: 0.00169742 BTC",
          "opacity": 0.6,
          "showarrow": true,
          "x": 67,
          "xref": "x",
          "y": 7974.25,
          "yref": "y"
         },
         {
          "arrowcolor": "FireBrick",
          "arrowhead": 2,
          "arrowsize": 0.8,
          "arrowwidth": 4,
          "ax": 0,
          "ay": -15,
          "hoverlabel": {
           "bgcolor": "FireBrick"
          },
          "hovertext": "Step 67 [2018-05-18 00:00:00]<br>SELL 0.34950685 BTC @ 7958.08 USD MARKET<br>Total: 2781.4 USD - Comm.: 0.00105168 BTC",
          "opacity": 0.6,
          "showarrow": true,
          "x": 66,
          "xref": "x",
          "y": 7958.08,
          "yref": "y"
         },
         {
          "arrowcolor": "DarkGreen",
          "arrowhead": 2,
          "arrowsize": 0.8,
          "arrowwidth": 4,
          "ax": 0,
          "ay": 15,
          "hoverlabel": {
           "bgcolor": "DarkGreen"
          },
          "hovertext": "Step 146 [2018-05-21 07:00:00]<br>BUY 0.56999585 BTC @ 8524.22 USD MARKET<br>Total: 4858.77 USD - Comm.: 14.62 USD",
          "opacity": 0.6,
          "showarrow": true,
          "x": 145,
          "xref": "x",
          "y": 8524.22,
          "yref": "y"
         },
         {
          "arrowcolor": "FireBrick",
          "arrowhead": 2,
          "arrowsize": 0.8,
          "arrowwidth": 4,
          "ax": 0,
          "ay": -15,
          "hoverlabel": {
           "bgcolor": "FireBrick"
          },
          "hovertext": "Step 135 [2018-05-20 20:00:00]<br>SELL 0.79950133 BTC @ 8558.5 USD MARKET<br>Total: 6842.53 USD - Comm.: 0.00240572 BTC",
          "opacity": 0.6,
          "showarrow": true,
          "x": 134,
          "xref": "x",
          "y": 8558.5,
          "yref": "y"
         },
         {
          "arrowcolor": "FireBrick",
          "arrowhead": 2,
          "arrowsize": 0.8,
          "arrowwidth": 4,
          "ax": 0,
          "ay": -15,
          "hoverlabel": {
           "bgcolor": "FireBrick"
          },
          "hovertext": "Step 131 [2018-05-20 16:00:00]<br>SELL 0.34243651 BTC @ 8481.11 USD MARKET<br>Total: 2904.24 USD - Comm.: 0.00103040 BTC",
          "opacity": 0.6,
          "showarrow": true,
          "x": 130,
          "xref": "x",
          "y": 8481.11,
          "yref": "y"
         },
         {
          "arrowcolor": "DarkGreen",
          "arrowhead": 2,
          "arrowsize": 0.8,
          "arrowwidth": 4,
          "ax": 0,
          "ay": 15,
          "hoverlabel": {
           "bgcolor": "DarkGreen"
          },
          "hovertext": "Step 108 [2018-05-19 17:00:00]<br>BUY 0.80190705 BTC @ 8304.99 USD MARKET<br>Total: 6659.83 USD - Comm.: 20.04 USD",
          "opacity": 0.6,
          "showarrow": true,
          "x": 107,
          "xref": "x",
          "y": 8304.99,
          "yref": "y"
         },
         {
          "arrowcolor": "DarkGreen",
          "arrowhead": 2,
          "arrowsize": 0.8,
          "arrowwidth": 4,
          "ax": 0,
          "ay": 15,
          "hoverlabel": {
           "bgcolor": "DarkGreen"
          },
          "hovertext": "Step 106 [2018-05-19 15:00:00]<br>BUY 0.34346691 BTC @ 8310.0 USD MARKET<br>Total: 2854.21 USD - Comm.: 8.59 USD",
          "opacity": 0.6,
          "showarrow": true,
          "x": 105,
          "xref": "x",
          "y": 8310,
          "yref": "y"
         },
         {
          "arrowcolor": "FireBrick",
          "arrowhead": 2,
          "arrowsize": 0.8,
          "arrowwidth": 4,
          "ax": 0,
          "ay": -15,
          "hoverlabel": {
           "bgcolor": "FireBrick"
          },
          "hovertext": "Step 103 [2018-05-19 12:00:00]<br>SELL 0.36759454 BTC @ 8348.65 USD MARKET<br>Total: 3068.92 USD - Comm.: 0.00110610 BTC",
          "opacity": 0.6,
          "showarrow": true,
          "x": 102,
          "xref": "x",
          "y": 8348.65,
          "yref": "y"
         },
         {
          "arrowcolor": "FireBrick",
          "arrowhead": 2,
          "arrowsize": 0.8,
          "arrowwidth": 4,
          "ax": 0,
          "ay": -15,
          "hoverlabel": {
           "bgcolor": "FireBrick"
          },
          "hovertext": "Step 102 [2018-05-19 11:00:00]<br>SELL 0.68361184 BTC @ 8365.0 USD MARKET<br>Total: 5718.41 USD - Comm.: 0.00205701 BTC",
          "opacity": 0.6,
          "showarrow": true,
          "x": 101,
          "xref": "x",
          "y": 8365,
          "yref": "y"
         }
        ],
        "margin": {
         "t": 50
        },
        "template": {
         "data": {
          "bar": [
           {
            "error_x": {
             "color": "#2a3f5f"
            },
            "error_y": {
             "color": "#2a3f5f"
            },
            "marker": {
             "line": {
              "color": "white",
              "width": 0.5
             }
            },
            "type": "bar"
           }
          ],
          "barpolar": [
           {
            "marker": {
             "line": {
              "color": "white",
              "width": 0.5
             }
            },
            "type": "barpolar"
           }
          ],
          "carpet": [
           {
            "aaxis": {
             "endlinecolor": "#2a3f5f",
             "gridcolor": "#C8D4E3",
             "linecolor": "#C8D4E3",
             "minorgridcolor": "#C8D4E3",
             "startlinecolor": "#2a3f5f"
            },
            "baxis": {
             "endlinecolor": "#2a3f5f",
             "gridcolor": "#C8D4E3",
             "linecolor": "#C8D4E3",
             "minorgridcolor": "#C8D4E3",
             "startlinecolor": "#2a3f5f"
            },
            "type": "carpet"
           }
          ],
          "choropleth": [
           {
            "colorbar": {
             "outlinewidth": 0,
             "ticks": ""
            },
            "type": "choropleth"
           }
          ],
          "contour": [
           {
            "colorbar": {
             "outlinewidth": 0,
             "ticks": ""
            },
            "colorscale": [
             [
              0,
              "#0d0887"
             ],
             [
              0.1111111111111111,
              "#46039f"
             ],
             [
              0.2222222222222222,
              "#7201a8"
             ],
             [
              0.3333333333333333,
              "#9c179e"
             ],
             [
              0.4444444444444444,
              "#bd3786"
             ],
             [
              0.5555555555555556,
              "#d8576b"
             ],
             [
              0.6666666666666666,
              "#ed7953"
             ],
             [
              0.7777777777777778,
              "#fb9f3a"
             ],
             [
              0.8888888888888888,
              "#fdca26"
             ],
             [
              1,
              "#f0f921"
             ]
            ],
            "type": "contour"
           }
          ],
          "contourcarpet": [
           {
            "colorbar": {
             "outlinewidth": 0,
             "ticks": ""
            },
            "type": "contourcarpet"
           }
          ],
          "heatmap": [
           {
            "colorbar": {
             "outlinewidth": 0,
             "ticks": ""
            },
            "colorscale": [
             [
              0,
              "#0d0887"
             ],
             [
              0.1111111111111111,
              "#46039f"
             ],
             [
              0.2222222222222222,
              "#7201a8"
             ],
             [
              0.3333333333333333,
              "#9c179e"
             ],
             [
              0.4444444444444444,
              "#bd3786"
             ],
             [
              0.5555555555555556,
              "#d8576b"
             ],
             [
              0.6666666666666666,
              "#ed7953"
             ],
             [
              0.7777777777777778,
              "#fb9f3a"
             ],
             [
              0.8888888888888888,
              "#fdca26"
             ],
             [
              1,
              "#f0f921"
             ]
            ],
            "type": "heatmap"
           }
          ],
          "heatmapgl": [
           {
            "colorbar": {
             "outlinewidth": 0,
             "ticks": ""
            },
            "colorscale": [
             [
              0,
              "#0d0887"
             ],
             [
              0.1111111111111111,
              "#46039f"
             ],
             [
              0.2222222222222222,
              "#7201a8"
             ],
             [
              0.3333333333333333,
              "#9c179e"
             ],
             [
              0.4444444444444444,
              "#bd3786"
             ],
             [
              0.5555555555555556,
              "#d8576b"
             ],
             [
              0.6666666666666666,
              "#ed7953"
             ],
             [
              0.7777777777777778,
              "#fb9f3a"
             ],
             [
              0.8888888888888888,
              "#fdca26"
             ],
             [
              1,
              "#f0f921"
             ]
            ],
            "type": "heatmapgl"
           }
          ],
          "histogram": [
           {
            "marker": {
             "colorbar": {
              "outlinewidth": 0,
              "ticks": ""
             }
            },
            "type": "histogram"
           }
          ],
          "histogram2d": [
           {
            "colorbar": {
             "outlinewidth": 0,
             "ticks": ""
            },
            "colorscale": [
             [
              0,
              "#0d0887"
             ],
             [
              0.1111111111111111,
              "#46039f"
             ],
             [
              0.2222222222222222,
              "#7201a8"
             ],
             [
              0.3333333333333333,
              "#9c179e"
             ],
             [
              0.4444444444444444,
              "#bd3786"
             ],
             [
              0.5555555555555556,
              "#d8576b"
             ],
             [
              0.6666666666666666,
              "#ed7953"
             ],
             [
              0.7777777777777778,
              "#fb9f3a"
             ],
             [
              0.8888888888888888,
              "#fdca26"
             ],
             [
              1,
              "#f0f921"
             ]
            ],
            "type": "histogram2d"
           }
          ],
          "histogram2dcontour": [
           {
            "colorbar": {
             "outlinewidth": 0,
             "ticks": ""
            },
            "colorscale": [
             [
              0,
              "#0d0887"
             ],
             [
              0.1111111111111111,
              "#46039f"
             ],
             [
              0.2222222222222222,
              "#7201a8"
             ],
             [
              0.3333333333333333,
              "#9c179e"
             ],
             [
              0.4444444444444444,
              "#bd3786"
             ],
             [
              0.5555555555555556,
              "#d8576b"
             ],
             [
              0.6666666666666666,
              "#ed7953"
             ],
             [
              0.7777777777777778,
              "#fb9f3a"
             ],
             [
              0.8888888888888888,
              "#fdca26"
             ],
             [
              1,
              "#f0f921"
             ]
            ],
            "type": "histogram2dcontour"
           }
          ],
          "mesh3d": [
           {
            "colorbar": {
             "outlinewidth": 0,
             "ticks": ""
            },
            "type": "mesh3d"
           }
          ],
          "parcoords": [
           {
            "line": {
             "colorbar": {
              "outlinewidth": 0,
              "ticks": ""
             }
            },
            "type": "parcoords"
           }
          ],
          "pie": [
           {
            "automargin": true,
            "type": "pie"
           }
          ],
          "scatter": [
           {
            "marker": {
             "colorbar": {
              "outlinewidth": 0,
              "ticks": ""
             }
            },
            "type": "scatter"
           }
          ],
          "scatter3d": [
           {
            "line": {
             "colorbar": {
              "outlinewidth": 0,
              "ticks": ""
             }
            },
            "marker": {
             "colorbar": {
              "outlinewidth": 0,
              "ticks": ""
             }
            },
            "type": "scatter3d"
           }
          ],
          "scattercarpet": [
           {
            "marker": {
             "colorbar": {
              "outlinewidth": 0,
              "ticks": ""
             }
            },
            "type": "scattercarpet"
           }
          ],
          "scattergeo": [
           {
            "marker": {
             "colorbar": {
              "outlinewidth": 0,
              "ticks": ""
             }
            },
            "type": "scattergeo"
           }
          ],
          "scattergl": [
           {
            "marker": {
             "colorbar": {
              "outlinewidth": 0,
              "ticks": ""
             }
            },
            "type": "scattergl"
           }
          ],
          "scattermapbox": [
           {
            "marker": {
             "colorbar": {
              "outlinewidth": 0,
              "ticks": ""
             }
            },
            "type": "scattermapbox"
           }
          ],
          "scatterpolar": [
           {
            "marker": {
             "colorbar": {
              "outlinewidth": 0,
              "ticks": ""
             }
            },
            "type": "scatterpolar"
           }
          ],
          "scatterpolargl": [
           {
            "marker": {
             "colorbar": {
              "outlinewidth": 0,
              "ticks": ""
             }
            },
            "type": "scatterpolargl"
           }
          ],
          "scatterternary": [
           {
            "marker": {
             "colorbar": {
              "outlinewidth": 0,
              "ticks": ""
             }
            },
            "type": "scatterternary"
           }
          ],
          "surface": [
           {
            "colorbar": {
             "outlinewidth": 0,
             "ticks": ""
            },
            "colorscale": [
             [
              0,
              "#0d0887"
             ],
             [
              0.1111111111111111,
              "#46039f"
             ],
             [
              0.2222222222222222,
              "#7201a8"
             ],
             [
              0.3333333333333333,
              "#9c179e"
             ],
             [
              0.4444444444444444,
              "#bd3786"
             ],
             [
              0.5555555555555556,
              "#d8576b"
             ],
             [
              0.6666666666666666,
              "#ed7953"
             ],
             [
              0.7777777777777778,
              "#fb9f3a"
             ],
             [
              0.8888888888888888,
              "#fdca26"
             ],
             [
              1,
              "#f0f921"
             ]
            ],
            "type": "surface"
           }
          ],
          "table": [
           {
            "cells": {
             "fill": {
              "color": "#EBF0F8"
             },
             "line": {
              "color": "white"
             }
            },
            "header": {
             "fill": {
              "color": "#C8D4E3"
             },
             "line": {
              "color": "white"
             }
            },
            "type": "table"
           }
          ]
         },
         "layout": {
          "annotationdefaults": {
           "arrowcolor": "#2a3f5f",
           "arrowhead": 0,
           "arrowwidth": 1
          },
          "autotypenumbers": "strict",
          "coloraxis": {
           "colorbar": {
            "outlinewidth": 0,
            "ticks": ""
           }
          },
          "colorscale": {
           "diverging": [
            [
             0,
             "#8e0152"
            ],
            [
             0.1,
             "#c51b7d"
            ],
            [
             0.2,
             "#de77ae"
            ],
            [
             0.3,
             "#f1b6da"
            ],
            [
             0.4,
             "#fde0ef"
            ],
            [
             0.5,
             "#f7f7f7"
            ],
            [
             0.6,
             "#e6f5d0"
            ],
            [
             0.7,
             "#b8e186"
            ],
            [
             0.8,
             "#7fbc41"
            ],
            [
             0.9,
             "#4d9221"
            ],
            [
             1,
             "#276419"
            ]
           ],
           "sequential": [
            [
             0,
             "#0d0887"
            ],
            [
             0.1111111111111111,
             "#46039f"
            ],
            [
             0.2222222222222222,
             "#7201a8"
            ],
            [
             0.3333333333333333,
             "#9c179e"
            ],
            [
             0.4444444444444444,
             "#bd3786"
            ],
            [
             0.5555555555555556,
             "#d8576b"
            ],
            [
             0.6666666666666666,
             "#ed7953"
            ],
            [
             0.7777777777777778,
             "#fb9f3a"
            ],
            [
             0.8888888888888888,
             "#fdca26"
            ],
            [
             1,
             "#f0f921"
            ]
           ],
           "sequentialminus": [
            [
             0,
             "#0d0887"
            ],
            [
             0.1111111111111111,
             "#46039f"
            ],
            [
             0.2222222222222222,
             "#7201a8"
            ],
            [
             0.3333333333333333,
             "#9c179e"
            ],
            [
             0.4444444444444444,
             "#bd3786"
            ],
            [
             0.5555555555555556,
             "#d8576b"
            ],
            [
             0.6666666666666666,
             "#ed7953"
            ],
            [
             0.7777777777777778,
             "#fb9f3a"
            ],
            [
             0.8888888888888888,
             "#fdca26"
            ],
            [
             1,
             "#f0f921"
            ]
           ]
          },
          "colorway": [
           "#636efa",
           "#EF553B",
           "#00cc96",
           "#ab63fa",
           "#FFA15A",
           "#19d3f3",
           "#FF6692",
           "#B6E880",
           "#FF97FF",
           "#FECB52"
          ],
          "font": {
           "color": "#2a3f5f"
          },
          "geo": {
           "bgcolor": "white",
           "lakecolor": "white",
           "landcolor": "white",
           "showlakes": true,
           "showland": true,
           "subunitcolor": "#C8D4E3"
          },
          "hoverlabel": {
           "align": "left"
          },
          "hovermode": "closest",
          "mapbox": {
           "style": "light"
          },
          "paper_bgcolor": "white",
          "plot_bgcolor": "white",
          "polar": {
           "angularaxis": {
            "gridcolor": "#EBF0F8",
            "linecolor": "#EBF0F8",
            "ticks": ""
           },
           "bgcolor": "white",
           "radialaxis": {
            "gridcolor": "#EBF0F8",
            "linecolor": "#EBF0F8",
            "ticks": ""
           }
          },
          "scene": {
           "xaxis": {
            "backgroundcolor": "white",
            "gridcolor": "#DFE8F3",
            "gridwidth": 2,
            "linecolor": "#EBF0F8",
            "showbackground": true,
            "ticks": "",
            "zerolinecolor": "#EBF0F8"
           },
           "yaxis": {
            "backgroundcolor": "white",
            "gridcolor": "#DFE8F3",
            "gridwidth": 2,
            "linecolor": "#EBF0F8",
            "showbackground": true,
            "ticks": "",
            "zerolinecolor": "#EBF0F8"
           },
           "zaxis": {
            "backgroundcolor": "white",
            "gridcolor": "#DFE8F3",
            "gridwidth": 2,
            "linecolor": "#EBF0F8",
            "showbackground": true,
            "ticks": "",
            "zerolinecolor": "#EBF0F8"
           }
          },
          "shapedefaults": {
           "line": {
            "color": "#2a3f5f"
           }
          },
          "ternary": {
           "aaxis": {
            "gridcolor": "#DFE8F3",
            "linecolor": "#A2B1C6",
            "ticks": ""
           },
           "baxis": {
            "gridcolor": "#DFE8F3",
            "linecolor": "#A2B1C6",
            "ticks": ""
           },
           "bgcolor": "white",
           "caxis": {
            "gridcolor": "#DFE8F3",
            "linecolor": "#A2B1C6",
            "ticks": ""
           }
          },
          "title": {
           "x": 0.05
          },
          "xaxis": {
           "automargin": true,
           "gridcolor": "#EBF0F8",
           "linecolor": "#EBF0F8",
           "ticks": "",
           "title": {
            "standoff": 15
           },
           "zerolinecolor": "#EBF0F8",
           "zerolinewidth": 2
          },
          "yaxis": {
           "automargin": true,
           "gridcolor": "#EBF0F8",
           "linecolor": "#EBF0F8",
           "ticks": "",
           "title": {
            "standoff": 15
           },
           "zerolinecolor": "#EBF0F8",
           "zerolinewidth": 2
          }
         }
        },
        "title": {
         "text": "[2021-03-26 10:58:36 AM] Episode: 2/2 Step: 151/200"
        },
        "xaxis": {
         "anchor": "y",
         "domain": [
          0,
          1
         ],
         "gridcolor": "Gainsboro",
         "linecolor": "Grey",
         "matches": "x4",
         "rangeslider": {
          "visible": false
         },
         "showticklabels": false,
         "title": {
          "font": {
           "size": 12
          },
          "standoff": 7,
          "text": "Price"
         }
        },
        "xaxis2": {
         "anchor": "y2",
         "domain": [
          0,
          1
         ],
         "gridcolor": "Gainsboro",
         "linecolor": "Grey",
         "matches": "x4",
         "showticklabels": false,
         "title": {
          "font": {
           "size": 12
          },
          "standoff": 7,
          "text": "Volume"
         }
        },
        "xaxis3": {
         "anchor": "y3",
         "domain": [
          0,
          1
         ],
         "gridcolor": "Gainsboro",
         "linecolor": "Grey",
         "matches": "x4",
         "showticklabels": false,
         "title": {
          "font": {
           "size": 12
          },
          "standoff": 7,
          "text": "Performance"
         }
        },
        "xaxis4": {
         "anchor": "y4",
         "domain": [
          0,
          1
         ],
         "gridcolor": "Gainsboro",
         "linecolor": "Grey",
         "title": {
          "font": {
           "size": 12
          },
          "standoff": 7,
          "text": "Net Worth"
         }
        },
        "yaxis": {
         "anchor": "x",
         "domain": [
          0.49950000000000006,
          1
         ],
         "gridcolor": "Gainsboro",
         "linecolor": "Grey"
        },
        "yaxis2": {
         "anchor": "x2",
         "domain": [
          0.333,
          0.46950000000000003
         ],
         "gridcolor": "Gainsboro",
         "linecolor": "Grey"
        },
        "yaxis3": {
         "anchor": "x3",
         "domain": [
          0.1665,
          0.30300000000000005
         ],
         "gridcolor": "Gainsboro",
         "linecolor": "Grey"
        },
        "yaxis4": {
         "anchor": "x4",
         "domain": [
          0,
          0.1365
         ],
         "gridcolor": "Gainsboro",
         "linecolor": "Grey"
        }
       }
      }
     },
     "metadata": {}
    },
    {
     "output_type": "display_data",
     "data": {
      "text/plain": "FigureWidget({\n    'data': [{'close': array([8740.99, 8739.  , 8728.49, 8708.32, 8795.9 , 8760.  , 8760.  , 87…",
      "application/vnd.jupyter.widget-view+json": {
       "version_major": 2,
       "version_minor": 0,
       "model_id": "770a587930f04eba8e00c05b26a54679"
      }
     },
     "metadata": {}
    },
    {
     "output_type": "display_data",
     "data": {
      "application/vnd.plotly.v1+json": {
       "config": {
        "plotlyServerURL": "https://plot.ly"
       },
       "data": [
        {
         "close": [
          8740.99,
          8739,
          8728.49,
          8708.32,
          8795.9,
          8760,
          8760,
          8759.23,
          8517.77,
          8520.3,
          8535.23,
          8546.34,
          8526.65,
          8555.6,
          8512.1,
          8492.28,
          8460,
          8474.99,
          8455.92,
          8326.28,
          8133.43,
          8164.79,
          8229.38,
          8220.4,
          8238.8,
          8232.99,
          8207.48,
          8243.45,
          8371.13,
          8373,
          8365.08,
          8179.99,
          8225,
          8285.8,
          8273.4,
          8297.4,
          8279.89,
          8252.72,
          8302.18,
          8295.85,
          8277.25,
          8346.59,
          8358.3,
          8375.1,
          8368.62,
          8366.72,
          8314.77,
          8363.7,
          8344.16,
          8247.4,
          8277.4,
          8291.67,
          8307.89,
          8298.9,
          8269.47,
          8300.98,
          8318.49,
          8306.39,
          8276.43,
          8257.69,
          8166,
          8176.33,
          8200.7,
          8155.41,
          8080,
          8067.03,
          7958.08,
          7974.25,
          7998.5,
          7991.99,
          8022.7,
          8042.97,
          7965.67,
          8088.95,
          8122.19,
          8107.99,
          8137.73,
          8115,
          8107,
          8094.4,
          8080.01,
          8117.09,
          8126.99,
          8110.95,
          8215.39,
          8231.42,
          8240.13,
          8235,
          8219.9,
          8248.87,
          8213.5,
          8200.99,
          8200,
          8237.3,
          8228.13,
          8240.83,
          8214.9,
          8170.07,
          8229.87,
          8205.87,
          8252.56,
          8365,
          8348.65,
          8303.99,
          8310.48,
          8310,
          8289.87,
          8304.99,
          8301.35,
          8313.12,
          8240.07,
          8199.99,
          8226.98,
          8231.2,
          8198.89,
          8215.85,
          8279.99,
          8255.08,
          8270.4,
          8244.24,
          8239.12,
          8267.14,
          8282.27,
          8350.62,
          8336.6,
          8336.91,
          8311.21,
          8312.09,
          8345.19,
          8377.2,
          8481.11,
          8516.36,
          8524,
          8517.04,
          8558.5,
          8521.99,
          8484.93,
          8518.48,
          8488.99,
          8466.72,
          8492.55,
          8494.28,
          8510.95,
          8498.64,
          8551.1,
          8524.22,
          8510.11,
          8475.62,
          8476.58,
          8467.13,
          8499.84,
          8490.42,
          8407.09,
          8409.42,
          8400.96,
          8383.14,
          8350,
          8373.01,
          8412.8,
          8385.57,
          8408.53,
          8391.76,
          8367.36,
          8280.24,
          8297.91,
          8333.99,
          8285.29,
          8280,
          8317.02,
          8320.16,
          8295.9,
          8245.47,
          8264.98,
          8200,
          8170,
          8217,
          8231.63,
          8232.8,
          8225.38,
          8200.01,
          8219.98,
          8187.98,
          8100.32,
          8076.99,
          7964.73,
          7984.08,
          7949.35,
          7900.61,
          7895.5,
          7960,
          7900,
          7921.99,
          7943.07,
          7856.37,
          7848.3,
          7852.68,
          7847.1,
          7849.31,
          7911.83,
          7901.01,
          7887
         ],
         "high": [
          8796.68,
          8766,
          8750.27,
          8754.4,
          8865,
          8821.19,
          8798.6,
          8771.02,
          8761.7,
          8553.67,
          8589.1,
          8579.48,
          8555.51,
          8583.6,
          8569.92,
          8555.54,
          8557.51,
          8505,
          8505.33,
          8478.29,
          8339.81,
          8217.44,
          8252.72,
          8248.63,
          8267.12,
          8255,
          8261.24,
          8263.93,
          8455.66,
          8439.44,
          8399.1,
          8381.73,
          8229.91,
          8377.29,
          8329.1,
          8350,
          8346.95,
          8377.29,
          8311.35,
          8319.96,
          8398.24,
          8372.58,
          8399.99,
          8386.53,
          8400,
          8500,
          8381,
          8371.3,
          8382.41,
          8351,
          8292.99,
          8325.8,
          8318.99,
          8324.9,
          8335.56,
          8309.4,
          8377.29,
          8330.41,
          8328.23,
          8284.36,
          8274.83,
          8200,
          8232.14,
          8213.97,
          8155.41,
          8108.28,
          8068.92,
          8019.9,
          8026.66,
          8025,
          8104.69,
          8061.39,
          8045.99,
          8170.71,
          8144.16,
          8139.99,
          8152.99,
          8137.73,
          8143.72,
          8129.99,
          8106.76,
          8139,
          8152.04,
          8146.99,
          8232.14,
          8275.1,
          8256.12,
          8274.1,
          8255.8,
          8253.97,
          8261.09,
          8235.76,
          8227,
          8273.36,
          8264.21,
          8250,
          8250.86,
          8235.77,
          8232.12,
          8232.14,
          8252.72,
          8370,
          8395,
          8374.48,
          8331,
          8319.43,
          8323.4,
          8314.55,
          8330.62,
          8314.8,
          8323.99,
          8263.03,
          8247.78,
          8253.75,
          8237.89,
          8235,
          8279.99,
          8290,
          8278.71,
          8275.34,
          8279.31,
          8279.98,
          8294.04,
          8356.4,
          8374.94,
          8354.83,
          8360.45,
          8337.14,
          8351.97,
          8377.29,
          8549,
          8531.9,
          8551.79,
          8529.9,
          8590,
          8576.1,
          8549.89,
          8531.89,
          8550,
          8493.29,
          8522.98,
          8517,
          8537.29,
          8524.51,
          8589.1,
          8589.07,
          8536.92,
          8524.03,
          8497.8,
          8498,
          8513.5,
          8510,
          8494.7,
          8427.29,
          8419.03,
          8415.47,
          8389.99,
          8397.57,
          8455,
          8429.66,
          8412.61,
          8424,
          8417.65,
          8369.7,
          8326.5,
          8336.65,
          8333.99,
          8314.32,
          8355.97,
          8333.49,
          8325.6,
          8296.01,
          8264.98,
          8271.31,
          8200,
          8232.14,
          8246,
          8248.94,
          8259.95,
          8242.49,
          8232.04,
          8230.9,
          8205,
          8118.98,
          8103.07,
          8040.95,
          8032.01,
          7960.25,
          7920,
          7960,
          7960,
          7935,
          7960.99,
          7951.38,
          7888.92,
          7870,
          7909.75,
          7882.27,
          7949.27,
          7944.73,
          7916.48
         ],
         "low": [
          8707.28,
          8721.11,
          8660.53,
          8701.35,
          8695.11,
          8740.54,
          8741.52,
          8700,
          8467.42,
          8477.89,
          8500.78,
          8500,
          8400,
          8451.05,
          8461.38,
          8481.24,
          8420.37,
          8450,
          8430.94,
          8275.02,
          8100.01,
          8122.56,
          8157.01,
          8166.25,
          8176.91,
          8213.79,
          8200,
          8207.48,
          8237.1,
          8370,
          8356.4,
          8145.1,
          8173.6,
          8211.8,
          8201,
          8250.9,
          8266.46,
          8252.72,
          8232.14,
          8268.37,
          8277.25,
          8277.25,
          8314.78,
          8314.77,
          8350.07,
          8331.39,
          8314.77,
          8275.45,
          8335.49,
          8191.14,
          8227.7,
          8264.13,
          8249.93,
          8269.52,
          8219.44,
          8262.68,
          8286.65,
          8289.87,
          8232.14,
          8232.14,
          8110.02,
          8154.95,
          8168.6,
          8151,
          7980,
          8005.95,
          7929.53,
          7931.03,
          7950,
          7980.58,
          7991.99,
          7992.75,
          7953.4,
          7965.67,
          8085.94,
          8078.48,
          8092.9,
          8049.22,
          8079.46,
          8062.12,
          8043.96,
          8063.1,
          8088.46,
          8094.43,
          8088.46,
          8191.14,
          8212,
          8224.5,
          8211,
          8211.01,
          8210.03,
          8158.27,
          8177.65,
          8179.41,
          8221.92,
          8217.32,
          8213.52,
          8141.08,
          8146.1,
          8186.03,
          8197.09,
          8231.21,
          8323.82,
          8296,
          8296.31,
          8282.65,
          8280,
          8273.36,
          8290.08,
          8277.93,
          8240.07,
          8191.14,
          8178,
          8193.7,
          8180,
          8170.71,
          8215.53,
          8240.02,
          8237.17,
          8237.17,
          8239.12,
          8227.79,
          8247.57,
          8274.24,
          8326.1,
          8320.61,
          8281.31,
          8269.85,
          8311.16,
          8336.11,
          8369.86,
          8471.51,
          8511,
          8476.66,
          8507.68,
          8509.24,
          8482.53,
          8484.93,
          8450,
          8434.47,
          8461.1,
          8481,
          8480,
          8488.1,
          8471.09,
          8509.2,
          8482.64,
          8469,
          8440.4,
          8440.52,
          8461.8,
          8480,
          8358.17,
          8380.73,
          8370,
          8383.12,
          8320,
          8349.17,
          8357.11,
          8370.58,
          8367.21,
          8376.99,
          8335.6,
          8252.72,
          8264.49,
          8282.59,
          8271.09,
          8261.52,
          8280,
          8297,
          8290,
          8220,
          8230.45,
          8180,
          8119.38,
          8170,
          8189.84,
          8210.76,
          8212.68,
          8200,
          8186,
          8161.77,
          8063.15,
          8050.01,
          7951.41,
          7964.73,
          7949.35,
          7861.32,
          7865,
          7886.48,
          7870.35,
          7885.2,
          7896.41,
          7811.62,
          7808.05,
          7808,
          7836.79,
          7801.02,
          7847.36,
          7883,
          7850.72
         ],
         "name": "Price",
         "open": [
          8733.86,
          8740.99,
          8739,
          8728.49,
          8708.32,
          8795.9,
          8760,
          8760,
          8759.23,
          8517.77,
          8520.3,
          8535.23,
          8546.34,
          8526.65,
          8555.6,
          8512.1,
          8492.28,
          8460,
          8474.99,
          8455.92,
          8326.28,
          8133.43,
          8164.79,
          8229.38,
          8220.4,
          8238.8,
          8232.99,
          8207.48,
          8243.45,
          8371.13,
          8373,
          8365.08,
          8179.99,
          8225,
          8285.8,
          8273.4,
          8297.4,
          8279.89,
          8252.72,
          8302.18,
          8295.85,
          8277.25,
          8346.59,
          8358.3,
          8375.1,
          8368.62,
          8366.72,
          8314.77,
          8363.7,
          8344.16,
          8247.4,
          8277.4,
          8291.67,
          8307.89,
          8298.9,
          8269.47,
          8300.98,
          8318.49,
          8306.39,
          8276.43,
          8257.69,
          8166,
          8176.33,
          8200.7,
          8155.41,
          8080,
          8067.03,
          7958.08,
          7974.25,
          7998.5,
          7991.99,
          8022.7,
          8042.97,
          7965.67,
          8088.95,
          8122.19,
          8107.99,
          8137.73,
          8115,
          8107,
          8094.4,
          8080.01,
          8117.09,
          8126.99,
          8110.95,
          8215.39,
          8231.42,
          8240.13,
          8235,
          8219.9,
          8248.87,
          8213.5,
          8200.99,
          8200,
          8237.3,
          8228.13,
          8240.83,
          8214.9,
          8170.07,
          8229.87,
          8205.87,
          8252.56,
          8365,
          8348.65,
          8303.99,
          8310.48,
          8310,
          8289.87,
          8304.99,
          8301.35,
          8313.12,
          8240.07,
          8199.99,
          8226.98,
          8231.2,
          8198.89,
          8215.85,
          8279.99,
          8255.08,
          8270.4,
          8244.24,
          8239.12,
          8267.14,
          8282.27,
          8350.62,
          8336.6,
          8336.91,
          8311.21,
          8312.09,
          8345.19,
          8377.2,
          8481.11,
          8516.36,
          8524,
          8517.04,
          8558.5,
          8521.99,
          8484.93,
          8518.48,
          8488.99,
          8466.72,
          8492.55,
          8494.28,
          8510.95,
          8498.64,
          8551.1,
          8524.22,
          8510.11,
          8475.62,
          8476.58,
          8467.13,
          8499.84,
          8490.42,
          8407.09,
          8409.42,
          8400.96,
          8383.14,
          8350,
          8373.01,
          8412.8,
          8385.57,
          8408.53,
          8391.76,
          8367.36,
          8280.24,
          8297.91,
          8333.99,
          8285.29,
          8280,
          8317.02,
          8320.16,
          8295.9,
          8245.47,
          8264.98,
          8200,
          8170,
          8217,
          8231.63,
          8232.8,
          8225.38,
          8200.01,
          8219.98,
          8187.98,
          8100.32,
          8076.99,
          7964.73,
          7984.08,
          7949.35,
          7900.61,
          7895.5,
          7960,
          7900,
          7921.99,
          7943.07,
          7856.37,
          7848.3,
          7852.68,
          7847.1,
          7849.31,
          7911.83,
          7901.01
         ],
         "showlegend": false,
         "type": "candlestick",
         "uid": "e28b1968-48ed-4f4b-afae-b71591fdf84c",
         "xaxis": "x",
         "yaxis": "y"
        },
        {
         "marker": {
          "color": "DodgerBlue"
         },
         "name": "Volume",
         "showlegend": false,
         "type": "bar",
         "uid": "03610c5d-a369-4c9b-a287-9984c1a8d9ae",
         "xaxis": "x2",
         "y": [
          559.93,
          273.58,
          917.79,
          182.62,
          1260.69,
          324.11,
          324.2,
          730.67,
          1341.75,
          792.07,
          385.69,
          475.08,
          877.26,
          670.49,
          610.97,
          168.99,
          305.92,
          136.05,
          154.26,
          1070.93,
          1710.2,
          492.8,
          630.72,
          620.93,
          586.34,
          304.52,
          450.97,
          182.36,
          915.32,
          319.29,
          362.01,
          1046.38,
          357.91,
          561.2,
          322.53,
          1073.71,
          237.21,
          251.2,
          359.73,
          117.23,
          363.17,
          214.18,
          171.64,
          258.58,
          299.52,
          718.98,
          119.7,
          405.25,
          210.77,
          714.82,
          215.97,
          164.2,
          201.55,
          203.41,
          886.82,
          95.49,
          499.67,
          172.77,
          355.39,
          255.27,
          591.06,
          133.1,
          149.13,
          87.55,
          1061.54,
          286.94,
          524.42,
          316,
          441.43,
          189.7,
          844.94,
          155.34,
          257.56,
          610.69,
          217.97,
          173.18,
          218.06,
          372.97,
          484.39,
          248.1,
          162.35,
          303.42,
          290.69,
          160.93,
          369.4,
          487.27,
          93.35,
          96.68,
          72.14,
          90.22,
          168.52,
          203.15,
          71.42,
          464.56,
          57,
          89.42,
          49.47,
          200.05,
          254.37,
          65.05,
          118.19,
          452.4,
          181.03,
          288.04,
          145.78,
          110.14,
          55.48,
          80.87,
          67.01,
          59.16,
          121.26,
          244.37,
          156.87,
          80.48,
          139.32,
          93.52,
          200.23,
          97.4,
          68.08,
          47,
          36.65,
          28.75,
          182.85,
          400.18,
          288.1,
          182.94,
          777.81,
          493.59,
          118.63,
          174.37,
          901.75,
          222.45,
          113.8,
          84.2,
          261.44,
          168.78,
          111.07,
          122.12,
          267.32,
          210.39,
          211.36,
          146.22,
          93.39,
          89.04,
          307.59,
          307.2,
          164.24,
          151.21,
          399.77,
          362.01,
          260.85,
          232.32,
          1109.45,
          348.5,
          210.57,
          274.92,
          277.83,
          99.57,
          273.12,
          129.47,
          113.05,
          87.6,
          159.37,
          433.28,
          133.29,
          200.57,
          210.33,
          206.4,
          357.53,
          107.43,
          116.54,
          479.07,
          290.38,
          812.96,
          1542.87,
          430.36,
          312.54,
          132.75,
          333.64,
          205.86,
          120.33,
          263.1,
          457.64,
          451.55,
          962.22,
          381.04,
          386.95,
          905.87,
          453.48,
          542.31,
          476.48,
          341.79,
          654.23,
          769.1,
          719.94,
          523.05,
          409.37,
          255.12,
          551.86,
          340.62,
          488.69
         ],
         "yaxis": "y2"
        },
        {
         "mode": "lines",
         "name": "bitstamp:/USD-BTC",
         "type": "scatter",
         "uid": "045d1962-0224-4a36-a9f0-c3ba2b9187f7",
         "xaxis": "x3",
         "y": [
          8740.99,
          8739,
          8728.49,
          8708.32,
          8795.9,
          8760,
          8760,
          8759.23,
          8517.77,
          8520.3,
          8535.23,
          8546.34,
          8526.65,
          8555.6,
          8512.1,
          8492.28,
          8460,
          8474.99,
          8455.92,
          8326.28,
          8133.43,
          8164.79,
          8229.38,
          8220.4,
          8238.8,
          8232.99,
          8207.48,
          8243.45,
          8371.13,
          8373,
          8365.08,
          8179.99,
          8225,
          8285.8,
          8273.4,
          8297.4,
          8279.89,
          8252.72,
          8302.18,
          8295.85,
          8277.25,
          8346.59,
          8358.3,
          8375.1,
          8368.62,
          8366.72,
          8314.77,
          8363.7,
          8344.16,
          8247.4,
          8277.4,
          8291.67,
          8307.89,
          8298.9,
          8269.47,
          8300.98,
          8318.49,
          8306.39,
          8276.43,
          8257.69,
          8166,
          8176.33,
          8200.7,
          8155.41,
          8080,
          8067.03,
          7958.08,
          7974.25,
          7998.5,
          7991.99,
          8022.7,
          8042.97,
          7965.67,
          8088.95,
          8122.19,
          8107.99,
          8137.73,
          8115,
          8107,
          8094.4,
          8080.01,
          8117.09,
          8126.99,
          8110.95,
          8215.39,
          8231.42,
          8240.13,
          8235,
          8219.9,
          8248.87,
          8213.5,
          8200.99,
          8200,
          8237.3,
          8228.13,
          8240.83,
          8214.9,
          8170.07,
          8229.87,
          8205.87,
          8252.56,
          8365,
          8348.65,
          8303.99,
          8310.48,
          8310,
          8289.87,
          8304.99,
          8301.35,
          8313.12,
          8240.07,
          8199.99,
          8226.98,
          8231.2,
          8198.89,
          8215.85,
          8279.99,
          8255.08,
          8270.4,
          8244.24,
          8239.12,
          8267.14,
          8282.27,
          8350.62,
          8336.6,
          8336.91,
          8311.21,
          8312.09,
          8345.19,
          8377.2,
          8481.11,
          8516.36,
          8524,
          8517.04,
          8558.5,
          8521.99,
          8484.93,
          8518.48,
          8488.99,
          8466.72,
          8492.55,
          8494.28,
          8510.95,
          8498.64,
          8551.1,
          8524.22,
          8510.11,
          8475.62,
          8476.58,
          8467.13,
          8499.84,
          8490.42,
          8407.09,
          8409.42,
          8400.96,
          8383.14,
          8350,
          8373.01,
          8412.8,
          8385.57,
          8408.53,
          8391.76,
          8367.36,
          8280.24,
          8297.91,
          8333.99,
          8285.29,
          8280,
          8317.02,
          8320.16,
          8295.9,
          8245.47,
          8264.98,
          8200,
          8170,
          8217,
          8231.63,
          8232.8,
          8225.38,
          8200.01,
          8219.98,
          8187.98,
          8100.32,
          8076.99,
          7964.73,
          7984.08,
          7949.35,
          7900.61,
          7895.5,
          7960,
          7900,
          7921.99,
          7943.07,
          7856.37,
          7848.3,
          7852.68,
          7847.1,
          7849.31,
          7911.83,
          7901.01,
          7887
         ],
         "yaxis": "y3"
        },
        {
         "mode": "lines",
         "name": "bitstamp:/USD:/free",
         "type": "scatter",
         "uid": "a29b7d8c-3e7f-483d-916f-3e2f6a04262d",
         "xaxis": "x3",
         "y": [
          10000,
          10000,
          10000,
          10000,
          10000,
          10000,
          10000,
          8000,
          8000,
          9933.05,
          9933.05,
          9933.05,
          9933.05,
          9933.05,
          9933.05,
          9933.05,
          2979.92,
          2979.92,
          0,
          0,
          0,
          6619.42,
          1985.83,
          1985.83,
          1985.83,
          1985.83,
          1985.83,
          1985.83,
          1985.83,
          1985.83,
          1985.83,
          1985.83,
          1985.83,
          1985.83,
          1985.83,
          1985.83,
          1985.83,
          1985.83,
          1985.83,
          1985.83,
          1985.83,
          1985.83,
          1985.83,
          1985.83,
          1985.83,
          1985.83,
          1985.83,
          1985.83,
          1985.83,
          1985.83,
          1985.83,
          1985.83,
          1985.83,
          1985.83,
          1985.83,
          1985.83,
          1985.83,
          1985.83,
          1985.83,
          1985.83,
          1985.83,
          1985.83,
          1985.83,
          1985.83,
          1985.83,
          1985.83,
          1985.83,
          4767.23,
          9265.58,
          2779.67,
          2779.67,
          2779.67,
          2779.67,
          2779.67,
          2779.67,
          2779.67,
          2779.67,
          2779.67,
          2779.67,
          0,
          0,
          0,
          0,
          0,
          0,
          2799.96,
          2799.96,
          9441.77,
          9441.77,
          9441.77,
          9441.77,
          9441.77,
          9441.77,
          9441.77,
          3776.71,
          3776.71,
          3776.71,
          3776.71,
          755.34,
          755.34,
          755.34,
          755.34,
          6473.75,
          9542.67,
          9542.67,
          9542.67,
          6679.87,
          6679.87,
          0,
          0,
          0,
          0,
          0,
          0,
          0,
          0,
          0,
          0,
          0,
          0,
          0,
          0,
          0,
          0,
          0,
          0,
          0,
          0,
          0,
          0,
          0,
          2904.24,
          2904.24,
          2904.24,
          2904.24,
          9746.77,
          9746.77,
          9746.77,
          9746.77,
          9746.77,
          9746.77,
          9746.77,
          9746.77,
          9746.77,
          9746.77,
          9746.77,
          4873.38,
          4873.38,
          4873.38,
          4873.38,
          4873.38,
          4873.38,
          4873.38,
          4873.38,
          2924.03,
          584.81,
          584.81,
          5330,
          5330,
          5330,
          5330,
          5330,
          1599,
          1599,
          1599,
          1599,
          1599,
          1599,
          1599,
          1599,
          1599,
          1599,
          1599,
          1599,
          5222.9,
          5222.9,
          5222.9,
          5222.9,
          5222.9,
          5222.9,
          5222.9,
          5222.9,
          5222.9,
          5222.9,
          5222.9,
          7427.36,
          7427.36,
          7427.36,
          9247.79,
          9247.79,
          9247.79,
          9247.79,
          6473.45,
          6473.45,
          6473.45,
          6473.45,
          6473.45,
          6473.45,
          6473.45,
          6473.45,
          6473.45
         ],
         "yaxis": "y3"
        },
        {
         "mode": "lines",
         "name": "bitstamp:/USD:/locked",
         "type": "scatter",
         "uid": "0acb170c-cb7e-4c73-bd3d-23b20efcbe5a",
         "xaxis": "x3",
         "y": [
          0,
          0,
          0,
          0,
          0,
          0,
          0,
          0,
          0,
          0,
          0,
          0,
          0,
          0,
          0,
          0,
          0,
          0,
          0,
          0,
          0,
          0,
          0,
          0,
          0,
          0,
          0,
          0,
          0,
          0,
          0,
          0,
          0,
          0,
          0,
          0,
          0,
          0,
          0,
          0,
          0,
          0,
          0,
          0,
          0,
          0,
          0,
          0,
          0,
          0,
          0,
          0,
          0,
          0,
          0,
          0,
          0,
          0,
          0,
          0,
          0,
          0,
          0,
          0,
          0,
          0,
          0,
          0,
          0,
          0,
          0,
          0,
          0,
          0,
          0,
          0,
          0,
          0,
          0,
          0,
          0,
          0,
          0,
          0,
          0,
          0,
          0,
          0,
          0,
          0,
          0,
          0,
          0,
          0,
          0,
          0,
          0,
          0,
          0,
          0,
          0,
          0,
          0,
          0,
          0,
          0,
          0,
          0,
          0,
          0,
          0,
          0,
          0,
          0,
          0,
          0,
          0,
          0,
          0,
          0,
          0,
          0,
          0,
          0,
          0,
          0,
          0,
          0,
          0,
          0,
          0,
          0,
          0,
          0,
          0,
          0,
          0,
          0,
          0,
          0,
          0,
          0,
          0,
          0,
          0,
          0,
          0,
          0,
          0,
          0,
          0,
          0,
          0,
          0,
          0,
          0,
          0,
          0,
          0,
          0,
          0,
          0,
          0,
          0,
          0,
          0,
          0,
          0,
          0,
          0,
          0,
          0,
          0,
          0,
          0,
          0,
          0,
          0,
          0,
          0,
          0,
          0,
          0,
          0,
          0,
          0,
          0,
          0,
          0,
          0,
          0,
          0,
          0,
          0,
          0,
          0,
          0,
          0,
          0,
          0,
          0
         ],
         "yaxis": "y3"
        },
        {
         "mode": "lines",
         "name": "bitstamp:/USD:/total",
         "type": "scatter",
         "uid": "6077dbcd-e521-4116-8c8a-3f0af9d299fc",
         "xaxis": "x3",
         "y": [
          10000,
          10000,
          10000,
          10000,
          10000,
          10000,
          10000,
          8000,
          8000,
          9933.05,
          9933.05,
          9933.05,
          9933.05,
          9933.05,
          9933.05,
          9933.05,
          2979.92,
          2979.92,
          0,
          0,
          0,
          6619.42,
          1985.83,
          1985.83,
          1985.83,
          1985.83,
          1985.83,
          1985.83,
          1985.83,
          1985.83,
          1985.83,
          1985.83,
          1985.83,
          1985.83,
          1985.83,
          1985.83,
          1985.83,
          1985.83,
          1985.83,
          1985.83,
          1985.83,
          1985.83,
          1985.83,
          1985.83,
          1985.83,
          1985.83,
          1985.83,
          1985.83,
          1985.83,
          1985.83,
          1985.83,
          1985.83,
          1985.83,
          1985.83,
          1985.83,
          1985.83,
          1985.83,
          1985.83,
          1985.83,
          1985.83,
          1985.83,
          1985.83,
          1985.83,
          1985.83,
          1985.83,
          1985.83,
          1985.83,
          4767.23,
          9265.58,
          2779.67,
          2779.67,
          2779.67,
          2779.67,
          2779.67,
          2779.67,
          2779.67,
          2779.67,
          2779.67,
          2779.67,
          0,
          0,
          0,
          0,
          0,
          0,
          2799.96,
          2799.96,
          9441.77,
          9441.77,
          9441.77,
          9441.77,
          9441.77,
          9441.77,
          9441.77,
          3776.71,
          3776.71,
          3776.71,
          3776.71,
          755.34,
          755.34,
          755.34,
          755.34,
          6473.75,
          9542.67,
          9542.67,
          9542.67,
          6679.87,
          6679.87,
          0,
          0,
          0,
          0,
          0,
          0,
          0,
          0,
          0,
          0,
          0,
          0,
          0,
          0,
          0,
          0,
          0,
          0,
          0,
          0,
          0,
          0,
          0,
          2904.24,
          2904.24,
          2904.24,
          2904.24,
          9746.77,
          9746.77,
          9746.77,
          9746.77,
          9746.77,
          9746.77,
          9746.77,
          9746.77,
          9746.77,
          9746.77,
          9746.77,
          4873.38,
          4873.38,
          4873.38,
          4873.38,
          4873.38,
          4873.38,
          4873.38,
          4873.38,
          2924.03,
          584.81,
          584.81,
          5330,
          5330,
          5330,
          5330,
          5330,
          1599,
          1599,
          1599,
          1599,
          1599,
          1599,
          1599,
          1599,
          1599,
          1599,
          1599,
          1599,
          5222.9,
          5222.9,
          5222.9,
          5222.9,
          5222.9,
          5222.9,
          5222.9,
          5222.9,
          5222.9,
          5222.9,
          5222.9,
          7427.36,
          7427.36,
          7427.36,
          9247.79,
          9247.79,
          9247.79,
          9247.79,
          6473.45,
          6473.45,
          6473.45,
          6473.45,
          6473.45,
          6473.45,
          6473.45,
          6473.45,
          6473.45
         ],
         "yaxis": "y3"
        },
        {
         "mode": "lines",
         "name": "bitstamp:/BTC:/free",
         "type": "scatter",
         "uid": "701e4691-2ec6-450d-963e-4046004dbf4e",
         "xaxis": "x3",
         "y": [
          10,
          10,
          10,
          10,
          10,
          10,
          10,
          10,
          10,
          10,
          10,
          10,
          10,
          10,
          10,
          10,
          10,
          10,
          10,
          10,
          10,
          10,
          10,
          10,
          10,
          10,
          10,
          10,
          10,
          10,
          10,
          10,
          10,
          10,
          10,
          10,
          10,
          10,
          10,
          10,
          10,
          10,
          10,
          10,
          10,
          10,
          10,
          10,
          10,
          10,
          10,
          10,
          10,
          10,
          10,
          10,
          10,
          10,
          10,
          10,
          10,
          10,
          10,
          10,
          10,
          10,
          10,
          10,
          10,
          10,
          10,
          10,
          10,
          10,
          10,
          10,
          10,
          10,
          10,
          10,
          10,
          10,
          10,
          10,
          10,
          10,
          10,
          10,
          10,
          10,
          10,
          10,
          10,
          10,
          10,
          10,
          10,
          10,
          10,
          10,
          10,
          10,
          10,
          10,
          10,
          10,
          10,
          10,
          10,
          10,
          10,
          10,
          10,
          10,
          10,
          10,
          10,
          10,
          10,
          10,
          10,
          10,
          10,
          10,
          10,
          10,
          10,
          10,
          10,
          10,
          10,
          10,
          10,
          10,
          10,
          10,
          10,
          10,
          10,
          10,
          10,
          10,
          10,
          10,
          10,
          10,
          10,
          10,
          10,
          10,
          10,
          10,
          10,
          10,
          10,
          10,
          10,
          10,
          10,
          10,
          10,
          10,
          10,
          10,
          10,
          10,
          10,
          10,
          10,
          10,
          10,
          10,
          10,
          10,
          10,
          10,
          10,
          10,
          10,
          10,
          10,
          10,
          10,
          10,
          10,
          10,
          10,
          10,
          10,
          10,
          10,
          10,
          10,
          10,
          10,
          10,
          10,
          10,
          10,
          10,
          10
         ],
         "yaxis": "y3"
        },
        {
         "mode": "lines",
         "name": "bitstamp:/BTC:/locked",
         "type": "scatter",
         "uid": "c8bf4564-4206-412c-a182-bb73f6d9b4de",
         "xaxis": "x3",
         "y": [
          0,
          0,
          0,
          0,
          0,
          0,
          0,
          0.22762557,
          0.22762557,
          0,
          0,
          0,
          0,
          0,
          0,
          0,
          0.81630257,
          0.81630257,
          1.1668611,
          1.1668611,
          1.1668611,
          0.35055853,
          0.91636488,
          0.91636488,
          0.91636488,
          0.91636488,
          0.91636488,
          0.91636488,
          0.91636488,
          0.91636488,
          0.91636488,
          0.91636488,
          0.91636488,
          0.91636488,
          0.91636488,
          0.91636488,
          0.91636488,
          0.91636488,
          0.91636488,
          0.91636488,
          0.91636488,
          0.91636488,
          0.91636488,
          0.91636488,
          0.91636488,
          0.91636488,
          0.91636488,
          0.91636488,
          0.91636488,
          0.91636488,
          0.91636488,
          0.91636488,
          0.91636488,
          0.91636488,
          0.91636488,
          0.91636488,
          0.91636488,
          0.91636488,
          0.91636488,
          0.91636488,
          0.91636488,
          0.91636488,
          0.91636488,
          0.91636488,
          0.91636488,
          0.91636488,
          0.91636488,
          0.56580635,
          0,
          0.80845784,
          0.80845784,
          0.80845784,
          0.80845784,
          0.80845784,
          0.80845784,
          0.80845784,
          0.80845784,
          0.80845784,
          0.80845784,
          1.15030193,
          1.15030193,
          1.15030193,
          1.15030193,
          1.15030193,
          1.15030193,
          0.80845784,
          0.80845784,
          0,
          0,
          0,
          0,
          0,
          0,
          0,
          0.68566885,
          0.68566885,
          0.68566885,
          0.68566885,
          1.05436949,
          1.05436949,
          1.05436949,
          1.05436949,
          0.36870064,
          0,
          0,
          0,
          0.34346691,
          0.34346691,
          1.14537396,
          1.14537396,
          1.14537396,
          1.14537396,
          1.14537396,
          1.14537396,
          1.14537396,
          1.14537396,
          1.14537396,
          1.14537396,
          1.14537396,
          1.14537396,
          1.14537396,
          1.14537396,
          1.14537396,
          1.14537396,
          1.14537396,
          1.14537396,
          1.14537396,
          1.14537396,
          1.14537396,
          1.14537396,
          1.14537396,
          0.80190705,
          0.80190705,
          0.80190705,
          0.80190705,
          0,
          0,
          0,
          0,
          0,
          0,
          0,
          0,
          0,
          0,
          0,
          0.56999585,
          0.56999585,
          0.56999585,
          0.56999585,
          0.56999585,
          0.56999585,
          0.56999585,
          0.56999585,
          0.80110572,
          1.07871685,
          1.07871685,
          0.508721,
          0.508721,
          0.508721,
          0.508721,
          0.508721,
          0.95199035,
          0.95199035,
          0.95199035,
          0.95199035,
          0.95199035,
          0.95199035,
          0.95199035,
          0.95199035,
          0.95199035,
          0.95199035,
          0.95199035,
          0.95199035,
          0.508721,
          0.508721,
          0.508721,
          0.508721,
          0.508721,
          0.508721,
          0.508721,
          0.508721,
          0.508721,
          0.508721,
          0.508721,
          0.23110987,
          0.23110987,
          0.23110987,
          0,
          0,
          0,
          0,
          0.34915722,
          0.34915722,
          0.34915722,
          0.34915722,
          0.34915722,
          0.34915722,
          0.34915722,
          0.34915722,
          0.34915722
         ],
         "yaxis": "y3"
        },
        {
         "mode": "lines",
         "name": "bitstamp:/BTC:/total",
         "type": "scatter",
         "uid": "e94992fc-d52f-4306-9fe4-5bb0b6239c20",
         "xaxis": "x3",
         "y": [
          10,
          10,
          10,
          10,
          10,
          10,
          10,
          10.22762557,
          10.22762557,
          10,
          10,
          10,
          10,
          10,
          10,
          10,
          10.81630257,
          10.81630257,
          11.1668611,
          11.1668611,
          11.1668611,
          10.35055853,
          10.91636488,
          10.91636488,
          10.91636488,
          10.91636488,
          10.91636488,
          10.91636488,
          10.91636488,
          10.91636488,
          10.91636488,
          10.91636488,
          10.91636488,
          10.91636488,
          10.91636488,
          10.91636488,
          10.91636488,
          10.91636488,
          10.91636488,
          10.91636488,
          10.91636488,
          10.91636488,
          10.91636488,
          10.91636488,
          10.91636488,
          10.91636488,
          10.91636488,
          10.91636488,
          10.91636488,
          10.91636488,
          10.91636488,
          10.91636488,
          10.91636488,
          10.91636488,
          10.91636488,
          10.91636488,
          10.91636488,
          10.91636488,
          10.91636488,
          10.91636488,
          10.91636488,
          10.91636488,
          10.91636488,
          10.91636488,
          10.91636488,
          10.91636488,
          10.91636488,
          10.56580635,
          10,
          10.80845784,
          10.80845784,
          10.80845784,
          10.80845784,
          10.80845784,
          10.80845784,
          10.80845784,
          10.80845784,
          10.80845784,
          10.80845784,
          11.15030193,
          11.15030193,
          11.15030193,
          11.15030193,
          11.15030193,
          11.15030193,
          10.80845784,
          10.80845784,
          10,
          10,
          10,
          10,
          10,
          10,
          10,
          10.68566885,
          10.68566885,
          10.68566885,
          10.68566885,
          11.05436949,
          11.05436949,
          11.05436949,
          11.05436949,
          10.36870064,
          10,
          10,
          10,
          10.34346691,
          10.34346691,
          11.14537396,
          11.14537396,
          11.14537396,
          11.14537396,
          11.14537396,
          11.14537396,
          11.14537396,
          11.14537396,
          11.14537396,
          11.14537396,
          11.14537396,
          11.14537396,
          11.14537396,
          11.14537396,
          11.14537396,
          11.14537396,
          11.14537396,
          11.14537396,
          11.14537396,
          11.14537396,
          11.14537396,
          11.14537396,
          11.14537396,
          10.80190705,
          10.80190705,
          10.80190705,
          10.80190705,
          10,
          10,
          10,
          10,
          10,
          10,
          10,
          10,
          10,
          10,
          10,
          10.56999585,
          10.56999585,
          10.56999585,
          10.56999585,
          10.56999585,
          10.56999585,
          10.56999585,
          10.56999585,
          10.80110572,
          11.07871685,
          11.07871685,
          10.508721,
          10.508721,
          10.508721,
          10.508721,
          10.508721,
          10.95199035,
          10.95199035,
          10.95199035,
          10.95199035,
          10.95199035,
          10.95199035,
          10.95199035,
          10.95199035,
          10.95199035,
          10.95199035,
          10.95199035,
          10.95199035,
          10.508721,
          10.508721,
          10.508721,
          10.508721,
          10.508721,
          10.508721,
          10.508721,
          10.508721,
          10.508721,
          10.508721,
          10.508721,
          10.23110987,
          10.23110987,
          10.23110987,
          10,
          10,
          10,
          10,
          10.34915722,
          10.34915722,
          10.34915722,
          10.34915722,
          10.34915722,
          10.34915722,
          10.34915722,
          10.34915722,
          10.34915722
         ],
         "yaxis": "y3"
        },
        {
         "mode": "lines",
         "name": "bitstamp:/BTC:/worth",
         "type": "scatter",
         "uid": "b6883f74-9449-4936-99a3-4edb4de7dfbc",
         "xaxis": "x3",
         "y": [
          87409.9,
          87390,
          87284.9,
          87083.2,
          87959,
          87600,
          87600,
          89586.1247215111,
          87116.56225137891,
          85203,
          85352.29999999999,
          85463.4,
          85266.5,
          85556,
          85121,
          84922.8,
          91505.9197422,
          91668.05611772429,
          94426.08411271201,
          92978.412239708,
          90824.88307657301,
          84510.1367801587,
          89834.9148161744,
          89736.885859552,
          89937.746973344,
          89874.32289339119,
          89595.8464253024,
          89988.50807003601,
          91382.30953791439,
          91402.72314023999,
          91316.2655303904,
          89295.7555547512,
          89787.101138,
          90450.816122704,
          90315.453198192,
          90577.445955312,
          90386.3004062632,
          90089.7027724736,
          90629.6261794384,
          90560.525589748,
          90357.48120298,
          91114.4219437592,
          91242.25257650399,
          91425.647506488,
          91354.90946206561,
          91334.16836879359,
          90767.06321327761,
          91301.200946856,
          91087.8951771008,
          90031.62771131199,
          90359.118657712,
          90514.8951845496,
          90691.95862290318,
          90593.82050263199,
          90272.5518842136,
          90616.5265415824,
          90807.6720906312,
          90675.58407558319,
          90348.5297837784,
          90143.9571059272,
          89143.03561008,
          89255.8016592904,
          89521.833471416,
          89027.4313060008,
          88204.2282304,
          88062.64297790639,
          86873.3050242304,
          84254.3812864875,
          79985,
          86381.08697270161,
          86713.01471296801,
          86932.10215338481,
          86096.60836235281,
          87429.075044868,
          87788.3481834696,
          87634.8680821416,
          87956.3116183032,
          87710.6353716,
          87624.16770888,
          90255.003942192,
          90094.5510974193,
          90508.00429298369,
          90618.39228209069,
          90439.54143913349,
          91604.07897270269,
          88968.95603333281,
          89063.0977011192,
          82350,
          82199,
          82488.70000000001,
          82135,
          82009.9,
          82000,
          82373,
          87923.0724347505,
          88058.78042914551,
          87781.701035865,
          87302.6625013195,
          90976.0238346663,
          90710.71896690631,
          91226.84747839438,
          92469.80078384999,
          86564.652598136,
          83039.9,
          83104.79999999999,
          83100,
          85745.9960332017,
          85902.3892528809,
          92521.65012284601,
          92652.83117435522,
          91838.6616065772,
          91391.9550182604,
          91692.7686614408,
          91739.80213955202,
          91379.6951069044,
          91568.720649266,
          92283.5849350604,
          92005.95366971681,
          92176.700798784,
          91885.1378159904,
          91828.07350131522,
          92140.3668796744,
          92308.99638768921,
          93070.78269785522,
          92914.52455493601,
          92917.9796208636,
          92631.5435100916,
          92641.3514391764,
          93010.26331725241,
          93367.02673771202,
          94525.14254589561,
          91992.92912433801,
          92075.4556942,
          92000.27442113201,
          92448.121487425,
          85219.9,
          84849.3,
          85184.79999999999,
          84889.9,
          84667.2,
          84925.5,
          84942.8,
          85109.5,
          84986.4,
          85511,
          85242.2,
          89951.8273830435,
          89587.26822617701,
          89597.415422193,
          89497.52896141048,
          89843.273525664,
          89743.704164757,
          88862.9064105765,
          88887.534500907,
          90739.65710949119,
          92874.43437390898,
          92507.28569749999,
          87989.62602021,
          88407.76802879998,
          88121.61555597,
          88362.89579013,
          88186.66453896,
          91639.24597497602,
          90685.108575684,
          90878.6302451685,
          91273.77805699651,
          90740.41612695152,
          90682.480098,
          91087.92278075701,
          91122.312030456,
          90856.616744565,
          90304.3078712145,
          90517.981202943,
          89806.32087000001,
          85856.25056999999,
          86350.16045699999,
          86503.90304522999,
          86516.19824879999,
          86438.22353897999,
          86171.61728721,
          86381.47644557999,
          86045.19737358,
          85124.00289071999,
          84878.83442978999,
          83699.12541032999,
          81685.99969086959,
          81330.6732450845,
          80832.0089500207,
          78955,
          79600,
          79000,
          79219.9,
          82204.0802394654,
          81306.8083084914,
          81223.290609726,
          81268.6199183496,
          81210.871621062,
          81233.74325851821,
          81880.7725679126,
          81768.7946867922,
          81623.80299414
         ],
         "yaxis": "y3"
        },
        {
         "mode": "lines",
         "name": "net_worth",
         "type": "scatter",
         "uid": "82d0ed48-8a54-46b0-acbb-695cef904895",
         "xaxis": "x3",
         "y": [
          97409.9,
          97390,
          97284.9,
          97083.2,
          97959,
          97600,
          97600,
          97586.1247215111,
          95116.56225137891,
          95136.05,
          95285.34999999999,
          95396.45,
          95199.55,
          95489.05,
          95054.05,
          94855.85,
          94485.8397422,
          94647.97611772429,
          94426.08411271201,
          92978.412239708,
          90824.88307657301,
          91129.5567801587,
          91820.7448161744,
          91722.715859552,
          91923.576973344,
          91860.15289339119,
          91581.6764253024,
          91974.33807003601,
          93368.1395379144,
          93388.55314024,
          93302.0955303904,
          91281.5855547512,
          91772.931138,
          92436.646122704,
          92301.283198192,
          92563.275955312,
          92372.1304062632,
          92075.5327724736,
          92615.4561794384,
          92546.355589748,
          92343.31120298,
          93100.2519437592,
          93228.08257650399,
          93411.47750648801,
          93340.73946206561,
          93319.99836879359,
          92752.89321327761,
          93287.030946856,
          93073.7251771008,
          92017.45771131199,
          92344.948657712,
          92500.7251845496,
          92677.78862290319,
          92579.650502632,
          92258.3818842136,
          92602.3565415824,
          92793.5020906312,
          92661.41407558319,
          92334.3597837784,
          92129.7871059272,
          91128.86561008,
          91241.6316592904,
          91507.663471416,
          91013.2613060008,
          90190.0582304,
          90048.4729779064,
          88859.1350242304,
          89021.6112864875,
          89250.58,
          89160.75697270161,
          89492.68471296801,
          89711.77215338481,
          88876.27836235281,
          90208.745044868,
          90568.0181834696,
          90414.5380821416,
          90735.9816183032,
          90490.3053716,
          90403.83770888,
          90255.003942192,
          90094.5510974193,
          90508.00429298369,
          90618.39228209069,
          90439.54143913349,
          91604.07897270269,
          91768.91603333282,
          91863.0577011192,
          91791.77,
          91640.77,
          91930.47000000002,
          91576.77,
          91451.67,
          91441.77,
          91814.77,
          91699.78243475051,
          91835.49042914552,
          91558.411035865,
          91079.3725013195,
          91731.36383466629,
          91466.0589669063,
          91982.18747839438,
          93225.14078384999,
          93038.402598136,
          92582.56999999999,
          92647.46999999999,
          92642.67,
          92425.8660332017,
          92582.25925288089,
          92521.65012284601,
          92652.83117435522,
          91838.6616065772,
          91391.9550182604,
          91692.7686614408,
          91739.80213955202,
          91379.6951069044,
          91568.720649266,
          92283.5849350604,
          92005.95366971681,
          92176.700798784,
          91885.1378159904,
          91828.07350131522,
          92140.3668796744,
          92308.99638768921,
          93070.78269785522,
          92914.52455493601,
          92917.9796208636,
          92631.5435100916,
          92641.3514391764,
          93010.26331725241,
          93367.02673771202,
          94525.14254589561,
          94897.16912433802,
          94979.69569420001,
          94904.51442113201,
          95352.361487425,
          94966.67,
          94596.07,
          94931.56999999999,
          94636.67,
          94413.97,
          94672.27,
          94689.57,
          94856.27,
          94733.17,
          95257.77,
          94988.97,
          94825.20738304351,
          94460.64822617701,
          94470.795422193,
          94370.90896141049,
          94716.653525664,
          94617.084164757,
          93736.2864105765,
          93760.914500907,
          93663.68710949119,
          93459.24437390898,
          93092.09569749999,
          93319.62602021,
          93737.76802879998,
          93451.61555597,
          93692.89579013,
          93516.66453896,
          93238.24597497602,
          92284.108575684,
          92477.6302451685,
          92872.77805699651,
          92339.41612695152,
          92281.480098,
          92686.92278075701,
          92721.312030456,
          92455.616744565,
          91903.3078712145,
          92116.981202943,
          91405.32087000001,
          91079.15056999998,
          91573.06045699999,
          91726.80304522999,
          91739.09824879999,
          91661.12353897998,
          91394.51728721,
          91604.37644557998,
          91268.09737357999,
          90346.90289071998,
          90101.73442978998,
          88922.02541032998,
          89113.35969086959,
          88758.0332450845,
          88259.3689500207,
          88202.79000000001,
          88847.79000000001,
          88247.79000000001,
          88467.69,
          88677.5302394654,
          87780.2583084914,
          87696.740609726,
          87742.0699183496,
          87684.321621062,
          87707.19325851821,
          88354.2225679126,
          88242.2446867922,
          88097.25299414
         ],
         "yaxis": "y3"
        },
        {
         "marker": {
          "color": "DarkGreen"
         },
         "mode": "lines",
         "name": "Net Worth",
         "type": "scatter",
         "uid": "0daae425-e5cd-4506-8381-4ac9b1ccd21d",
         "xaxis": "x4",
         "y": [
          97409.9,
          97390,
          97284.9,
          97083.2,
          97959,
          97600,
          97600,
          97586.1247215111,
          95116.56225137891,
          95136.05,
          95285.34999999999,
          95396.45,
          95199.55,
          95489.05,
          95054.05,
          94855.85,
          94485.8397422,
          94647.97611772429,
          94426.08411271201,
          92978.412239708,
          90824.88307657301,
          91129.5567801587,
          91820.7448161744,
          91722.715859552,
          91923.576973344,
          91860.15289339119,
          91581.6764253024,
          91974.33807003601,
          93368.1395379144,
          93388.55314024,
          93302.0955303904,
          91281.5855547512,
          91772.931138,
          92436.646122704,
          92301.283198192,
          92563.275955312,
          92372.1304062632,
          92075.5327724736,
          92615.4561794384,
          92546.355589748,
          92343.31120298,
          93100.2519437592,
          93228.08257650399,
          93411.47750648801,
          93340.73946206561,
          93319.99836879359,
          92752.89321327761,
          93287.030946856,
          93073.7251771008,
          92017.45771131199,
          92344.948657712,
          92500.7251845496,
          92677.78862290319,
          92579.650502632,
          92258.3818842136,
          92602.3565415824,
          92793.5020906312,
          92661.41407558319,
          92334.3597837784,
          92129.7871059272,
          91128.86561008,
          91241.6316592904,
          91507.663471416,
          91013.2613060008,
          90190.0582304,
          90048.4729779064,
          88859.1350242304,
          89021.6112864875,
          89250.58,
          89160.75697270161,
          89492.68471296801,
          89711.77215338481,
          88876.27836235281,
          90208.745044868,
          90568.0181834696,
          90414.5380821416,
          90735.9816183032,
          90490.3053716,
          90403.83770888,
          90255.003942192,
          90094.5510974193,
          90508.00429298369,
          90618.39228209069,
          90439.54143913349,
          91604.07897270269,
          91768.91603333282,
          91863.0577011192,
          91791.77,
          91640.77,
          91930.47000000002,
          91576.77,
          91451.67,
          91441.77,
          91814.77,
          91699.78243475051,
          91835.49042914552,
          91558.411035865,
          91079.3725013195,
          91731.36383466629,
          91466.0589669063,
          91982.18747839438,
          93225.14078384999,
          93038.402598136,
          92582.56999999999,
          92647.46999999999,
          92642.67,
          92425.8660332017,
          92582.25925288089,
          92521.65012284601,
          92652.83117435522,
          91838.6616065772,
          91391.9550182604,
          91692.7686614408,
          91739.80213955202,
          91379.6951069044,
          91568.720649266,
          92283.5849350604,
          92005.95366971681,
          92176.700798784,
          91885.1378159904,
          91828.07350131522,
          92140.3668796744,
          92308.99638768921,
          93070.78269785522,
          92914.52455493601,
          92917.9796208636,
          92631.5435100916,
          92641.3514391764,
          93010.26331725241,
          93367.02673771202,
          94525.14254589561,
          94897.16912433802,
          94979.69569420001,
          94904.51442113201,
          95352.361487425,
          94966.67,
          94596.07,
          94931.56999999999,
          94636.67,
          94413.97,
          94672.27,
          94689.57,
          94856.27,
          94733.17,
          95257.77,
          94988.97,
          94825.20738304351,
          94460.64822617701,
          94470.795422193,
          94370.90896141049,
          94716.653525664,
          94617.084164757,
          93736.2864105765,
          93760.914500907,
          93663.68710949119,
          93459.24437390898,
          93092.09569749999,
          93319.62602021,
          93737.76802879998,
          93451.61555597,
          93692.89579013,
          93516.66453896,
          93238.24597497602,
          92284.108575684,
          92477.6302451685,
          92872.77805699651,
          92339.41612695152,
          92281.480098,
          92686.92278075701,
          92721.312030456,
          92455.616744565,
          91903.3078712145,
          92116.981202943,
          91405.32087000001,
          91079.15056999998,
          91573.06045699999,
          91726.80304522999,
          91739.09824879999,
          91661.12353897998,
          91394.51728721,
          91604.37644557998,
          91268.09737357999,
          90346.90289071998,
          90101.73442978998,
          88922.02541032998,
          89113.35969086959,
          88758.0332450845,
          88259.3689500207,
          88202.79000000001,
          88847.79000000001,
          88247.79000000001,
          88467.69,
          88677.5302394654,
          87780.2583084914,
          87696.740609726,
          87742.0699183496,
          87684.321621062,
          87707.19325851821,
          88354.2225679126,
          88242.2446867922,
          88097.25299414
         ],
         "yaxis": "y4"
        }
       ],
       "layout": {
        "annotations": [
         {
          "arrowcolor": "DarkGreen",
          "arrowhead": 2,
          "arrowsize": 0.8,
          "arrowwidth": 4,
          "ax": 0,
          "ay": 15,
          "hoverlabel": {
           "bgcolor": "DarkGreen"
          },
          "hovertext": "Step 22 [2018-05-16 03:00:00]<br>BUY 0.56580635 BTC @ 8164.79 USD MARKET<br>Total: 4619.69 USD - Comm.: 13.90 USD",
          "opacity": 0.6,
          "showarrow": true,
          "x": 21,
          "xref": "x",
          "y": 8164.79,
          "yref": "y"
         },
         {
          "arrowcolor": "FireBrick",
          "arrowhead": 2,
          "arrowsize": 0.8,
          "arrowwidth": 4,
          "ax": 0,
          "ay": -15,
          "hoverlabel": {
           "bgcolor": "FireBrick"
          },
          "hovertext": "Step 21 [2018-05-16 02:00:00]<br>SELL 0.81385366 BTC @ 8133.43 USD MARKET<br>Total: 6619.42 USD - Comm.: 0.00244891 BTC",
          "opacity": 0.6,
          "showarrow": true,
          "x": 20,
          "xref": "x",
          "y": 8133.43,
          "yref": "y"
         },
         {
          "arrowcolor": "DarkGreen",
          "arrowhead": 2,
          "arrowsize": 0.8,
          "arrowwidth": 4,
          "ax": 0,
          "ay": 15,
          "hoverlabel": {
           "bgcolor": "DarkGreen"
          },
          "hovertext": "Step 18 [2018-05-15 23:00:00]<br>BUY 0.35055853 BTC @ 8474.99 USD MARKET<br>Total: 2970.98 USD - Comm.: 8.94 USD",
          "opacity": 0.6,
          "showarrow": true,
          "x": 17,
          "xref": "x",
          "y": 8474.99,
          "yref": "y"
         },
         {
          "arrowcolor": "DarkGreen",
          "arrowhead": 2,
          "arrowsize": 0.8,
          "arrowwidth": 4,
          "ax": 0,
          "ay": 15,
          "hoverlabel": {
           "bgcolor": "DarkGreen"
          },
          "hovertext": "Step 16 [2018-05-15 21:00:00]<br>BUY 0.81630257 BTC @ 8492.28 USD MARKET<br>Total: 6932.27 USD - Comm.: 20.86 USD",
          "opacity": 0.6,
          "showarrow": true,
          "x": 15,
          "xref": "x",
          "y": 8492.28,
          "yref": "y"
         },
         {
          "arrowcolor": "FireBrick",
          "arrowhead": 2,
          "arrowsize": 0.8,
          "arrowwidth": 4,
          "ax": 0,
          "ay": -15,
          "hoverlabel": {
           "bgcolor": "FireBrick"
          },
          "hovertext": "Step 9 [2018-05-15 14:00:00]<br>SELL 0.22694269 BTC @ 8517.77 USD MARKET<br>Total: 1933.05 USD - Comm.: 0.00068288 BTC",
          "opacity": 0.6,
          "showarrow": true,
          "x": 8,
          "xref": "x",
          "y": 8517.77,
          "yref": "y"
         },
         {
          "arrowcolor": "DarkGreen",
          "arrowhead": 2,
          "arrowsize": 0.8,
          "arrowwidth": 4,
          "ax": 0,
          "ay": 15,
          "hoverlabel": {
           "bgcolor": "DarkGreen"
          },
          "hovertext": "Step 7 [2018-05-15 12:00:00]<br>BUY 0.22762557 BTC @ 8760.0 USD MARKET<br>Total: 1994.0 USD - Comm.: 6.00 USD",
          "opacity": 0.6,
          "showarrow": true,
          "x": 6,
          "xref": "x",
          "y": 8760,
          "yref": "y"
         },
         {
          "arrowcolor": "DarkGreen",
          "arrowhead": 2,
          "arrowsize": 0.8,
          "arrowwidth": 4,
          "ax": 0,
          "ay": 15,
          "hoverlabel": {
           "bgcolor": "DarkGreen"
          },
          "hovertext": "Step 98 [2018-05-19 07:00:00]<br>BUY 0.36870064 BTC @ 8170.07 USD MARKET<br>Total: 3012.31 USD - Comm.: 9.06 USD",
          "opacity": 0.6,
          "showarrow": true,
          "x": 97,
          "xref": "x",
          "y": 8170.07,
          "yref": "y"
         },
         {
          "arrowcolor": "DarkGreen",
          "arrowhead": 2,
          "arrowsize": 0.8,
          "arrowwidth": 4,
          "ax": 0,
          "ay": 15,
          "hoverlabel": {
           "bgcolor": "DarkGreen"
          },
          "hovertext": "Step 94 [2018-05-19 03:00:00]<br>BUY 0.68566885 BTC @ 8237.3 USD MARKET<br>Total: 5648.06 USD - Comm.: 17.00 USD",
          "opacity": 0.6,
          "showarrow": true,
          "x": 93,
          "xref": "x",
          "y": 8237.3,
          "yref": "y"
         },
         {
          "arrowcolor": "FireBrick",
          "arrowhead": 2,
          "arrowsize": 0.8,
          "arrowwidth": 4,
          "ax": 0,
          "ay": -15,
          "hoverlabel": {
           "bgcolor": "FireBrick"
          },
          "hovertext": "Step 87 [2018-05-18 20:00:00]<br>SELL 0.80603247 BTC @ 8240.13 USD MARKET<br>Total: 6641.81 USD - Comm.: 0.00242537 BTC",
          "opacity": 0.6,
          "showarrow": true,
          "x": 86,
          "xref": "x",
          "y": 8240.13,
          "yref": "y"
         },
         {
          "arrowcolor": "FireBrick",
          "arrowhead": 2,
          "arrowsize": 0.8,
          "arrowwidth": 4,
          "ax": 0,
          "ay": -15,
          "hoverlabel": {
           "bgcolor": "FireBrick"
          },
          "hovertext": "Step 85 [2018-05-18 18:00:00]<br>SELL 0.34081856 BTC @ 8215.39 USD MARKET<br>Total: 2799.96 USD - Comm.: 0.00102553 BTC",
          "opacity": 0.6,
          "showarrow": true,
          "x": 84,
          "xref": "x",
          "y": 8215.39,
          "yref": "y"
         },
         {
          "arrowcolor": "DarkGreen",
          "arrowhead": 2,
          "arrowsize": 0.8,
          "arrowwidth": 4,
          "ax": 0,
          "ay": 15,
          "hoverlabel": {
           "bgcolor": "DarkGreen"
          },
          "hovertext": "Step 79 [2018-05-18 12:00:00]<br>BUY 0.34184409 BTC @ 8107.0 USD MARKET<br>Total: 2771.33 USD - Comm.: 8.34 USD",
          "opacity": 0.6,
          "showarrow": true,
          "x": 78,
          "xref": "x",
          "y": 8107,
          "yref": "y"
         },
         {
          "arrowcolor": "DarkGreen",
          "arrowhead": 2,
          "arrowsize": 0.8,
          "arrowwidth": 4,
          "ax": 0,
          "ay": 15,
          "hoverlabel": {
           "bgcolor": "DarkGreen"
          },
          "hovertext": "Step 69 [2018-05-18 02:00:00]<br>BUY 0.80845784 BTC @ 7998.5 USD MARKET<br>Total: 6466.45 USD - Comm.: 19.46 USD",
          "opacity": 0.6,
          "showarrow": true,
          "x": 68,
          "xref": "x",
          "y": 7998.5,
          "yref": "y"
         },
         {
          "arrowcolor": "FireBrick",
          "arrowhead": 2,
          "arrowsize": 0.8,
          "arrowwidth": 4,
          "ax": 0,
          "ay": -15,
          "hoverlabel": {
           "bgcolor": "FireBrick"
          },
          "hovertext": "Step 68 [2018-05-18 01:00:00]<br>SELL 0.56410893 BTC @ 7974.25 USD MARKET<br>Total: 4498.35 USD - Comm.: 0.00169742 BTC",
          "opacity": 0.6,
          "showarrow": true,
          "x": 67,
          "xref": "x",
          "y": 7974.25,
          "yref": "y"
         },
         {
          "arrowcolor": "FireBrick",
          "arrowhead": 2,
          "arrowsize": 0.8,
          "arrowwidth": 4,
          "ax": 0,
          "ay": -15,
          "hoverlabel": {
           "bgcolor": "FireBrick"
          },
          "hovertext": "Step 67 [2018-05-18 00:00:00]<br>SELL 0.34950685 BTC @ 7958.08 USD MARKET<br>Total: 2781.4 USD - Comm.: 0.00105168 BTC",
          "opacity": 0.6,
          "showarrow": true,
          "x": 66,
          "xref": "x",
          "y": 7958.08,
          "yref": "y"
         },
         {
          "arrowcolor": "DarkGreen",
          "arrowhead": 2,
          "arrowsize": 0.8,
          "arrowwidth": 4,
          "ax": 0,
          "ay": 15,
          "hoverlabel": {
           "bgcolor": "DarkGreen"
          },
          "hovertext": "Step 146 [2018-05-21 07:00:00]<br>BUY 0.56999585 BTC @ 8524.22 USD MARKET<br>Total: 4858.77 USD - Comm.: 14.62 USD",
          "opacity": 0.6,
          "showarrow": true,
          "x": 145,
          "xref": "x",
          "y": 8524.22,
          "yref": "y"
         },
         {
          "arrowcolor": "FireBrick",
          "arrowhead": 2,
          "arrowsize": 0.8,
          "arrowwidth": 4,
          "ax": 0,
          "ay": -15,
          "hoverlabel": {
           "bgcolor": "FireBrick"
          },
          "hovertext": "Step 135 [2018-05-20 20:00:00]<br>SELL 0.79950133 BTC @ 8558.5 USD MARKET<br>Total: 6842.53 USD - Comm.: 0.00240572 BTC",
          "opacity": 0.6,
          "showarrow": true,
          "x": 134,
          "xref": "x",
          "y": 8558.5,
          "yref": "y"
         },
         {
          "arrowcolor": "FireBrick",
          "arrowhead": 2,
          "arrowsize": 0.8,
          "arrowwidth": 4,
          "ax": 0,
          "ay": -15,
          "hoverlabel": {
           "bgcolor": "FireBrick"
          },
          "hovertext": "Step 131 [2018-05-20 16:00:00]<br>SELL 0.34243651 BTC @ 8481.11 USD MARKET<br>Total: 2904.24 USD - Comm.: 0.00103040 BTC",
          "opacity": 0.6,
          "showarrow": true,
          "x": 130,
          "xref": "x",
          "y": 8481.11,
          "yref": "y"
         },
         {
          "arrowcolor": "DarkGreen",
          "arrowhead": 2,
          "arrowsize": 0.8,
          "arrowwidth": 4,
          "ax": 0,
          "ay": 15,
          "hoverlabel": {
           "bgcolor": "DarkGreen"
          },
          "hovertext": "Step 108 [2018-05-19 17:00:00]<br>BUY 0.80190705 BTC @ 8304.99 USD MARKET<br>Total: 6659.83 USD - Comm.: 20.04 USD",
          "opacity": 0.6,
          "showarrow": true,
          "x": 107,
          "xref": "x",
          "y": 8304.99,
          "yref": "y"
         },
         {
          "arrowcolor": "DarkGreen",
          "arrowhead": 2,
          "arrowsize": 0.8,
          "arrowwidth": 4,
          "ax": 0,
          "ay": 15,
          "hoverlabel": {
           "bgcolor": "DarkGreen"
          },
          "hovertext": "Step 106 [2018-05-19 15:00:00]<br>BUY 0.34346691 BTC @ 8310.0 USD MARKET<br>Total: 2854.21 USD - Comm.: 8.59 USD",
          "opacity": 0.6,
          "showarrow": true,
          "x": 105,
          "xref": "x",
          "y": 8310,
          "yref": "y"
         },
         {
          "arrowcolor": "FireBrick",
          "arrowhead": 2,
          "arrowsize": 0.8,
          "arrowwidth": 4,
          "ax": 0,
          "ay": -15,
          "hoverlabel": {
           "bgcolor": "FireBrick"
          },
          "hovertext": "Step 103 [2018-05-19 12:00:00]<br>SELL 0.36759454 BTC @ 8348.65 USD MARKET<br>Total: 3068.92 USD - Comm.: 0.00110610 BTC",
          "opacity": 0.6,
          "showarrow": true,
          "x": 102,
          "xref": "x",
          "y": 8348.65,
          "yref": "y"
         },
         {
          "arrowcolor": "FireBrick",
          "arrowhead": 2,
          "arrowsize": 0.8,
          "arrowwidth": 4,
          "ax": 0,
          "ay": -15,
          "hoverlabel": {
           "bgcolor": "FireBrick"
          },
          "hovertext": "Step 102 [2018-05-19 11:00:00]<br>SELL 0.68361184 BTC @ 8365.0 USD MARKET<br>Total: 5718.41 USD - Comm.: 0.00205701 BTC",
          "opacity": 0.6,
          "showarrow": true,
          "x": 101,
          "xref": "x",
          "y": 8365,
          "yref": "y"
         },
         {
          "arrowcolor": "DarkGreen",
          "arrowhead": 2,
          "arrowsize": 0.8,
          "arrowwidth": 4,
          "ax": 0,
          "ay": 15,
          "hoverlabel": {
           "bgcolor": "DarkGreen"
          },
          "hovertext": "Step 192 [2018-05-23 05:00:00]<br>BUY 0.34915722 BTC @ 7921.99 USD MARKET<br>Total: 2766.02 USD - Comm.: 8.32 USD",
          "opacity": 0.6,
          "showarrow": true,
          "x": 191,
          "xref": "x",
          "y": 7921.99,
          "yref": "y"
         },
         {
          "arrowcolor": "FireBrick",
          "arrowhead": 2,
          "arrowsize": 0.8,
          "arrowwidth": 4,
          "ax": 0,
          "ay": -15,
          "hoverlabel": {
           "bgcolor": "FireBrick"
          },
          "hovertext": "Step 188 [2018-05-23 01:00:00]<br>SELL 0.23041654 BTC @ 7900.61 USD MARKET<br>Total: 1820.43 USD - Comm.: 0.00069333 BTC",
          "opacity": 0.6,
          "showarrow": true,
          "x": 187,
          "xref": "x",
          "y": 7900.61,
          "yref": "y"
         },
         {
          "arrowcolor": "FireBrick",
          "arrowhead": 2,
          "arrowsize": 0.8,
          "arrowwidth": 4,
          "ax": 0,
          "ay": -15,
          "hoverlabel": {
           "bgcolor": "FireBrick"
          },
          "hovertext": "Step 185 [2018-05-22 22:00:00]<br>SELL 0.2767783 BTC @ 7964.73 USD MARKET<br>Total: 2204.46 USD - Comm.: 0.00083283 BTC",
          "opacity": 0.6,
          "showarrow": true,
          "x": 184,
          "xref": "x",
          "y": 7964.73,
          "yref": "y"
         },
         {
          "arrowcolor": "FireBrick",
          "arrowhead": 2,
          "arrowsize": 0.8,
          "arrowwidth": 4,
          "ax": 0,
          "ay": -15,
          "hoverlabel": {
           "bgcolor": "FireBrick"
          },
          "hovertext": "Step 174 [2018-05-22 11:00:00]<br>SELL 0.44193954 BTC @ 8200.0 USD MARKET<br>Total: 3623.9 USD - Comm.: 0.00132981 BTC",
          "opacity": 0.6,
          "showarrow": true,
          "x": 173,
          "xref": "x",
          "y": 8200,
          "yref": "y"
         },
         {
          "arrowcolor": "DarkGreen",
          "arrowhead": 2,
          "arrowsize": 0.8,
          "arrowwidth": 4,
          "ax": 0,
          "ay": 15,
          "hoverlabel": {
           "bgcolor": "DarkGreen"
          },
          "hovertext": "Step 162 [2018-05-21 23:00:00]<br>BUY 0.44326935 BTC @ 8391.76 USD MARKET<br>Total: 3719.81 USD - Comm.: 11.19 USD",
          "opacity": 0.6,
          "showarrow": true,
          "x": 161,
          "xref": "x",
          "y": 8391.76,
          "yref": "y"
         },
         {
          "arrowcolor": "FireBrick",
          "arrowhead": 2,
          "arrowsize": 0.8,
          "arrowwidth": 4,
          "ax": 0,
          "ay": -15,
          "hoverlabel": {
           "bgcolor": "FireBrick"
          },
          "hovertext": "Step 157 [2018-05-21 18:00:00]<br>SELL 0.56828586 BTC @ 8350.0 USD MARKET<br>Total: 4745.19 USD - Comm.: 0.00170999 BTC",
          "opacity": 0.6,
          "showarrow": true,
          "x": 156,
          "xref": "x",
          "y": 8350,
          "yref": "y"
         },
         {
          "arrowcolor": "DarkGreen",
          "arrowhead": 2,
          "arrowsize": 0.8,
          "arrowwidth": 4,
          "ax": 0,
          "ay": 15,
          "hoverlabel": {
           "bgcolor": "DarkGreen"
          },
          "hovertext": "Step 155 [2018-05-21 16:00:00]<br>BUY 0.27761113 BTC @ 8400.96 USD MARKET<br>Total: 2332.2 USD - Comm.: 7.02 USD",
          "opacity": 0.6,
          "showarrow": true,
          "x": 154,
          "xref": "x",
          "y": 8400.96,
          "yref": "y"
         },
         {
          "arrowcolor": "DarkGreen",
          "arrowhead": 2,
          "arrowsize": 0.8,
          "arrowwidth": 4,
          "ax": 0,
          "ay": 15,
          "hoverlabel": {
           "bgcolor": "DarkGreen"
          },
          "hovertext": "Step 154 [2018-05-21 15:00:00]<br>BUY 0.23110987 BTC @ 8409.42 USD MARKET<br>Total: 1943.5 USD - Comm.: 5.85 USD",
          "opacity": 0.6,
          "showarrow": true,
          "x": 153,
          "xref": "x",
          "y": 8409.42,
          "yref": "y"
         }
        ],
        "margin": {
         "t": 50
        },
        "template": {
         "data": {
          "bar": [
           {
            "error_x": {
             "color": "#2a3f5f"
            },
            "error_y": {
             "color": "#2a3f5f"
            },
            "marker": {
             "line": {
              "color": "white",
              "width": 0.5
             }
            },
            "type": "bar"
           }
          ],
          "barpolar": [
           {
            "marker": {
             "line": {
              "color": "white",
              "width": 0.5
             }
            },
            "type": "barpolar"
           }
          ],
          "carpet": [
           {
            "aaxis": {
             "endlinecolor": "#2a3f5f",
             "gridcolor": "#C8D4E3",
             "linecolor": "#C8D4E3",
             "minorgridcolor": "#C8D4E3",
             "startlinecolor": "#2a3f5f"
            },
            "baxis": {
             "endlinecolor": "#2a3f5f",
             "gridcolor": "#C8D4E3",
             "linecolor": "#C8D4E3",
             "minorgridcolor": "#C8D4E3",
             "startlinecolor": "#2a3f5f"
            },
            "type": "carpet"
           }
          ],
          "choropleth": [
           {
            "colorbar": {
             "outlinewidth": 0,
             "ticks": ""
            },
            "type": "choropleth"
           }
          ],
          "contour": [
           {
            "colorbar": {
             "outlinewidth": 0,
             "ticks": ""
            },
            "colorscale": [
             [
              0,
              "#0d0887"
             ],
             [
              0.1111111111111111,
              "#46039f"
             ],
             [
              0.2222222222222222,
              "#7201a8"
             ],
             [
              0.3333333333333333,
              "#9c179e"
             ],
             [
              0.4444444444444444,
              "#bd3786"
             ],
             [
              0.5555555555555556,
              "#d8576b"
             ],
             [
              0.6666666666666666,
              "#ed7953"
             ],
             [
              0.7777777777777778,
              "#fb9f3a"
             ],
             [
              0.8888888888888888,
              "#fdca26"
             ],
             [
              1,
              "#f0f921"
             ]
            ],
            "type": "contour"
           }
          ],
          "contourcarpet": [
           {
            "colorbar": {
             "outlinewidth": 0,
             "ticks": ""
            },
            "type": "contourcarpet"
           }
          ],
          "heatmap": [
           {
            "colorbar": {
             "outlinewidth": 0,
             "ticks": ""
            },
            "colorscale": [
             [
              0,
              "#0d0887"
             ],
             [
              0.1111111111111111,
              "#46039f"
             ],
             [
              0.2222222222222222,
              "#7201a8"
             ],
             [
              0.3333333333333333,
              "#9c179e"
             ],
             [
              0.4444444444444444,
              "#bd3786"
             ],
             [
              0.5555555555555556,
              "#d8576b"
             ],
             [
              0.6666666666666666,
              "#ed7953"
             ],
             [
              0.7777777777777778,
              "#fb9f3a"
             ],
             [
              0.8888888888888888,
              "#fdca26"
             ],
             [
              1,
              "#f0f921"
             ]
            ],
            "type": "heatmap"
           }
          ],
          "heatmapgl": [
           {
            "colorbar": {
             "outlinewidth": 0,
             "ticks": ""
            },
            "colorscale": [
             [
              0,
              "#0d0887"
             ],
             [
              0.1111111111111111,
              "#46039f"
             ],
             [
              0.2222222222222222,
              "#7201a8"
             ],
             [
              0.3333333333333333,
              "#9c179e"
             ],
             [
              0.4444444444444444,
              "#bd3786"
             ],
             [
              0.5555555555555556,
              "#d8576b"
             ],
             [
              0.6666666666666666,
              "#ed7953"
             ],
             [
              0.7777777777777778,
              "#fb9f3a"
             ],
             [
              0.8888888888888888,
              "#fdca26"
             ],
             [
              1,
              "#f0f921"
             ]
            ],
            "type": "heatmapgl"
           }
          ],
          "histogram": [
           {
            "marker": {
             "colorbar": {
              "outlinewidth": 0,
              "ticks": ""
             }
            },
            "type": "histogram"
           }
          ],
          "histogram2d": [
           {
            "colorbar": {
             "outlinewidth": 0,
             "ticks": ""
            },
            "colorscale": [
             [
              0,
              "#0d0887"
             ],
             [
              0.1111111111111111,
              "#46039f"
             ],
             [
              0.2222222222222222,
              "#7201a8"
             ],
             [
              0.3333333333333333,
              "#9c179e"
             ],
             [
              0.4444444444444444,
              "#bd3786"
             ],
             [
              0.5555555555555556,
              "#d8576b"
             ],
             [
              0.6666666666666666,
              "#ed7953"
             ],
             [
              0.7777777777777778,
              "#fb9f3a"
             ],
             [
              0.8888888888888888,
              "#fdca26"
             ],
             [
              1,
              "#f0f921"
             ]
            ],
            "type": "histogram2d"
           }
          ],
          "histogram2dcontour": [
           {
            "colorbar": {
             "outlinewidth": 0,
             "ticks": ""
            },
            "colorscale": [
             [
              0,
              "#0d0887"
             ],
             [
              0.1111111111111111,
              "#46039f"
             ],
             [
              0.2222222222222222,
              "#7201a8"
             ],
             [
              0.3333333333333333,
              "#9c179e"
             ],
             [
              0.4444444444444444,
              "#bd3786"
             ],
             [
              0.5555555555555556,
              "#d8576b"
             ],
             [
              0.6666666666666666,
              "#ed7953"
             ],
             [
              0.7777777777777778,
              "#fb9f3a"
             ],
             [
              0.8888888888888888,
              "#fdca26"
             ],
             [
              1,
              "#f0f921"
             ]
            ],
            "type": "histogram2dcontour"
           }
          ],
          "mesh3d": [
           {
            "colorbar": {
             "outlinewidth": 0,
             "ticks": ""
            },
            "type": "mesh3d"
           }
          ],
          "parcoords": [
           {
            "line": {
             "colorbar": {
              "outlinewidth": 0,
              "ticks": ""
             }
            },
            "type": "parcoords"
           }
          ],
          "pie": [
           {
            "automargin": true,
            "type": "pie"
           }
          ],
          "scatter": [
           {
            "marker": {
             "colorbar": {
              "outlinewidth": 0,
              "ticks": ""
             }
            },
            "type": "scatter"
           }
          ],
          "scatter3d": [
           {
            "line": {
             "colorbar": {
              "outlinewidth": 0,
              "ticks": ""
             }
            },
            "marker": {
             "colorbar": {
              "outlinewidth": 0,
              "ticks": ""
             }
            },
            "type": "scatter3d"
           }
          ],
          "scattercarpet": [
           {
            "marker": {
             "colorbar": {
              "outlinewidth": 0,
              "ticks": ""
             }
            },
            "type": "scattercarpet"
           }
          ],
          "scattergeo": [
           {
            "marker": {
             "colorbar": {
              "outlinewidth": 0,
              "ticks": ""
             }
            },
            "type": "scattergeo"
           }
          ],
          "scattergl": [
           {
            "marker": {
             "colorbar": {
              "outlinewidth": 0,
              "ticks": ""
             }
            },
            "type": "scattergl"
           }
          ],
          "scattermapbox": [
           {
            "marker": {
             "colorbar": {
              "outlinewidth": 0,
              "ticks": ""
             }
            },
            "type": "scattermapbox"
           }
          ],
          "scatterpolar": [
           {
            "marker": {
             "colorbar": {
              "outlinewidth": 0,
              "ticks": ""
             }
            },
            "type": "scatterpolar"
           }
          ],
          "scatterpolargl": [
           {
            "marker": {
             "colorbar": {
              "outlinewidth": 0,
              "ticks": ""
             }
            },
            "type": "scatterpolargl"
           }
          ],
          "scatterternary": [
           {
            "marker": {
             "colorbar": {
              "outlinewidth": 0,
              "ticks": ""
             }
            },
            "type": "scatterternary"
           }
          ],
          "surface": [
           {
            "colorbar": {
             "outlinewidth": 0,
             "ticks": ""
            },
            "colorscale": [
             [
              0,
              "#0d0887"
             ],
             [
              0.1111111111111111,
              "#46039f"
             ],
             [
              0.2222222222222222,
              "#7201a8"
             ],
             [
              0.3333333333333333,
              "#9c179e"
             ],
             [
              0.4444444444444444,
              "#bd3786"
             ],
             [
              0.5555555555555556,
              "#d8576b"
             ],
             [
              0.6666666666666666,
              "#ed7953"
             ],
             [
              0.7777777777777778,
              "#fb9f3a"
             ],
             [
              0.8888888888888888,
              "#fdca26"
             ],
             [
              1,
              "#f0f921"
             ]
            ],
            "type": "surface"
           }
          ],
          "table": [
           {
            "cells": {
             "fill": {
              "color": "#EBF0F8"
             },
             "line": {
              "color": "white"
             }
            },
            "header": {
             "fill": {
              "color": "#C8D4E3"
             },
             "line": {
              "color": "white"
             }
            },
            "type": "table"
           }
          ]
         },
         "layout": {
          "annotationdefaults": {
           "arrowcolor": "#2a3f5f",
           "arrowhead": 0,
           "arrowwidth": 1
          },
          "autotypenumbers": "strict",
          "coloraxis": {
           "colorbar": {
            "outlinewidth": 0,
            "ticks": ""
           }
          },
          "colorscale": {
           "diverging": [
            [
             0,
             "#8e0152"
            ],
            [
             0.1,
             "#c51b7d"
            ],
            [
             0.2,
             "#de77ae"
            ],
            [
             0.3,
             "#f1b6da"
            ],
            [
             0.4,
             "#fde0ef"
            ],
            [
             0.5,
             "#f7f7f7"
            ],
            [
             0.6,
             "#e6f5d0"
            ],
            [
             0.7,
             "#b8e186"
            ],
            [
             0.8,
             "#7fbc41"
            ],
            [
             0.9,
             "#4d9221"
            ],
            [
             1,
             "#276419"
            ]
           ],
           "sequential": [
            [
             0,
             "#0d0887"
            ],
            [
             0.1111111111111111,
             "#46039f"
            ],
            [
             0.2222222222222222,
             "#7201a8"
            ],
            [
             0.3333333333333333,
             "#9c179e"
            ],
            [
             0.4444444444444444,
             "#bd3786"
            ],
            [
             0.5555555555555556,
             "#d8576b"
            ],
            [
             0.6666666666666666,
             "#ed7953"
            ],
            [
             0.7777777777777778,
             "#fb9f3a"
            ],
            [
             0.8888888888888888,
             "#fdca26"
            ],
            [
             1,
             "#f0f921"
            ]
           ],
           "sequentialminus": [
            [
             0,
             "#0d0887"
            ],
            [
             0.1111111111111111,
             "#46039f"
            ],
            [
             0.2222222222222222,
             "#7201a8"
            ],
            [
             0.3333333333333333,
             "#9c179e"
            ],
            [
             0.4444444444444444,
             "#bd3786"
            ],
            [
             0.5555555555555556,
             "#d8576b"
            ],
            [
             0.6666666666666666,
             "#ed7953"
            ],
            [
             0.7777777777777778,
             "#fb9f3a"
            ],
            [
             0.8888888888888888,
             "#fdca26"
            ],
            [
             1,
             "#f0f921"
            ]
           ]
          },
          "colorway": [
           "#636efa",
           "#EF553B",
           "#00cc96",
           "#ab63fa",
           "#FFA15A",
           "#19d3f3",
           "#FF6692",
           "#B6E880",
           "#FF97FF",
           "#FECB52"
          ],
          "font": {
           "color": "#2a3f5f"
          },
          "geo": {
           "bgcolor": "white",
           "lakecolor": "white",
           "landcolor": "white",
           "showlakes": true,
           "showland": true,
           "subunitcolor": "#C8D4E3"
          },
          "hoverlabel": {
           "align": "left"
          },
          "hovermode": "closest",
          "mapbox": {
           "style": "light"
          },
          "paper_bgcolor": "white",
          "plot_bgcolor": "white",
          "polar": {
           "angularaxis": {
            "gridcolor": "#EBF0F8",
            "linecolor": "#EBF0F8",
            "ticks": ""
           },
           "bgcolor": "white",
           "radialaxis": {
            "gridcolor": "#EBF0F8",
            "linecolor": "#EBF0F8",
            "ticks": ""
           }
          },
          "scene": {
           "xaxis": {
            "backgroundcolor": "white",
            "gridcolor": "#DFE8F3",
            "gridwidth": 2,
            "linecolor": "#EBF0F8",
            "showbackground": true,
            "ticks": "",
            "zerolinecolor": "#EBF0F8"
           },
           "yaxis": {
            "backgroundcolor": "white",
            "gridcolor": "#DFE8F3",
            "gridwidth": 2,
            "linecolor": "#EBF0F8",
            "showbackground": true,
            "ticks": "",
            "zerolinecolor": "#EBF0F8"
           },
           "zaxis": {
            "backgroundcolor": "white",
            "gridcolor": "#DFE8F3",
            "gridwidth": 2,
            "linecolor": "#EBF0F8",
            "showbackground": true,
            "ticks": "",
            "zerolinecolor": "#EBF0F8"
           }
          },
          "shapedefaults": {
           "line": {
            "color": "#2a3f5f"
           }
          },
          "ternary": {
           "aaxis": {
            "gridcolor": "#DFE8F3",
            "linecolor": "#A2B1C6",
            "ticks": ""
           },
           "baxis": {
            "gridcolor": "#DFE8F3",
            "linecolor": "#A2B1C6",
            "ticks": ""
           },
           "bgcolor": "white",
           "caxis": {
            "gridcolor": "#DFE8F3",
            "linecolor": "#A2B1C6",
            "ticks": ""
           }
          },
          "title": {
           "x": 0.05
          },
          "xaxis": {
           "automargin": true,
           "gridcolor": "#EBF0F8",
           "linecolor": "#EBF0F8",
           "ticks": "",
           "title": {
            "standoff": 15
           },
           "zerolinecolor": "#EBF0F8",
           "zerolinewidth": 2
          },
          "yaxis": {
           "automargin": true,
           "gridcolor": "#EBF0F8",
           "linecolor": "#EBF0F8",
           "ticks": "",
           "title": {
            "standoff": 15
           },
           "zerolinecolor": "#EBF0F8",
           "zerolinewidth": 2
          }
         }
        },
        "title": {
         "text": "[2021-03-26 10:58:40 AM] Episode: 2/2 Step: 201/200"
        },
        "xaxis": {
         "anchor": "y",
         "domain": [
          0,
          1
         ],
         "gridcolor": "Gainsboro",
         "linecolor": "Grey",
         "matches": "x4",
         "rangeslider": {
          "visible": false
         },
         "showticklabels": false,
         "title": {
          "font": {
           "size": 12
          },
          "standoff": 7,
          "text": "Price"
         }
        },
        "xaxis2": {
         "anchor": "y2",
         "domain": [
          0,
          1
         ],
         "gridcolor": "Gainsboro",
         "linecolor": "Grey",
         "matches": "x4",
         "showticklabels": false,
         "title": {
          "font": {
           "size": 12
          },
          "standoff": 7,
          "text": "Volume"
         }
        },
        "xaxis3": {
         "anchor": "y3",
         "domain": [
          0,
          1
         ],
         "gridcolor": "Gainsboro",
         "linecolor": "Grey",
         "matches": "x4",
         "showticklabels": false,
         "title": {
          "font": {
           "size": 12
          },
          "standoff": 7,
          "text": "Performance"
         }
        },
        "xaxis4": {
         "anchor": "y4",
         "domain": [
          0,
          1
         ],
         "gridcolor": "Gainsboro",
         "linecolor": "Grey",
         "title": {
          "font": {
           "size": 12
          },
          "standoff": 7,
          "text": "Net Worth"
         }
        },
        "yaxis": {
         "anchor": "x",
         "domain": [
          0.49950000000000006,
          1
         ],
         "gridcolor": "Gainsboro",
         "linecolor": "Grey"
        },
        "yaxis2": {
         "anchor": "x2",
         "domain": [
          0.333,
          0.46950000000000003
         ],
         "gridcolor": "Gainsboro",
         "linecolor": "Grey"
        },
        "yaxis3": {
         "anchor": "x3",
         "domain": [
          0.1665,
          0.30300000000000005
         ],
         "gridcolor": "Gainsboro",
         "linecolor": "Grey"
        },
        "yaxis4": {
         "anchor": "x4",
         "domain": [
          0,
          0.1365
         ],
         "gridcolor": "Gainsboro",
         "linecolor": "Grey"
        }
       }
      }
     },
     "metadata": {}
    },
    {
     "output_type": "execute_result",
     "data": {
      "text/plain": [
       "-996151.0028716873"
      ]
     },
     "metadata": {},
     "execution_count": 14
    }
   ],
   "source": [
    "agent = DQNAgent(env)\n",
    "\n",
    "agent.train(n_steps=200, n_episodes=2, save_path=\"agents/\")"
   ]
  },
  {
   "cell_type": "code",
   "execution_count": null,
   "metadata": {},
   "outputs": [],
   "source": []
  }
 ],
 "metadata": {
  "kernelspec": {
   "display_name": "Python 3",
   "language": "python",
   "name": "python3"
  },
  "language_info": {
   "codemirror_mode": {
    "name": "ipython",
    "version": 3
   },
   "file_extension": ".py",
   "mimetype": "text/x-python",
   "name": "python",
   "nbconvert_exporter": "python",
   "pygments_lexer": "ipython3",
   "version": "3.8.5-final"
  }
 },
 "nbformat": 4,
 "nbformat_minor": 4
}